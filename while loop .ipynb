{
 "cells": [
  {
   "cell_type": "markdown",
   "id": "ce8e6658-d34e-47d3-a424-441fd38d600b",
   "metadata": {},
   "source": [
    "while condition:\n",
    "    stmt\n",
    "    iteration"
   ]
  },
  {
   "cell_type": "code",
   "execution_count": 17,
   "id": "7e4ef7ce-3918-4427-9067-04dee5f30c3d",
   "metadata": {},
   "outputs": [
    {
     "name": "stdout",
     "output_type": "stream",
     "text": [
      "0\n",
      "1\n",
      "2\n",
      "3\n",
      "4\n",
      "5\n"
     ]
    }
   ],
   "source": [
    "count = 0\n",
    "while count<=5:\n",
    "    print(count)\n",
    "    count+=1\n",
    "\n"
   ]
  },
  {
   "cell_type": "code",
   "execution_count": 13,
   "id": "46fd3bbd-51fa-4e87-bab2-ba7dd3042097",
   "metadata": {},
   "outputs": [
    {
     "name": "stdout",
     "output_type": "stream",
     "text": [
      " Count no longer less than 5\n"
     ]
    }
   ],
   "source": [
    "count =0 \n",
    "while count>=5:\n",
    "    print(count)\n",
    "    count+=1\n",
    "else:\n",
    "    print(\" Count no longer less than 5\")\n",
    "\n"
   ]
  },
  {
   "cell_type": "code",
   "execution_count": 21,
   "id": "f5ef4c88-193e-4585-a83b-805478f405e5",
   "metadata": {},
   "outputs": [
    {
     "name": "stdout",
     "output_type": "stream",
     "text": [
      "0\n",
      "1\n",
      "looop terminated\n"
     ]
    }
   ],
   "source": [
    "#break \n",
    "\n",
    "count = 0\n",
    "while True:\n",
    "    if count==2:\n",
    "        break\n",
    "    print(count)\n",
    "    count+=1\n",
    "print(\"looop terminated\")\n"
   ]
  },
  {
   "cell_type": "code",
   "execution_count": 29,
   "id": "b0771ff1-e9f2-470f-8395-1141e13750bb",
   "metadata": {},
   "outputs": [
    {
     "name": "stdout",
     "output_type": "stream",
     "text": [
      "1\n",
      "2\n",
      "3\n",
      "4\n",
      "5\n"
     ]
    }
   ],
   "source": [
    "#continue\n",
    "\n",
    "count = 0\n",
    "while count<5:\n",
    "    count += 1\n",
    "    if count == 2: \n",
    "        continue\n",
    "    print(count)\n"
   ]
  },
  {
   "cell_type": "code",
   "execution_count": 31,
   "id": "114725a5-aa4e-4b94-9e42-49d6d8bc9710",
   "metadata": {},
   "outputs": [
    {
     "name": "stdout",
     "output_type": "stream",
     "text": [
      "0\n",
      "1\n",
      "2\n",
      " loop ended\n"
     ]
    }
   ],
   "source": [
    "count = 0\n",
    "while count<5:\n",
    "    print(count)\n",
    "    count +=1\n",
    "    if count ==3:\n",
    "        break\n",
    "else:\n",
    "    print(\"loop completed Normally\")\n",
    "print(\" loop ended\")\n"
   ]
  },
  {
   "cell_type": "code",
   "execution_count": 33,
   "id": "11d8660b-a38b-48fb-aaeb-034fdeb6eddc",
   "metadata": {},
   "outputs": [
    {
     "name": "stdout",
     "output_type": "stream",
     "text": [
      "1\n",
      "2\n",
      "4\n",
      "5\n",
      "loop completed Normally\n",
      " loop ended\n"
     ]
    }
   ],
   "source": [
    "count = 0\n",
    "while count<5:\n",
    "    count +=1\n",
    "    if count ==3:\n",
    "        continue\n",
    "    print(count)\n",
    "else:\n",
    "    print(\"loop completed Normally\")\n",
    "print(\" loop ended\")"
   ]
  },
  {
   "cell_type": "code",
   "execution_count": 42,
   "id": "c57d1fa6-39f4-4451-ad8e-bfbed9bb9623",
   "metadata": {},
   "outputs": [
    {
     "name": "stdout",
     "output_type": "stream",
     "text": [
      "i:0, j: 2\n",
      "i:0, j: 3\n",
      "i:0, j: 4\n",
      "i:1, j: 1\n",
      "i:1, j: 3\n",
      "i:1, j: 4\n",
      "i:2, j: 1\n",
      "i:2, j: 2\n",
      "i:2, j: 4\n"
     ]
    }
   ],
   "source": [
    "#nested while \n",
    "i=0\n",
    "while i<3:\n",
    "    j=0\n",
    "    while j<4:\n",
    "        if i == j:\n",
    "            j += 1\n",
    "            continue\n",
    "        j += 1\n",
    "        print(f\"i:{i}, j: {j}\")\n",
    "    i +=1\n",
    "        \n",
    "\n",
    "\n"
   ]
  },
  {
   "cell_type": "code",
   "execution_count": 44,
   "id": "43681649-a1c9-43ee-a347-a3ee1daaacf9",
   "metadata": {},
   "outputs": [
    {
     "name": "stdout",
     "output_type": "stream",
     "text": [
      "i:0, j: 1\n",
      "i:0, j: 2\n",
      "i:0, j: 3\n",
      "i:1, j: 0\n",
      "i:1, j: 2\n",
      "i:1, j: 3\n",
      "i:2, j: 0\n",
      "i:2, j: 1\n",
      "i:2, j: 3\n"
     ]
    }
   ],
   "source": [
    "#nested while \n",
    "i=0\n",
    "while i<3:\n",
    "    j=0\n",
    "    while j<4:\n",
    "        if i == j:\n",
    "            j += 1\n",
    "            continue\n",
    "        print(f\"i:{i}, j: {j}\")\n",
    "        j += 1\n",
    "    i +=1\n",
    "        \n",
    "\n",
    "\n"
   ]
  },
  {
   "cell_type": "code",
   "execution_count": null,
   "id": "ababdd69-e5df-40f1-aebf-4080412de009",
   "metadata": {},
   "outputs": [],
   "source": []
  }
 ],
 "metadata": {
  "kernelspec": {
   "display_name": "Python 3 (ipykernel)",
   "language": "python",
   "name": "python3"
  },
  "language_info": {
   "codemirror_mode": {
    "name": "ipython",
    "version": 3
   },
   "file_extension": ".py",
   "mimetype": "text/x-python",
   "name": "python",
   "nbconvert_exporter": "python",
   "pygments_lexer": "ipython3",
   "version": "3.12.4"
  }
 },
 "nbformat": 4,
 "nbformat_minor": 5
}
