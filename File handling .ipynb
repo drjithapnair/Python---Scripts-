{
 "cells": [
  {
   "cell_type": "markdown",
   "id": "6201fca0-12cf-4047-b703-164344956fa4",
   "metadata": {},
   "source": [
    "#syntax \n",
    "# f1 = open(\"path\", \"mode\")\n",
    "#stmt"
   ]
  },
  {
   "cell_type": "code",
   "execution_count": 3,
   "id": "a08a6aa5-bbbb-4e62-97d4-947ef8b3117b",
   "metadata": {},
   "outputs": [
    {
     "name": "stdout",
     "output_type": "stream",
     "text": [
      "11\n"
     ]
    }
   ],
   "source": [
    "f1 = open('test.txt','w')\n",
    "content = f1.write(\"hello world\")\n",
    "print(content)\n",
    "f1.close()"
   ]
  },
  {
   "cell_type": "code",
   "execution_count": 1,
   "id": "80f6b122-b957-4a2e-9493-d2d3c5c2f81a",
   "metadata": {},
   "outputs": [
    {
     "data": {
      "text/plain": [
       "'hello Jitha'"
      ]
     },
     "execution_count": 1,
     "metadata": {},
     "output_type": "execute_result"
    }
   ],
   "source": [
    "f2 = open('test.txt','r')\n",
    "f2.read()\n"
   ]
  },
  {
   "cell_type": "code",
   "execution_count": 7,
   "id": "05af61bc-18c2-45d9-92ce-aab5f81a01b3",
   "metadata": {},
   "outputs": [],
   "source": [
    "f2.close()"
   ]
  },
  {
   "cell_type": "code",
   "execution_count": 9,
   "id": "b1507e85-8986-478c-8d27-5fc6d1891ea2",
   "metadata": {},
   "outputs": [
    {
     "name": "stdout",
     "output_type": "stream",
     "text": [
      "30\n"
     ]
    }
   ],
   "source": [
    "f3 = open('test.txt','a')\n",
    "content = f3.write(\" \\n hello hai all good evevning\")\n",
    "print(content)\n",
    "f3.close()"
   ]
  },
  {
   "cell_type": "code",
   "execution_count": 11,
   "id": "ac51eea4-5101-4896-91f7-8d005acf15c6",
   "metadata": {},
   "outputs": [
    {
     "name": "stdout",
     "output_type": "stream",
     "text": [
      "30\n"
     ]
    }
   ],
   "source": [
    "f3 = open('test.txt','a')\n",
    "content = f3.write(\" \\n hello hai all good evevning\")\n",
    "print(content)\n",
    "f3.close()"
   ]
  },
  {
   "cell_type": "code",
   "execution_count": 13,
   "id": "465efa80-c4c9-43c1-b1d4-16e364f96ad2",
   "metadata": {},
   "outputs": [
    {
     "data": {
      "text/plain": [
       "'hello worldDSML Malayalam hello hai all good evevning \\n'"
      ]
     },
     "execution_count": 13,
     "metadata": {},
     "output_type": "execute_result"
    }
   ],
   "source": [
    "f2 = open('test.txt','r')\n",
    "f2.readline()\n"
   ]
  },
  {
   "cell_type": "code",
   "execution_count": 15,
   "id": "c2166ba3-694a-4c04-b54c-be3d480c2807",
   "metadata": {},
   "outputs": [
    {
     "data": {
      "text/plain": [
       "['hello worldDSML Malayalam hello hai all good evevning \\n',\n",
       " ' hello hai all good evevning \\n',\n",
       " ' hello hai all good evevning']"
      ]
     },
     "execution_count": 15,
     "metadata": {},
     "output_type": "execute_result"
    }
   ],
   "source": [
    "f2 = open('test.txt','r')\n",
    "f2.readlines()\n"
   ]
  },
  {
   "cell_type": "code",
   "execution_count": 29,
   "id": "af4df9bf-b37f-49af-9f98-fb544a407e79",
   "metadata": {},
   "outputs": [
    {
     "name": "stdout",
     "output_type": "stream",
     "text": [
      "40\n"
     ]
    }
   ],
   "source": [
    "f3 = open('test.txt','w')\n",
    "content = f3.write(\"this program deals with machine learning\")\n",
    "print(content)\n",
    "f3.close()\n"
   ]
  },
  {
   "cell_type": "code",
   "execution_count": 19,
   "id": "0e664e73-e2ba-4cab-a096-c05d7054ad39",
   "metadata": {},
   "outputs": [
    {
     "data": {
      "text/plain": [
       "'this program deals with machine learning'"
      ]
     },
     "execution_count": 19,
     "metadata": {},
     "output_type": "execute_result"
    }
   ],
   "source": [
    "f5 = open('test.txt','r')\n",
    "f5.read()\n"
   ]
  },
  {
   "cell_type": "code",
   "execution_count": 5,
   "id": "e1dd392a-ab81-4f0a-9902-215156ecb4e0",
   "metadata": {},
   "outputs": [
    {
     "name": "stdout",
     "output_type": "stream",
     "text": [
      "14\n"
     ]
    }
   ],
   "source": [
    "f3 = open('test.txt','a')\n",
    "content = f3.write(\"DSML Malayalam\")\n",
    "print(content)\n",
    "f3.close()"
   ]
  },
  {
   "cell_type": "code",
   "execution_count": 21,
   "id": "3df94b1d-d041-4482-b0a5-867048e8b3cb",
   "metadata": {},
   "outputs": [
    {
     "data": {
      "text/plain": [
       "'this program deals with machine learning'"
      ]
     },
     "execution_count": 21,
     "metadata": {},
     "output_type": "execute_result"
    }
   ],
   "source": [
    "f5 = open('test.txt','r')\n",
    "f5.read()\n"
   ]
  },
  {
   "cell_type": "code",
   "execution_count": 23,
   "id": "72e50a0f-3785-48b6-8425-f8f03046c8fc",
   "metadata": {},
   "outputs": [
    {
     "name": "stdout",
     "output_type": "stream",
     "text": [
      "this program deals with machine learning\n"
     ]
    }
   ],
   "source": [
    "with open('test.txt','r') as file:\n",
    "    content = file.read()\n",
    "    print(content)"
   ]
  },
  {
   "cell_type": "code",
   "execution_count": 31,
   "id": "025e74b2-c50e-4e53-91bf-4762b20e9021",
   "metadata": {},
   "outputs": [],
   "source": [
    "with open ('test.txt','w') as file:\n",
    "    file.write(\"hello Jitha\")"
   ]
  },
  {
   "cell_type": "code",
   "execution_count": 100,
   "id": "46fcfc2f-7bcc-4073-9c94-314a98458d39",
   "metadata": {},
   "outputs": [
    {
     "name": "stdout",
     "output_type": "stream",
     "text": [
      "hello Jitha\n"
     ]
    }
   ],
   "source": [
    "with open('test.txt','r')as file:\n",
    "    for line in file:\n",
    "        line = line.strip()\n",
    "        print(line)"
   ]
  },
  {
   "cell_type": "markdown",
   "id": "1f05171f-6546-4776-acfd-cf56615651c7",
   "metadata": {},
   "source": [
    "Exception Handling \n"
   ]
  },
  {
   "cell_type": "code",
   "execution_count": 33,
   "id": "923c484b-d2d2-44bd-b3be-2215a2bafb91",
   "metadata": {},
   "outputs": [
    {
     "name": "stdout",
     "output_type": "stream",
     "text": [
      "2.0\n",
      "program exceuted\n"
     ]
    }
   ],
   "source": [
    "a= 10\n",
    "b= 5\n",
    "c= a/b\n",
    "print (c)\n",
    "print (\"program exceuted\")"
   ]
  },
  {
   "cell_type": "code",
   "execution_count": 35,
   "id": "88ead4a6-1de5-4c1f-8345-e432fb4f9d8a",
   "metadata": {},
   "outputs": [
    {
     "ename": "ZeroDivisionError",
     "evalue": "division by zero",
     "output_type": "error",
     "traceback": [
      "\u001b[1;31m---------------------------------------------------------------------------\u001b[0m",
      "\u001b[1;31mZeroDivisionError\u001b[0m                         Traceback (most recent call last)",
      "Cell \u001b[1;32mIn[35], line 3\u001b[0m\n\u001b[0;32m      1\u001b[0m a\u001b[38;5;241m=\u001b[39m \u001b[38;5;241m10\u001b[39m\n\u001b[0;32m      2\u001b[0m b\u001b[38;5;241m=\u001b[39m \u001b[38;5;241m0\u001b[39m\n\u001b[1;32m----> 3\u001b[0m c\u001b[38;5;241m=\u001b[39m a\u001b[38;5;241m/\u001b[39mb\n\u001b[0;32m      4\u001b[0m \u001b[38;5;28mprint\u001b[39m (c)\n\u001b[0;32m      5\u001b[0m \u001b[38;5;28mprint\u001b[39m (\u001b[38;5;124m\"\u001b[39m\u001b[38;5;124mprogram exceuted\u001b[39m\u001b[38;5;124m\"\u001b[39m)\n",
      "\u001b[1;31mZeroDivisionError\u001b[0m: division by zero"
     ]
    }
   ],
   "source": [
    "a= 10\n",
    "b= 0\n",
    "c= a/b\n",
    "print (c)\n",
    "print (\"program exceuted\")"
   ]
  },
  {
   "cell_type": "code",
   "execution_count": 37,
   "id": "40dd0077-bed4-40b1-b9b8-7cf24d8998cb",
   "metadata": {},
   "outputs": [],
   "source": [
    "l1 = [2,3,4,5,6,7]"
   ]
  },
  {
   "cell_type": "code",
   "execution_count": 39,
   "id": "d44f89ff-a20f-4ec6-98ee-f269cf6297e0",
   "metadata": {},
   "outputs": [
    {
     "name": "stdout",
     "output_type": "stream",
     "text": [
      "4\n"
     ]
    }
   ],
   "source": [
    "print(l1[2])"
   ]
  },
  {
   "cell_type": "code",
   "execution_count": 41,
   "id": "447b61da-14bc-474c-8a56-30d8ab475b6c",
   "metadata": {},
   "outputs": [
    {
     "ename": "IndexError",
     "evalue": "list index out of range",
     "output_type": "error",
     "traceback": [
      "\u001b[1;31m---------------------------------------------------------------------------\u001b[0m",
      "\u001b[1;31mIndexError\u001b[0m                                Traceback (most recent call last)",
      "Cell \u001b[1;32mIn[41], line 1\u001b[0m\n\u001b[1;32m----> 1\u001b[0m \u001b[38;5;28mprint\u001b[39m(l1[\u001b[38;5;241m6\u001b[39m])\n",
      "\u001b[1;31mIndexError\u001b[0m: list index out of range"
     ]
    }
   ],
   "source": [
    "print(l1[6])"
   ]
  },
  {
   "cell_type": "code",
   "execution_count": 71,
   "id": "cc118aa0-9234-4244-a397-1f2ddf29fad7",
   "metadata": {},
   "outputs": [
    {
     "name": "stdout",
     "output_type": "stream",
     "text": [
      "5.0\n",
      " not in list\n",
      "program exceuted\n"
     ]
    }
   ],
   "source": [
    "try:\n",
    "    a= 10\n",
    "    b= 2\n",
    "    c= a/b\n",
    "    print(c)\n",
    "    l1 = [2,3,4,5,6,7]\n",
    "    print(l1[6]) \n",
    "except ZeroDivisionError:\n",
    "    print(\"Cannot divide by Zero\")\n",
    "except IndexError:\n",
    "    print (\" not in list\")\n",
    "print (\"program exceuted\")"
   ]
  },
  {
   "cell_type": "code",
   "execution_count": 75,
   "id": "7e712819-8a0c-4a8d-9e1b-9eb658426285",
   "metadata": {},
   "outputs": [
    {
     "name": "stdout",
     "output_type": "stream",
     "text": [
      "4\n",
      "Cannot divide by Zero\n",
      "hello\n",
      "the program uses finally\n"
     ]
    }
   ],
   "source": [
    "try:\n",
    "    l1 = [2,3,4,5,6,7]\n",
    "    print(l1[2]) \n",
    "    a= 10\n",
    "    b= 0\n",
    "    c= a/b\n",
    "    print(c)\n",
    "except ZeroDivisionError:\n",
    "    print(\"Cannot divide by Zero\")\n",
    "except IndexError:\n",
    "    print (\" not in list\")\n",
    "else:\n",
    "    print (\"program exceuted\")\n",
    "finally:\n",
    "    print(\"hello\")\n",
    "    print(\"the program uses finally\")\n",
    "    \n",
    "\n"
   ]
  },
  {
   "cell_type": "code",
   "execution_count": null,
   "id": "499d7336-5d90-4d3a-827f-e475115c572c",
   "metadata": {},
   "outputs": [],
   "source": []
  }
 ],
 "metadata": {
  "kernelspec": {
   "display_name": "Python 3 (ipykernel)",
   "language": "python",
   "name": "python3"
  },
  "language_info": {
   "codemirror_mode": {
    "name": "ipython",
    "version": 3
   },
   "file_extension": ".py",
   "mimetype": "text/x-python",
   "name": "python",
   "nbconvert_exporter": "python",
   "pygments_lexer": "ipython3",
   "version": "3.12.4"
  }
 },
 "nbformat": 4,
 "nbformat_minor": 5
}
