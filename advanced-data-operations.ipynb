{
 "cells": [
  {
   "cell_type": "code",
   "execution_count": 1,
   "id": "76fab906",
   "metadata": {},
   "outputs": [],
   "source": [
    "import pandas as pd\n",
    "import numpy as np\n",
    "import matplotlib.pyplot as plt"
   ]
  },
  {
   "cell_type": "code",
   "execution_count": 2,
   "id": "5509010a",
   "metadata": {},
   "outputs": [],
   "source": [
    "# Create a more complex dataset\n",
    "np.random.seed(42)\n",
    "dates = pd.date_range(start='2023-01-01', end='2023-12-31', freq='D')\n",
    "products = ['A', 'B', 'C', 'D']\n",
    "regions = ['North', 'South', 'East', 'West']"
   ]
  },
  {
   "cell_type": "code",
   "execution_count": 3,
   "id": "652e5566",
   "metadata": {},
   "outputs": [],
   "source": [
    "data = {\n",
    "    'Date': np.repeat(dates, len(products) * len(regions)),\n",
    "    'Product': np.tile(np.repeat(products, len(regions)), len(dates)),\n",
    "    'Region': np.tile(regions, len(dates) * len(products)),\n",
    "    'Sales': np.random.randint(100, 1000, size=len(dates) * len(products) * len(regions)),\n",
    "    'Returns': np.random.randint(0, 50, size=len(dates) * len(products) * len(regions))\n",
    "}"
   ]
  },
  {
   "cell_type": "code",
   "execution_count": 4,
   "id": "4f8933e6",
   "metadata": {},
   "outputs": [],
   "source": [
    "df = pd.DataFrame(data)"
   ]
  },
  {
   "cell_type": "code",
   "execution_count": 5,
   "id": "f8094fb5",
   "metadata": {},
   "outputs": [
    {
     "name": "stdout",
     "output_type": "stream",
     "text": [
      "Advanced Data Exploration and Wrangling:\n"
     ]
    }
   ],
   "source": [
    "print(\"Advanced Data Exploration and Wrangling:\")"
   ]
  },
  {
   "cell_type": "code",
   "execution_count": 6,
   "id": "9fa6f2d6",
   "metadata": {},
   "outputs": [
    {
     "name": "stdout",
     "output_type": "stream",
     "text": [
      "\n",
      " Calculating 7-day rolling average of sales:\n",
      "         Date Product Region  Sales  7_day_avg\n",
      "0  2023-01-01       A  North    202        NaN\n",
      "15 2023-01-01       D   West    472        NaN\n",
      "14 2023-01-01       D   East    187        NaN\n",
      "13 2023-01-01       D  South    558        NaN\n",
      "12 2023-01-01       D  North    430        NaN\n",
      "10 2023-01-01       C   East    566        NaN\n",
      "9  2023-01-01       C  South    221        NaN\n",
      "8  2023-01-01       C  North    714        NaN\n",
      "11 2023-01-01       C   West    314        NaN\n",
      "6  2023-01-01       B   East    800        NaN\n"
     ]
    }
   ],
   "source": [
    "#  Rolling statistics\n",
    "print(\"\\n Calculating 7-day rolling average of sales:\")\n",
    "df['Date'] = pd.to_datetime(df['Date'])\n",
    "df_sorted = df.sort_values('Date')\n",
    "df_sorted['7_day_avg'] = df_sorted.groupby(['Product', 'Region'])['Sales'].transform(lambda x: x.rolling(7).mean())\n",
    "print(df_sorted[['Date', 'Product', 'Region', 'Sales', '7_day_avg']].head(10))"
   ]
  },
  {
   "cell_type": "code",
   "execution_count": 7,
   "id": "ece04fda",
   "metadata": {
    "lines_to_next_cell": 1
   },
   "outputs": [
    {
     "name": "stdout",
     "output_type": "stream",
     "text": [
      "\n",
      " Applying a custom function to calculate profit:\n"
     ]
    }
   ],
   "source": [
    "# Applying custom functions\n",
    "print(\"\\n Applying a custom function to calculate profit:\")\n",
    "def calculate_profit(row):\n",
    "    return row['Sales'] - (row['Returns'] * 0.5 * row['Sales'] / (row['Sales'] + row['Returns']))"
   ]
  },
  {
   "cell_type": "code",
   "execution_count": 8,
   "id": "3b6acea7",
   "metadata": {},
   "outputs": [
    {
     "name": "stdout",
     "output_type": "stream",
     "text": [
      "   Sales  Returns      Profit\n",
      "0    202       12  196.336449\n",
      "1    535       10  530.091743\n",
      "2    960       15  952.615385\n",
      "3    370        7  366.564987\n",
      "4    206       39  189.604082\n"
     ]
    }
   ],
   "source": [
    "df['Profit'] = df.apply(calculate_profit, axis=1)\n",
    "print(df[['Sales', 'Returns', 'Profit']].head())"
   ]
  },
  {
   "cell_type": "code",
   "execution_count": 9,
   "id": "a63f6d88",
   "metadata": {},
   "outputs": [
    {
     "name": "stdout",
     "output_type": "stream",
     "text": [
      "\n",
      " Grouping by multiple columns with different aggregations:\n",
      "                 Sales                  Returns                    Profit  \\\n",
      "                   sum        mean  max     sum       mean            sum   \n",
      "Product Region                                                              \n",
      "A       East    194446  532.728767  998    8480  23.232877  190500.085162   \n",
      "        North   198646  544.235616  996    8280  22.684932  194799.664093   \n",
      "        South   209480  573.917808  998    8903  24.391781  205329.849624   \n",
      "        West    203030  556.246575  995    9247  25.334247  198749.493405   \n",
      "B       East    202677  555.279452  999    8928  24.460274  198531.320802   \n",
      "        North   199182  545.704110  999    8954  24.531507  195042.112827   \n",
      "        South   198315  543.328767  999    9240  25.315068  194047.130479   \n",
      "        West    197048  539.857534  999    8893  24.364384  192927.035830   \n",
      "C       East    208116  570.180822  999    9170  25.123288  203877.216371   \n",
      "        North   197224  540.339726  992    9051  24.797260  193047.237708   \n",
      "        South   199453  546.446575  998    8629  23.641096  195442.003828   \n",
      "        West    205051  561.783562  999    8893  24.364384  200929.309415   \n",
      "D       East    207237  567.772603  994    8893  24.364384  203122.381895   \n",
      "        North   197013  539.761644  999    8743  23.953425  192964.427505   \n",
      "        South   201264  551.408219  996    9177  25.142466  197019.295712   \n",
      "        West    207357  568.101370  998    8815  24.150685  203255.375326   \n",
      "\n",
      "                            \n",
      "                      mean  \n",
      "Product Region              \n",
      "A       East    521.918042  \n",
      "        North   533.697710  \n",
      "        South   562.547533  \n",
      "        West    544.519160  \n",
      "B       East    543.921427  \n",
      "        North   534.361953  \n",
      "        South   531.635974  \n",
      "        West    528.567221  \n",
      "C       East    558.567716  \n",
      "        North   528.896542  \n",
      "        South   535.457545  \n",
      "        West    550.491259  \n",
      "D       East    556.499676  \n",
      "        North   528.669664  \n",
      "        South   539.778892  \n",
      "        West    556.864042  \n"
     ]
    }
   ],
   "source": [
    "# Advanced grouping and aggregation\n",
    "print(\"\\n Grouping by multiple columns with different aggregations:\")\n",
    "grouped = df.groupby(['Product', 'Region']).agg({\n",
    "    'Sales': ['sum', 'mean', 'max'],\n",
    "    'Returns': ['sum', 'mean'],\n",
    "    'Profit': ['sum', 'mean']\n",
    "})\n",
    "print(grouped)"
   ]
  },
  {
   "cell_type": "code",
   "execution_count": 10,
   "id": "75b3edbb",
   "metadata": {},
   "outputs": [
    {
     "name": "stdout",
     "output_type": "stream",
     "text": [
      "\n",
      " Extracting time components:\n",
      "        Date  Year  Month  DayOfWeek\n",
      "0 2023-01-01  2023      1          6\n",
      "1 2023-01-01  2023      1          6\n",
      "2 2023-01-01  2023      1          6\n",
      "3 2023-01-01  2023      1          6\n",
      "4 2023-01-01  2023      1          6\n"
     ]
    }
   ],
   "source": [
    "#  Time series analysis\n",
    "print(\"\\n Extracting time components:\")\n",
    "df['Year'] = df['Date'].dt.year\n",
    "df['Month'] = df['Date'].dt.month\n",
    "df['DayOfWeek'] = df['Date'].dt.dayofweek\n",
    "print(df[['Date', 'Year', 'Month', 'DayOfWeek']].head())"
   ]
  },
  {
   "cell_type": "markdown",
   "id": "32ea9a03",
   "metadata": {},
   "source": [
    "8. Data visualization (commented out as it can't be displayed in this environment)\n",
    "plt.figure(figsize=(12, 6))\n",
    "df.groupby('Product')['Sales'].sum().plot(kind='bar')\n",
    "plt.title('Total Sales by Product')\n",
    "plt.xlabel('Product')\n",
    "plt.ylabel('Total Sales')\n",
    "plt.show()"
   ]
  },
  {
   "cell_type": "code",
   "execution_count": 12,
   "id": "5a05bbd5",
   "metadata": {},
   "outputs": [
    {
     "name": "stdout",
     "output_type": "stream",
     "text": [
      "\n",
      " Handling missing data:\n",
      "Missing values:\n",
      "Date           0\n",
      "Product        0\n",
      "Region         0\n",
      "Sales          0\n",
      "Returns      664\n",
      "Profit         0\n",
      "Year           0\n",
      "Month          0\n",
      "DayOfWeek      0\n",
      "dtype: int64\n",
      "\n",
      "Filling missing values with median of each product:\n",
      "   Product  Sales  Returns\n",
      "2        A    960     23.0\n",
      "17       A    971     23.0\n",
      "26       C    905     24.0\n",
      "36       B    956     24.0\n",
      "48       A    975     23.0\n"
     ]
    }
   ],
   "source": [
    "# Handling missing data (creating some missing values for demonstration)\n",
    "df.loc[df['Sales'] > 900, 'Returns'] = np.nan\n",
    "print(\"\\n Handling missing data:\")\n",
    "print(\"Missing values:\")\n",
    "print(df.isnull().sum())\n",
    "print(\"\\nFilling missing values with median of each product:\")\n",
    "df['Returns'] = df.groupby('Product')['Returns'].transform(lambda x: x.fillna(x.median()))\n",
    "print(df[df['Sales'] > 900][['Product', 'Sales', 'Returns']].head())"
   ]
  },
  {
   "cell_type": "code",
   "execution_count": 13,
   "id": "8c4549e6",
   "metadata": {},
   "outputs": [],
   "source": [
    "# Merging multiple dataframes\n",
    "product_info = pd.DataFrame({\n",
    "    'Product': products,\n",
    "    'Category': ['Electronics', 'Clothing', 'Home', 'Sports']\n",
    "})"
   ]
  },
  {
   "cell_type": "code",
   "execution_count": 14,
   "id": "8532549d",
   "metadata": {},
   "outputs": [],
   "source": [
    "region_info = pd.DataFrame({\n",
    "    'Region': regions,\n",
    "    'Manager': ['John', 'Emma', 'Michael', 'Sophia']\n",
    "})"
   ]
  },
  {
   "cell_type": "code",
   "execution_count": 15,
   "id": "1f2fefff",
   "metadata": {},
   "outputs": [
    {
     "name": "stdout",
     "output_type": "stream",
     "text": [
      "\n",
      " Merging multiple dataframes:\n",
      "        Date Product Region  Sales  Returns      Profit  Year  Month  \\\n",
      "0 2023-01-01       A  North    202     12.0  196.336449  2023      1   \n",
      "1 2023-01-01       A  South    535     10.0  530.091743  2023      1   \n",
      "2 2023-01-01       A   East    960     23.0  952.615385  2023      1   \n",
      "3 2023-01-01       A   West    370      7.0  366.564987  2023      1   \n",
      "4 2023-01-01       B  North    206     39.0  189.604082  2023      1   \n",
      "\n",
      "   DayOfWeek     Category  Manager  \n",
      "0          6  Electronics     John  \n",
      "1          6  Electronics     Emma  \n",
      "2          6  Electronics  Michael  \n",
      "3          6  Electronics   Sophia  \n",
      "4          6     Clothing     John  \n"
     ]
    }
   ],
   "source": [
    "print(\"\\n Merging multiple dataframes:\")\n",
    "df_merged = df.merge(product_info, on='Product').merge(region_info, on='Region')\n",
    "print(df_merged.head())"
   ]
  }
 ],
 "metadata": {
  "jupytext": {
   "cell_metadata_filter": "-all",
   "main_language": "python",
   "notebook_metadata_filter": "-all"
  },
  "kernelspec": {
   "display_name": "Python 3 (ipykernel)",
   "language": "python",
   "name": "python3"
  },
  "language_info": {
   "codemirror_mode": {
    "name": "ipython",
    "version": 3
   },
   "file_extension": ".py",
   "mimetype": "text/x-python",
   "name": "python",
   "nbconvert_exporter": "python",
   "pygments_lexer": "ipython3",
   "version": "3.12.4"
  }
 },
 "nbformat": 4,
 "nbformat_minor": 5
}
