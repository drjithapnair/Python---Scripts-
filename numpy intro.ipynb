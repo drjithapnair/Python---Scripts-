{
 "cells": [
  {
   "cell_type": "code",
   "execution_count": 1,
   "id": "30558857",
   "metadata": {},
   "outputs": [],
   "source": [
    "import numpy as np"
   ]
  },
  {
   "cell_type": "code",
   "execution_count": null,
   "id": "b16c68e8-608a-447c-8cc4-2ea495b1711d",
   "metadata": {},
   "outputs": [],
   "source": [
    "pip install numpy"
   ]
  },
  {
   "cell_type": "code",
   "execution_count": 3,
   "id": "7f945d8c-e9e9-4207-a127-791520cfb8ab",
   "metadata": {},
   "outputs": [],
   "source": [
    "a = np.array([1,2,3,4,5])"
   ]
  },
  {
   "cell_type": "code",
   "execution_count": 5,
   "id": "2fb187f1-8748-437f-acd8-90173de84e3c",
   "metadata": {},
   "outputs": [
    {
     "data": {
      "text/plain": [
       "array([1, 2, 3, 4, 5])"
      ]
     },
     "execution_count": 5,
     "metadata": {},
     "output_type": "execute_result"
    }
   ],
   "source": [
    "a"
   ]
  },
  {
   "cell_type": "code",
   "execution_count": 7,
   "id": "ab7e2b95",
   "metadata": {},
   "outputs": [],
   "source": [
    "# Creating arrays\n",
    "a = np.array([1, 2, 3, 4, 5])\n",
    "b = np.array([[1, 2, 3], [4, 5, 6]])"
   ]
  },
  {
   "cell_type": "code",
   "execution_count": 9,
   "id": "78c39328-d3a0-4cda-af8c-7215510ed375",
   "metadata": {},
   "outputs": [
    {
     "data": {
      "text/plain": [
       "(5,)"
      ]
     },
     "execution_count": 9,
     "metadata": {},
     "output_type": "execute_result"
    }
   ],
   "source": [
    "a.shape"
   ]
  },
  {
   "cell_type": "code",
   "execution_count": 11,
   "id": "9ebdae19-98a0-4ec9-aacf-9eef90bf4781",
   "metadata": {},
   "outputs": [
    {
     "data": {
      "text/plain": [
       "(2, 3)"
      ]
     },
     "execution_count": 11,
     "metadata": {},
     "output_type": "execute_result"
    }
   ],
   "source": [
    "b.shape"
   ]
  },
  {
   "cell_type": "code",
   "execution_count": null,
   "id": "28a9a7a5-9744-49be-bcc7-3efed2f2046f",
   "metadata": {},
   "outputs": [],
   "source": []
  },
  {
   "cell_type": "code",
   "execution_count": 13,
   "id": "d74f8fda-4873-43b6-ad50-ddf8e6aa554c",
   "metadata": {},
   "outputs": [
    {
     "data": {
      "text/plain": [
       "1"
      ]
     },
     "execution_count": 13,
     "metadata": {},
     "output_type": "execute_result"
    }
   ],
   "source": [
    "a.ndim"
   ]
  },
  {
   "cell_type": "code",
   "execution_count": 15,
   "id": "04d8cda7-cc84-48a8-b615-d40a39fe105c",
   "metadata": {},
   "outputs": [
    {
     "data": {
      "text/plain": [
       "2"
      ]
     },
     "execution_count": 15,
     "metadata": {},
     "output_type": "execute_result"
    }
   ],
   "source": [
    "b.ndim"
   ]
  },
  {
   "cell_type": "code",
   "execution_count": 17,
   "id": "6a14bfa5-4e87-46a5-84b1-c28a015cbf2b",
   "metadata": {},
   "outputs": [
    {
     "data": {
      "text/plain": [
       "dtype('int32')"
      ]
     },
     "execution_count": 17,
     "metadata": {},
     "output_type": "execute_result"
    }
   ],
   "source": [
    "a.dtype"
   ]
  },
  {
   "cell_type": "code",
   "execution_count": 19,
   "id": "0663b7da-07b6-47a7-98d6-d3d879c225e8",
   "metadata": {},
   "outputs": [
    {
     "data": {
      "text/plain": [
       "array([1., 2., 3., 4., 5.])"
      ]
     },
     "execution_count": 19,
     "metadata": {},
     "output_type": "execute_result"
    }
   ],
   "source": [
    "z= np.array([1, 2, 3, 4, 5],dtype= float)\n",
    "z"
   ]
  },
  {
   "cell_type": "code",
   "execution_count": 21,
   "id": "2287b2eb-082f-415e-a482-84277f54805c",
   "metadata": {},
   "outputs": [
    {
     "data": {
      "text/plain": [
       "dtype('float64')"
      ]
     },
     "execution_count": 21,
     "metadata": {},
     "output_type": "execute_result"
    }
   ],
   "source": [
    "z.dtype"
   ]
  },
  {
   "cell_type": "code",
   "execution_count": 23,
   "id": "59983de1",
   "metadata": {},
   "outputs": [
    {
     "name": "stdout",
     "output_type": "stream",
     "text": [
      "1D array: [1 2 3 4 5]\n",
      "2D array:\n",
      " [[1 2 3]\n",
      " [4 5 6]]\n"
     ]
    }
   ],
   "source": [
    "print(\"1D array:\", a)\n",
    "print(\"2D array:\\n\", b)"
   ]
  },
  {
   "cell_type": "code",
   "execution_count": 25,
   "id": "5ca30900",
   "metadata": {},
   "outputs": [
    {
     "name": "stdout",
     "output_type": "stream",
     "text": [
      "\n",
      "Array addition: [3 4 5 6 7]\n",
      "Array multiplication: [ 2  4  6  8 10]\n"
     ]
    }
   ],
   "source": [
    "# Array operations\n",
    "print(\"\\nArray addition:\", a + 2)\n",
    "print(\"Array multiplication:\", a * 2)"
   ]
  },
  {
   "cell_type": "code",
   "execution_count": 27,
   "id": "a1d327d0",
   "metadata": {},
   "outputs": [
    {
     "name": "stdout",
     "output_type": "stream",
     "text": [
      "\n",
      "Sine of array: [ 0.84147098  0.90929743  0.14112001 -0.7568025  -0.95892427]\n"
     ]
    }
   ],
   "source": [
    "# Mathematical functions\n",
    "print(\"\\nSine of array:\", np.sin(a))"
   ]
  },
  {
   "cell_type": "code",
   "execution_count": 29,
   "id": "68edbfe2",
   "metadata": {},
   "outputs": [
    {
     "name": "stdout",
     "output_type": "stream",
     "text": [
      "\n",
      "Mean of array: 3.0\n",
      "Standard deviation of array: 1.4142135623730951\n"
     ]
    }
   ],
   "source": [
    "# Statistical operations\n",
    "print(\"\\nMean of array:\", np.mean(a))\n",
    "print(\"Standard deviation of array:\", np.std(a))"
   ]
  },
  {
   "cell_type": "code",
   "execution_count": 31,
   "id": "c197ed46-4dd4-4ab8-9d52-735347a60bc7",
   "metadata": {},
   "outputs": [
    {
     "name": "stdout",
     "output_type": "stream",
     "text": [
      "\n",
      "Mean of array: 3.5\n",
      "Standard deviation of array: 1.707825127659933\n"
     ]
    }
   ],
   "source": [
    "# Statistical operations\n",
    "print(\"\\nMean of array:\", np.mean(b))\n",
    "print(\"Standard deviation of array:\", np.std(b))"
   ]
  },
  {
   "cell_type": "code",
   "execution_count": 33,
   "id": "1138e759",
   "metadata": {},
   "outputs": [
    {
     "name": "stdout",
     "output_type": "stream",
     "text": [
      "\n",
      "Reshaped array:\n",
      " [[1]\n",
      " [2]\n",
      " [3]\n",
      " [4]\n",
      " [5]]\n"
     ]
    }
   ],
   "source": [
    "# Reshaping arrays\n",
    "a.shape\n",
    "c = a.reshape(5, 1)\n",
    "print(\"\\nReshaped array:\\n\", c)\n"
   ]
  },
  {
   "cell_type": "code",
   "execution_count": 35,
   "id": "dfb9d2b5",
   "metadata": {},
   "outputs": [
    {
     "name": "stdout",
     "output_type": "stream",
     "text": [
      "\n",
      "Matrix multiplication:\n",
      " [[19 22]\n",
      " [43 50]]\n"
     ]
    }
   ],
   "source": [
    "# Matrix operations\n",
    "d = np.array([[1, 2], [3, 4]])\n",
    "e = np.array([[5, 6], [7, 8]])\n",
    "print(\"\\nMatrix multiplication:\\n\", np.dot(d, e))"
   ]
  },
  {
   "cell_type": "code",
   "execution_count": 39,
   "id": "abcc4c8a-375f-478b-b308-2e066e6c43cd",
   "metadata": {},
   "outputs": [
    {
     "name": "stdout",
     "output_type": "stream",
     "text": [
      "\n",
      "Matrix multiplication:\n",
      " [[23 34]\n",
      " [31 46]]\n"
     ]
    }
   ],
   "source": [
    "print(\"\\nMatrix multiplication:\\n\", np.dot(e,d))"
   ]
  },
  {
   "cell_type": "code",
   "execution_count": null,
   "id": "b746ff67-ec70-4f07-9c42-7b208ddc0229",
   "metadata": {},
   "outputs": [],
   "source": []
  }
 ],
 "metadata": {
  "jupytext": {
   "cell_metadata_filter": "-all",
   "main_language": "python",
   "notebook_metadata_filter": "-all"
  },
  "kernelspec": {
   "display_name": "Python 3 (ipykernel)",
   "language": "python",
   "name": "python3"
  },
  "language_info": {
   "codemirror_mode": {
    "name": "ipython",
    "version": 3
   },
   "file_extension": ".py",
   "mimetype": "text/x-python",
   "name": "python",
   "nbconvert_exporter": "python",
   "pygments_lexer": "ipython3",
   "version": "3.12.4"
  }
 },
 "nbformat": 4,
 "nbformat_minor": 5
}
