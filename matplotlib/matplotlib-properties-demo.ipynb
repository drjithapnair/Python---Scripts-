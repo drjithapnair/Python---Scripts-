{
 "cells": [
  {
   "cell_type": "code",
   "execution_count": 1,
   "id": "731b15cb",
   "metadata": {},
   "outputs": [],
   "source": [
    "import matplotlib.pyplot as plt\n",
    "import numpy as np"
   ]
  },
  {
   "cell_type": "code",
   "execution_count": 2,
   "id": "09f90477",
   "metadata": {},
   "outputs": [
    {
     "data": {
      "text/plain": [
       "<Figure size 1200x800 with 0 Axes>"
      ]
     },
     "metadata": {},
     "output_type": "display_data"
    }
   ],
   "source": [
    "# 1. Figure and Axes\n",
    "fig = plt.figure(figsize=(12, 8), dpi=100, facecolor='lightgray')"
   ]
  },
  {
   "cell_type": "code",
   "execution_count": 3,
   "id": "c166a00b",
   "metadata": {},
   "outputs": [],
   "source": [
    "# 2. Basic Plotting\n",
    "x = np.linspace(0, 10, 100)\n",
    "y1 = np.sin(x)\n",
    "y2 = np.cos(x)"
   ]
  },
  {
   "cell_type": "code",
   "execution_count": 4,
   "id": "712b56fb",
   "metadata": {},
   "outputs": [],
   "source": [
    "# Line plot\n",
    "ax1 = fig.add_subplot(221)\n",
    "ax1.plot(x, y1, color='blue', linestyle='--', linewidth=2, marker='o', markersize=5, label='sin(x)')\n",
    "ax1.plot(x, y2, color='red', linestyle='-', linewidth=2, marker='s', markersize=5, label='cos(x)')\n",
    "ax1.set_xlabel('X-axis')\n",
    "ax1.set_ylabel('Y-axis')\n",
    "ax1.set_title('Line Plot')\n",
    "ax1.legend()\n",
    "ax1.grid(True, linestyle=':')"
   ]
  },
  {
   "cell_type": "code",
   "execution_count": 5,
   "id": "8ee96ef6",
   "metadata": {},
   "outputs": [
    {
     "data": {
      "text/plain": [
       "Text(0.5, 1.0, 'Scatter Plot')"
      ]
     },
     "execution_count": 5,
     "metadata": {},
     "output_type": "execute_result"
    }
   ],
   "source": [
    "# Scatter plot\n",
    "ax2 = fig.add_subplot(222)\n",
    "colors = np.random.rand(100)\n",
    "sizes = 1000 * np.random.rand(100)\n",
    "ax2.scatter(x, y1, c=colors, s=sizes, alpha=0.5, cmap='viridis')\n",
    "ax2.set_title('Scatter Plot')"
   ]
  },
  {
   "cell_type": "markdown",
   "id": "e414417b",
   "metadata": {},
   "source": [
    "3. Customization (applied throughout)"
   ]
  },
  {
   "cell_type": "markdown",
   "id": "6938107b",
   "metadata": {},
   "source": [
    "4. Multiple Plots (this entire figure is an example)"
   ]
  },
  {
   "cell_type": "code",
   "execution_count": 8,
   "id": "076d9576",
   "metadata": {},
   "outputs": [
    {
     "data": {
      "text/plain": [
       "Text(0.5, 1.0, 'Bar Plot')"
      ]
     },
     "execution_count": 8,
     "metadata": {},
     "output_type": "execute_result"
    }
   ],
   "source": [
    "# 5. Specialized Plots\n",
    "# Bar plot\n",
    "ax3 = fig.add_subplot(223)\n",
    "categories = ['A', 'B', 'C', 'D']\n",
    "values = [3, 7, 2, 5]\n",
    "ax3.bar(categories, values, width=0.5, align='center')\n",
    "ax3.set_title('Bar Plot')"
   ]
  },
  {
   "cell_type": "code",
   "execution_count": 9,
   "id": "68b9bffc",
   "metadata": {},
   "outputs": [
    {
     "data": {
      "text/plain": [
       "Text(0.5, 1.0, 'Histogram')"
      ]
     },
     "execution_count": 9,
     "metadata": {},
     "output_type": "execute_result"
    }
   ],
   "source": [
    "# Histogram\n",
    "ax4 = fig.add_subplot(224)\n",
    "data = np.random.randn(1000)\n",
    "ax4.hist(data, bins=30, density=True, alpha=0.7)\n",
    "ax4.set_title('Histogram')"
   ]
  },
  {
   "cell_type": "code",
   "execution_count": 10,
   "id": "22b71c5c",
   "metadata": {},
   "outputs": [
    {
     "data": {
      "text/plain": [
       "Text(0.5, 0.98, 'Matplotlib Properties Demo')"
      ]
     },
     "execution_count": 10,
     "metadata": {},
     "output_type": "execute_result"
    }
   ],
   "source": [
    "# Overall figure title\n",
    "fig.suptitle('Matplotlib Properties Demo', fontsize=16, fontweight='bold')"
   ]
  },
  {
   "cell_type": "code",
   "execution_count": 11,
   "id": "292a5398",
   "metadata": {},
   "outputs": [
    {
     "data": {
      "text/plain": [
       "<Figure size 640x480 with 0 Axes>"
      ]
     },
     "metadata": {},
     "output_type": "display_data"
    }
   ],
   "source": [
    "# Adjust layout\n",
    "plt.tight_layout()"
   ]
  },
  {
   "cell_type": "code",
   "execution_count": 13,
   "id": "fef3914f",
   "metadata": {},
   "outputs": [
    {
     "data": {
      "text/plain": [
       "<Figure size 640x480 with 0 Axes>"
      ]
     },
     "metadata": {},
     "output_type": "display_data"
    }
   ],
   "source": [
    "# 6. Saving and Displaying\n",
    "plt.style.use('default')\n",
    "plt.savefig('matplotlib_demo.png', dpi=300, bbox_inches='tight')\n",
    "plt.show()"
   ]
  },
  {
   "cell_type": "markdown",
   "id": "b75ea821",
   "metadata": {},
   "source": [
    "7. Styling\n",
    "Note: To demonstrate different styles, you'd typically set this at the beginning of your script\n",
    "plt.style.use('seaborn')"
   ]
  },
  {
   "cell_type": "code",
   "execution_count": null,
   "id": "00a1b040",
   "metadata": {},
   "outputs": [],
   "source": [
    "# Bonus: Animation example (uncomment to run)\n",
    "\"\"\"\n",
    "import matplotlib.animation as animation\n",
    "\n",
    "def animate(i):\n",
    "    ax1.clear()\n",
    "    ax1.plot(x, np.sin(x + i/10))\n",
    "    ax1.set_ylim(-1, 1)\n",
    "\n",
    "ani = animation.FuncAnimation(fig, animate, frames=100, interval=50, blit=False)\n",
    "plt.show()\n",
    "\"\"\""
   ]
  }
 ],
 "metadata": {
  "jupytext": {
   "cell_metadata_filter": "-all",
   "main_language": "python",
   "notebook_metadata_filter": "-all"
  },
  "kernelspec": {
   "display_name": "Python 3 (ipykernel)",
   "language": "python",
   "name": "python3"
  },
  "language_info": {
   "codemirror_mode": {
    "name": "ipython",
    "version": 3
   },
   "file_extension": ".py",
   "mimetype": "text/x-python",
   "name": "python",
   "nbconvert_exporter": "python",
   "pygments_lexer": "ipython3",
   "version": "3.12.4"
  }
 },
 "nbformat": 4,
 "nbformat_minor": 5
}
