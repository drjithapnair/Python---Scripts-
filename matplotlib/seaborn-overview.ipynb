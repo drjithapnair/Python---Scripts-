{
 "cells": [
  {
   "cell_type": "code",
   "execution_count": null,
   "id": "01ffcccd",
   "metadata": {},
   "outputs": [],
   "source": [
    "import numpy as np\n",
    "import pandas as pd\n",
    "import matplotlib.pyplot as plt\n",
    "import seaborn as sns"
   ]
  },
  {
   "cell_type": "code",
   "execution_count": null,
   "id": "42992901",
   "metadata": {},
   "outputs": [],
   "source": [
    "# Set the style for all plots\n",
    "sns.set_style(\"whitegrid\")"
   ]
  },
  {
   "cell_type": "code",
   "execution_count": null,
   "id": "b67d9f7b",
   "metadata": {},
   "outputs": [],
   "source": [
    "# Generate sample data\n",
    "np.random.seed(0)\n",
    "n = 1000\n",
    "data = pd.DataFrame({\n",
    "    'x': np.random.randn(n),\n",
    "    'y': np.random.randn(n),\n",
    "    'category': np.random.choice(['A', 'B', 'C'], n),\n",
    "    'size': np.random.randint(10, 100, n)\n",
    "})"
   ]
  },
  {
   "cell_type": "code",
   "execution_count": null,
   "id": "9e5734f4",
   "metadata": {},
   "outputs": [],
   "source": [
    "# 1. Scatter plot\n",
    "plt.figure(figsize=(10, 6))\n",
    "sns.scatterplot(data=data, x='x', y='y', hue='category', size='size')\n",
    "plt.title('Scatter Plot')\n",
    "plt.show()"
   ]
  },
  {
   "cell_type": "code",
   "execution_count": null,
   "id": "a800dec7",
   "metadata": {},
   "outputs": [],
   "source": [
    "# 2. Distribution plot\n",
    "plt.figure(figsize=(10, 6))\n",
    "sns.histplot(data=data, x='x', kde=True)\n",
    "plt.title('Distribution Plot')\n",
    "plt.show()"
   ]
  },
  {
   "cell_type": "code",
   "execution_count": null,
   "id": "e9b6fdcc",
   "metadata": {},
   "outputs": [],
   "source": [
    "# 3. Box plot\n",
    "plt.figure(figsize=(10, 6))\n",
    "sns.boxplot(data=data, x='category', y='y')\n",
    "plt.title('Box Plot')\n",
    "plt.show()"
   ]
  },
  {
   "cell_type": "code",
   "execution_count": null,
   "id": "47a437bd",
   "metadata": {},
   "outputs": [],
   "source": [
    "# 4. Violin plot\n",
    "plt.figure(figsize=(10, 6))\n",
    "sns.violinplot(data=data, x='category', y='y')\n",
    "plt.title('Violin Plot')\n",
    "plt.show()"
   ]
  },
  {
   "cell_type": "code",
   "execution_count": null,
   "id": "124c85d5",
   "metadata": {},
   "outputs": [],
   "source": [
    "# 5. Pair plot\n",
    "sns.pairplot(data, hue='category')\n",
    "plt.suptitle('Pair Plot', y=1.02)\n",
    "plt.show()"
   ]
  },
  {
   "cell_type": "code",
   "execution_count": null,
   "id": "c0753712",
   "metadata": {},
   "outputs": [],
   "source": [
    "# 6. Heat map\n",
    "correlation = data[['x', 'y', 'size']].corr()\n",
    "plt.figure(figsize=(8, 6))\n",
    "sns.heatmap(correlation, annot=True, cmap='coolwarm')\n",
    "plt.title('Correlation Heatmap')\n",
    "plt.show()"
   ]
  },
  {
   "cell_type": "code",
   "execution_count": null,
   "id": "33fce3a6",
   "metadata": {},
   "outputs": [],
   "source": [
    "# 7. Regression plot\n",
    "plt.figure(figsize=(10, 6))\n",
    "sns.regplot(data=data, x='x', y='y')\n",
    "plt.title('Regression Plot')\n",
    "plt.show()"
   ]
  },
  {
   "cell_type": "code",
   "execution_count": null,
   "id": "47b9306b",
   "metadata": {},
   "outputs": [],
   "source": [
    "# 8. Categorical plot\n",
    "plt.figure(figsize=(10, 6))\n",
    "sns.catplot(data=data, x='category', y='y', kind='bar')\n",
    "plt.title('Categorical Plot')\n",
    "plt.show()"
   ]
  }
 ],
 "metadata": {
  "jupytext": {
   "cell_metadata_filter": "-all",
   "main_language": "python",
   "notebook_metadata_filter": "-all"
  }
 },
 "nbformat": 4,
 "nbformat_minor": 5
}
