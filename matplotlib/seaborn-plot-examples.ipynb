import seaborn as sns
import matplotlib.pyplot as plt
import numpy as np
import pandas as pd

# Set the style for all plots
sns.set_style("whitegrid")

# Create a figure with subplots
fig, axes = plt.subplots(3, 3, figsize=(20, 20))

# Load some sample datasets
tips = sns.load_dataset("tips")
iris = sns.load_dataset("iris")
flights = sns.load_dataset("flights")

# 1. Count Plot
sns.countplot(x="day", data=tips, ax=axes[0, 0])
axes[0, 0].set_title("Count Plot")
axes[0, 0].set_xlabel("Day of the Week")
axes[0, 0].set_ylabel("Count")

# 2. Box Plot
sns.boxplot(x="day", y="total_bill", data=tips, ax=axes[0, 1])
axes[0, 1].set_title("Box Plot")
axes[0, 1].set_xlabel("Day of the Week")
axes[0, 1].set_ylabel("Total Bill")

# 3. Violin Plot
sns.violinplot(x="day", y="total_bill", data=tips, ax=axes[0, 2])
axes[0, 2].set_title("Violin Plot")
axes[0, 2].set_xlabel("Day of the Week")
axes[0, 2].set_ylabel("Total Bill")

# 4. Heatmap
flights_pivot = flights.pivot("month", "year", "passengers")
sns.heatmap(flights_pivot, annot=True, fmt="d", cmap="YlGnBu", ax=axes[1, 0])
axes[1, 0].set_title("Heatmap")
axes[1, 0].set_xlabel("Year")
axes[1, 0].set_ylabel("Month")

# 5. Pair Plot (this one is separate due to its size)
pair_plot = sns.pairplot(iris, hue="species", height=2.5)
pair_plot.fig.suptitle("Pair Plot", y=1.02)

# 6. Swarm Plot
sns.swarmplot(x="day", y="total_bill", data=tips, ax=axes[1, 1])
axes[1, 1].set_title("Swarm Plot")
axes[1, 1].set_xlabel("Day of the Week")
axes[1, 1].set_ylabel("Total Bill")

# 7. Density Plot (KDE)
sns.kdeplot(data=iris, x="sepal_length", hue="species", multiple="stack", ax=axes[1, 2])
axes[1, 2].set_title("Density Plot")
axes[1, 2].set_xlabel("Sepal Length")
axes[1, 2].set_ylabel("Density")

# 8. Joint Plot (this one is separate due to its size)
joint_plot = sns.jointplot(data=tips, x="total_bill", y="tip", kind="reg", height=7)
joint_plot.fig.suptitle("Joint Plot", y=1.02)

# 9. Categorical Plot
sns.catplot(x="day", y="total_bill", hue="smoker", kind="bar", data=tips, ax=axes[2, 0])
axes[2, 0].set_title("Categorical Plot (Bar)")
axes[2, 0].set_xlabel("Day of the Week")
axes[2, 0].set_ylabel("Total Bill")

# Adjust layout
plt.tight_layout()
plt.show()
