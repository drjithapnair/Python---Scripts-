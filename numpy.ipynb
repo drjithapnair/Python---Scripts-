{
 "cells": [
  {
   "cell_type": "code",
   "execution_count": null,
   "id": "36deaeec",
   "metadata": {},
   "outputs": [],
   "source": [
    "import numpy as np"
   ]
  },
  {
   "cell_type": "code",
   "execution_count": null,
   "id": "c694bc3d",
   "metadata": {},
   "outputs": [],
   "source": [
    "# 1. np.array()\n",
    "print(\"1. np.array()\")\n",
    "a = np.array([1, 2, 3, 4, 5])\n",
    "print(a)"
   ]
  },
  {
   "cell_type": "code",
   "execution_count": null,
   "id": "edb5583a",
   "metadata": {},
   "outputs": [],
   "source": [
    "# 2. np.zeros()\n",
    "print(\"\\n2. np.zeros()\")\n",
    "b = np.zeros((3, 3))\n",
    "print(b)"
   ]
  },
  {
   "cell_type": "code",
   "execution_count": null,
   "id": "772a2478",
   "metadata": {},
   "outputs": [],
   "source": [
    "# 3. np.ones()\n",
    "print(\"\\n3. np.ones()\")\n",
    "c = np.ones((2, 4))\n",
    "print(c)"
   ]
  },
  {
   "cell_type": "code",
   "execution_count": null,
   "id": "92ba3e53",
   "metadata": {},
   "outputs": [],
   "source": [
    "# 4. np.arange()\n",
    "print(\"\\n4. np.arange()\")\n",
    "d = np.arange(0, 10, 2)\n",
    "print(d)"
   ]
  },
  {
   "cell_type": "code",
   "execution_count": null,
   "id": "9d344cfd",
   "metadata": {},
   "outputs": [],
   "source": [
    "# 5. np.linspace()\n",
    "print(\"\\n5. np.linspace()\")\n",
    "e = np.linspace(0, 1, 5)\n",
    "print(e)"
   ]
  },
  {
   "cell_type": "code",
   "execution_count": null,
   "id": "edb3353f",
   "metadata": {},
   "outputs": [],
   "source": [
    "# 6. np.random.rand()\n",
    "print(\"\\n6. np.random.rand()\")\n",
    "f = np.random.rand(2, 3)\n",
    "print(f)"
   ]
  },
  {
   "cell_type": "code",
   "execution_count": null,
   "id": "7dd8853e",
   "metadata": {},
   "outputs": [],
   "source": [
    "# 7. reshape()\n",
    "print(\"\\n7. reshape()\")\n",
    "g = np.arange(6).reshape(2, 3)\n",
    "print(g)"
   ]
  },
  {
   "cell_type": "code",
   "execution_count": null,
   "id": "6e73879b",
   "metadata": {},
   "outputs": [],
   "source": [
    "# 8. flatten()\n",
    "print(\"\\n8. flatten()\")\n",
    "h = np.array([[1, 2], [3, 4]])\n",
    "print(h.flatten())"
   ]
  },
  {
   "cell_type": "code",
   "execution_count": null,
   "id": "cfe7bbe3",
   "metadata": {},
   "outputs": [],
   "source": [
    "# 9. transpose()\n",
    "print(\"\\n9. transpose()\")\n",
    "i = np.array([[1, 2], [3, 4]])\n",
    "print(i.transpose())"
   ]
  },
  {
   "cell_type": "code",
   "execution_count": null,
   "id": "dcf97759",
   "metadata": {},
   "outputs": [],
   "source": [
    "# 10. concatenate()\n",
    "print(\"\\n10. concatenate()\")\n",
    "j1 = np.array([1, 2, 3])\n",
    "j2 = np.array([4, 5, 6])\n",
    "print(np.concatenate((j1, j2)))"
   ]
  },
  {
   "cell_type": "code",
   "execution_count": null,
   "id": "8de7f98e",
   "metadata": {},
   "outputs": [],
   "source": [
    "# 11. split()\n",
    "print(\"\\n11. split()\")\n",
    "k = np.array([1, 2, 3, 4, 5, 6])\n",
    "print(np.split(k, 3))"
   ]
  }
 ],
 "metadata": {
  "jupytext": {
   "cell_metadata_filter": "-all",
   "main_language": "python",
   "notebook_metadata_filter": "-all"
  },
  "kernelspec": {
   "display_name": "Python 3 (ipykernel)",
   "language": "python",
   "name": "python3"
  },
  "language_info": {
   "codemirror_mode": {
    "name": "ipython",
    "version": 3
   },
   "file_extension": ".py",
   "mimetype": "text/x-python",
   "name": "python",
   "nbconvert_exporter": "python",
   "pygments_lexer": "ipython3",
   "version": "3.12.4"
  }
 },
 "nbformat": 4,
 "nbformat_minor": 5
}
