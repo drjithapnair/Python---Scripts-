{
 "cells": [
  {
   "cell_type": "code",
   "execution_count": 1,
   "id": "09d63226",
   "metadata": {},
   "outputs": [],
   "source": [
    "import pandas as pd\n",
    "import numpy as np"
   ]
  },
  {
   "cell_type": "code",
   "execution_count": 11,
   "id": "58b4329e-17af-427c-a0ae-89ffcaeddc22",
   "metadata": {},
   "outputs": [
    {
     "data": {
      "text/html": [
       "<div>\n",
       "<style scoped>\n",
       "    .dataframe tbody tr th:only-of-type {\n",
       "        vertical-align: middle;\n",
       "    }\n",
       "\n",
       "    .dataframe tbody tr th {\n",
       "        vertical-align: top;\n",
       "    }\n",
       "\n",
       "    .dataframe thead th {\n",
       "        text-align: right;\n",
       "    }\n",
       "</style>\n",
       "<table border=\"1\" class=\"dataframe\">\n",
       "  <thead>\n",
       "    <tr style=\"text-align: right;\">\n",
       "      <th></th>\n",
       "      <th>ID</th>\n",
       "      <th>Marital Status</th>\n",
       "      <th>Gender</th>\n",
       "      <th>Income</th>\n",
       "      <th>Children</th>\n",
       "      <th>Education</th>\n",
       "      <th>Occupation</th>\n",
       "      <th>Home Owner</th>\n",
       "      <th>Cars</th>\n",
       "      <th>Commute Distance</th>\n",
       "      <th>Region</th>\n",
       "      <th>Age</th>\n",
       "      <th>Purchased Bike</th>\n",
       "    </tr>\n",
       "  </thead>\n",
       "  <tbody>\n",
       "    <tr>\n",
       "      <th>0</th>\n",
       "      <td>12496</td>\n",
       "      <td>M</td>\n",
       "      <td>F</td>\n",
       "      <td>40000</td>\n",
       "      <td>1</td>\n",
       "      <td>Bachelors</td>\n",
       "      <td>Skilled Manual</td>\n",
       "      <td>Yes</td>\n",
       "      <td>0</td>\n",
       "      <td>0-1 Miles</td>\n",
       "      <td>Europe</td>\n",
       "      <td>42</td>\n",
       "      <td>No</td>\n",
       "    </tr>\n",
       "    <tr>\n",
       "      <th>1</th>\n",
       "      <td>24107</td>\n",
       "      <td>M</td>\n",
       "      <td>M</td>\n",
       "      <td>30000</td>\n",
       "      <td>3</td>\n",
       "      <td>Partial College</td>\n",
       "      <td>Clerical</td>\n",
       "      <td>Yes</td>\n",
       "      <td>1</td>\n",
       "      <td>0-1 Miles</td>\n",
       "      <td>Europe</td>\n",
       "      <td>43</td>\n",
       "      <td>No</td>\n",
       "    </tr>\n",
       "    <tr>\n",
       "      <th>2</th>\n",
       "      <td>14177</td>\n",
       "      <td>M</td>\n",
       "      <td>M</td>\n",
       "      <td>80000</td>\n",
       "      <td>5</td>\n",
       "      <td>Partial College</td>\n",
       "      <td>Professional</td>\n",
       "      <td>No</td>\n",
       "      <td>2</td>\n",
       "      <td>2-5 Miles</td>\n",
       "      <td>Europe</td>\n",
       "      <td>60</td>\n",
       "      <td>No</td>\n",
       "    </tr>\n",
       "    <tr>\n",
       "      <th>3</th>\n",
       "      <td>24381</td>\n",
       "      <td>S</td>\n",
       "      <td>M</td>\n",
       "      <td>70000</td>\n",
       "      <td>0</td>\n",
       "      <td>Bachelors</td>\n",
       "      <td>Professional</td>\n",
       "      <td>Yes</td>\n",
       "      <td>1</td>\n",
       "      <td>5-10 Miles</td>\n",
       "      <td>Pacific</td>\n",
       "      <td>41</td>\n",
       "      <td>Yes</td>\n",
       "    </tr>\n",
       "    <tr>\n",
       "      <th>4</th>\n",
       "      <td>25597</td>\n",
       "      <td>S</td>\n",
       "      <td>M</td>\n",
       "      <td>30000</td>\n",
       "      <td>0</td>\n",
       "      <td>Bachelors</td>\n",
       "      <td>Clerical</td>\n",
       "      <td>No</td>\n",
       "      <td>0</td>\n",
       "      <td>0-1 Miles</td>\n",
       "      <td>Europe</td>\n",
       "      <td>36</td>\n",
       "      <td>Yes</td>\n",
       "    </tr>\n",
       "  </tbody>\n",
       "</table>\n",
       "</div>"
      ],
      "text/plain": [
       "      ID Marital Status Gender  Income  Children        Education  \\\n",
       "0  12496              M      F   40000         1        Bachelors   \n",
       "1  24107              M      M   30000         3  Partial College   \n",
       "2  14177              M      M   80000         5  Partial College   \n",
       "3  24381              S      M   70000         0        Bachelors   \n",
       "4  25597              S      M   30000         0        Bachelors   \n",
       "\n",
       "       Occupation Home Owner  Cars Commute Distance   Region  Age  \\\n",
       "0  Skilled Manual        Yes     0        0-1 Miles   Europe   42   \n",
       "1        Clerical        Yes     1        0-1 Miles   Europe   43   \n",
       "2    Professional         No     2        2-5 Miles   Europe   60   \n",
       "3    Professional        Yes     1       5-10 Miles  Pacific   41   \n",
       "4        Clerical         No     0        0-1 Miles   Europe   36   \n",
       "\n",
       "  Purchased Bike  \n",
       "0             No  \n",
       "1             No  \n",
       "2             No  \n",
       "3            Yes  \n",
       "4            Yes  "
      ]
     },
     "execution_count": 11,
     "metadata": {},
     "output_type": "execute_result"
    }
   ],
   "source": [
    "df = pd.read_excel('Bike sales Data.xlsx')\n",
    "df.head(5)"
   ]
  },
  {
   "cell_type": "code",
   "execution_count": 13,
   "id": "c7dd8580-7998-4042-bb57-f501fc2431c6",
   "metadata": {
    "scrolled": true
   },
   "outputs": [
    {
     "data": {
      "text/html": [
       "<div>\n",
       "<style scoped>\n",
       "    .dataframe tbody tr th:only-of-type {\n",
       "        vertical-align: middle;\n",
       "    }\n",
       "\n",
       "    .dataframe tbody tr th {\n",
       "        vertical-align: top;\n",
       "    }\n",
       "\n",
       "    .dataframe thead th {\n",
       "        text-align: right;\n",
       "    }\n",
       "</style>\n",
       "<table border=\"1\" class=\"dataframe\">\n",
       "  <thead>\n",
       "    <tr style=\"text-align: right;\">\n",
       "      <th></th>\n",
       "      <th>ID</th>\n",
       "      <th>Marital Status</th>\n",
       "      <th>Gender</th>\n",
       "      <th>Income</th>\n",
       "      <th>Children</th>\n",
       "      <th>Education</th>\n",
       "      <th>Occupation</th>\n",
       "      <th>Home Owner</th>\n",
       "      <th>Cars</th>\n",
       "      <th>Commute Distance</th>\n",
       "      <th>Region</th>\n",
       "      <th>Age</th>\n",
       "      <th>Purchased Bike</th>\n",
       "    </tr>\n",
       "  </thead>\n",
       "  <tbody>\n",
       "    <tr>\n",
       "      <th>1016</th>\n",
       "      <td>27184</td>\n",
       "      <td>S</td>\n",
       "      <td>M</td>\n",
       "      <td>$40,000.00</td>\n",
       "      <td>2</td>\n",
       "      <td>Partial College</td>\n",
       "      <td>Clerical</td>\n",
       "      <td>No</td>\n",
       "      <td>1</td>\n",
       "      <td>0-1 Miles</td>\n",
       "      <td>Europe</td>\n",
       "      <td>34</td>\n",
       "      <td>No</td>\n",
       "    </tr>\n",
       "    <tr>\n",
       "      <th>1017</th>\n",
       "      <td>12590</td>\n",
       "      <td>S</td>\n",
       "      <td>M</td>\n",
       "      <td>$30,000.00</td>\n",
       "      <td>1</td>\n",
       "      <td>Bachelors</td>\n",
       "      <td>Clerical</td>\n",
       "      <td>Yes</td>\n",
       "      <td>0</td>\n",
       "      <td>0-1 Miles</td>\n",
       "      <td>Europe</td>\n",
       "      <td>63</td>\n",
       "      <td>No</td>\n",
       "    </tr>\n",
       "    <tr>\n",
       "      <th>1018</th>\n",
       "      <td>17841</td>\n",
       "      <td>S</td>\n",
       "      <td>M</td>\n",
       "      <td>$30,000.00</td>\n",
       "      <td>0</td>\n",
       "      <td>Partial College</td>\n",
       "      <td>Clerical</td>\n",
       "      <td>No</td>\n",
       "      <td>1</td>\n",
       "      <td>0-1 Miles</td>\n",
       "      <td>Europe</td>\n",
       "      <td>29</td>\n",
       "      <td>Yes</td>\n",
       "    </tr>\n",
       "    <tr>\n",
       "      <th>1019</th>\n",
       "      <td>18283</td>\n",
       "      <td>S</td>\n",
       "      <td>F</td>\n",
       "      <td>$1,00,000.00</td>\n",
       "      <td>0</td>\n",
       "      <td>Bachelors</td>\n",
       "      <td>Professional</td>\n",
       "      <td>No</td>\n",
       "      <td>1</td>\n",
       "      <td>5-10 Miles</td>\n",
       "      <td>Pacific</td>\n",
       "      <td>40</td>\n",
       "      <td>No</td>\n",
       "    </tr>\n",
       "    <tr>\n",
       "      <th>1020</th>\n",
       "      <td>18299</td>\n",
       "      <td>M</td>\n",
       "      <td>M</td>\n",
       "      <td>$70,000.00</td>\n",
       "      <td>5</td>\n",
       "      <td>Partial College</td>\n",
       "      <td>Skilled Manual</td>\n",
       "      <td>Yes</td>\n",
       "      <td>2</td>\n",
       "      <td>5-10 Miles</td>\n",
       "      <td>Pacific</td>\n",
       "      <td>44</td>\n",
       "      <td>No</td>\n",
       "    </tr>\n",
       "    <tr>\n",
       "      <th>1021</th>\n",
       "      <td>16466</td>\n",
       "      <td>S</td>\n",
       "      <td>F</td>\n",
       "      <td>$20,000.00</td>\n",
       "      <td>0</td>\n",
       "      <td>Partial High School</td>\n",
       "      <td>Manual</td>\n",
       "      <td>No</td>\n",
       "      <td>2</td>\n",
       "      <td>0-1 Miles</td>\n",
       "      <td>Europe</td>\n",
       "      <td>32</td>\n",
       "      <td>Yes</td>\n",
       "    </tr>\n",
       "    <tr>\n",
       "      <th>1022</th>\n",
       "      <td>19273</td>\n",
       "      <td>M</td>\n",
       "      <td>F</td>\n",
       "      <td>$20,000.00</td>\n",
       "      <td>2</td>\n",
       "      <td>Partial College</td>\n",
       "      <td>Manual</td>\n",
       "      <td>Yes</td>\n",
       "      <td>0</td>\n",
       "      <td>0-1 Miles</td>\n",
       "      <td>Europe</td>\n",
       "      <td>63</td>\n",
       "      <td>No</td>\n",
       "    </tr>\n",
       "    <tr>\n",
       "      <th>1023</th>\n",
       "      <td>22400</td>\n",
       "      <td>M</td>\n",
       "      <td>M</td>\n",
       "      <td>$10,000.00</td>\n",
       "      <td>0</td>\n",
       "      <td>Partial College</td>\n",
       "      <td>Manual</td>\n",
       "      <td>No</td>\n",
       "      <td>1</td>\n",
       "      <td>0-1 Miles</td>\n",
       "      <td>Pacific</td>\n",
       "      <td>26</td>\n",
       "      <td>Yes</td>\n",
       "    </tr>\n",
       "    <tr>\n",
       "      <th>1024</th>\n",
       "      <td>20942</td>\n",
       "      <td>S</td>\n",
       "      <td>F</td>\n",
       "      <td>$20,000.00</td>\n",
       "      <td>0</td>\n",
       "      <td>High School</td>\n",
       "      <td>Manual</td>\n",
       "      <td>No</td>\n",
       "      <td>1</td>\n",
       "      <td>5-10 Miles</td>\n",
       "      <td>Europe</td>\n",
       "      <td>31</td>\n",
       "      <td>No</td>\n",
       "    </tr>\n",
       "    <tr>\n",
       "      <th>1025</th>\n",
       "      <td>18484</td>\n",
       "      <td>S</td>\n",
       "      <td>M</td>\n",
       "      <td>$80,000.00</td>\n",
       "      <td>2</td>\n",
       "      <td>High School</td>\n",
       "      <td>Skilled Manual</td>\n",
       "      <td>No</td>\n",
       "      <td>2</td>\n",
       "      <td>1-2 Miles</td>\n",
       "      <td>Pacific</td>\n",
       "      <td>50</td>\n",
       "      <td>Yes</td>\n",
       "    </tr>\n",
       "  </tbody>\n",
       "</table>\n",
       "</div>"
      ],
      "text/plain": [
       "         ID Marital Status Gender        Income  Children  \\\n",
       "1016  27184              S      M    $40,000.00         2   \n",
       "1017  12590              S      M    $30,000.00         1   \n",
       "1018  17841              S      M    $30,000.00         0   \n",
       "1019  18283              S      F  $1,00,000.00         0   \n",
       "1020  18299              M      M    $70,000.00         5   \n",
       "1021  16466              S      F    $20,000.00         0   \n",
       "1022  19273              M      F    $20,000.00         2   \n",
       "1023  22400              M      M    $10,000.00         0   \n",
       "1024  20942              S      F    $20,000.00         0   \n",
       "1025  18484              S      M    $80,000.00         2   \n",
       "\n",
       "                Education      Occupation Home Owner  Cars Commute Distance  \\\n",
       "1016      Partial College        Clerical         No     1        0-1 Miles   \n",
       "1017            Bachelors        Clerical        Yes     0        0-1 Miles   \n",
       "1018      Partial College        Clerical         No     1        0-1 Miles   \n",
       "1019            Bachelors    Professional         No     1       5-10 Miles   \n",
       "1020      Partial College  Skilled Manual        Yes     2       5-10 Miles   \n",
       "1021  Partial High School          Manual         No     2        0-1 Miles   \n",
       "1022      Partial College          Manual        Yes     0        0-1 Miles   \n",
       "1023      Partial College          Manual         No     1        0-1 Miles   \n",
       "1024          High School          Manual         No     1       5-10 Miles   \n",
       "1025          High School  Skilled Manual         No     2        1-2 Miles   \n",
       "\n",
       "       Region  Age Purchased Bike  \n",
       "1016   Europe   34             No  \n",
       "1017   Europe   63             No  \n",
       "1018   Europe   29            Yes  \n",
       "1019  Pacific   40             No  \n",
       "1020  Pacific   44             No  \n",
       "1021   Europe   32            Yes  \n",
       "1022   Europe   63             No  \n",
       "1023  Pacific   26            Yes  \n",
       "1024   Europe   31             No  \n",
       "1025  Pacific   50            Yes  "
      ]
     },
     "execution_count": 13,
     "metadata": {},
     "output_type": "execute_result"
    }
   ],
   "source": [
    "df3 = pd.read_csv('Bike Sales Data1.csv')\n",
    "df3.tail(10)"
   ]
  },
  {
   "cell_type": "code",
   "execution_count": 15,
   "id": "e2f7d480-7dd7-47e3-b89c-7b94678efe37",
   "metadata": {},
   "outputs": [
    {
     "name": "stdout",
     "output_type": "stream",
     "text": [
      "<class 'pandas.core.frame.DataFrame'>\n",
      "RangeIndex: 1026 entries, 0 to 1025\n",
      "Data columns (total 13 columns):\n",
      " #   Column            Non-Null Count  Dtype \n",
      "---  ------            --------------  ----- \n",
      " 0   ID                1026 non-null   int64 \n",
      " 1   Marital Status    1026 non-null   object\n",
      " 2   Gender            1026 non-null   object\n",
      " 3   Income            1026 non-null   int64 \n",
      " 4   Children          1026 non-null   int64 \n",
      " 5   Education         1026 non-null   object\n",
      " 6   Occupation        1026 non-null   object\n",
      " 7   Home Owner        1026 non-null   object\n",
      " 8   Cars              1026 non-null   int64 \n",
      " 9   Commute Distance  1026 non-null   object\n",
      " 10  Region            1026 non-null   object\n",
      " 11  Age               1026 non-null   int64 \n",
      " 12  Purchased Bike    1026 non-null   object\n",
      "dtypes: int64(5), object(8)\n",
      "memory usage: 104.3+ KB\n"
     ]
    }
   ],
   "source": [
    "df.info()"
   ]
  },
  {
   "cell_type": "code",
   "execution_count": 17,
   "id": "231cf154-d902-494d-bc87-21a1dcab1163",
   "metadata": {},
   "outputs": [
    {
     "data": {
      "text/html": [
       "<div>\n",
       "<style scoped>\n",
       "    .dataframe tbody tr th:only-of-type {\n",
       "        vertical-align: middle;\n",
       "    }\n",
       "\n",
       "    .dataframe tbody tr th {\n",
       "        vertical-align: top;\n",
       "    }\n",
       "\n",
       "    .dataframe thead th {\n",
       "        text-align: right;\n",
       "    }\n",
       "</style>\n",
       "<table border=\"1\" class=\"dataframe\">\n",
       "  <thead>\n",
       "    <tr style=\"text-align: right;\">\n",
       "      <th></th>\n",
       "      <th>ID</th>\n",
       "      <th>Income</th>\n",
       "      <th>Children</th>\n",
       "      <th>Cars</th>\n",
       "      <th>Age</th>\n",
       "    </tr>\n",
       "  </thead>\n",
       "  <tbody>\n",
       "    <tr>\n",
       "      <th>count</th>\n",
       "      <td>1026.000000</td>\n",
       "      <td>1026.000000</td>\n",
       "      <td>1026.000000</td>\n",
       "      <td>1026.000000</td>\n",
       "      <td>1026.000000</td>\n",
       "    </tr>\n",
       "    <tr>\n",
       "      <th>mean</th>\n",
       "      <td>19969.196881</td>\n",
       "      <td>56208.576998</td>\n",
       "      <td>1.892788</td>\n",
       "      <td>1.437622</td>\n",
       "      <td>44.138402</td>\n",
       "    </tr>\n",
       "    <tr>\n",
       "      <th>std</th>\n",
       "      <td>5332.672942</td>\n",
       "      <td>31293.284007</td>\n",
       "      <td>1.626670</td>\n",
       "      <td>1.125538</td>\n",
       "      <td>11.349282</td>\n",
       "    </tr>\n",
       "    <tr>\n",
       "      <th>min</th>\n",
       "      <td>11000.000000</td>\n",
       "      <td>10000.000000</td>\n",
       "      <td>0.000000</td>\n",
       "      <td>0.000000</td>\n",
       "      <td>25.000000</td>\n",
       "    </tr>\n",
       "    <tr>\n",
       "      <th>25%</th>\n",
       "      <td>15304.750000</td>\n",
       "      <td>30000.000000</td>\n",
       "      <td>0.000000</td>\n",
       "      <td>1.000000</td>\n",
       "      <td>35.000000</td>\n",
       "    </tr>\n",
       "    <tr>\n",
       "      <th>50%</th>\n",
       "      <td>19744.000000</td>\n",
       "      <td>60000.000000</td>\n",
       "      <td>2.000000</td>\n",
       "      <td>1.000000</td>\n",
       "      <td>43.000000</td>\n",
       "    </tr>\n",
       "    <tr>\n",
       "      <th>75%</th>\n",
       "      <td>24457.750000</td>\n",
       "      <td>70000.000000</td>\n",
       "      <td>3.000000</td>\n",
       "      <td>2.000000</td>\n",
       "      <td>52.000000</td>\n",
       "    </tr>\n",
       "    <tr>\n",
       "      <th>max</th>\n",
       "      <td>29447.000000</td>\n",
       "      <td>170000.000000</td>\n",
       "      <td>5.000000</td>\n",
       "      <td>4.000000</td>\n",
       "      <td>89.000000</td>\n",
       "    </tr>\n",
       "  </tbody>\n",
       "</table>\n",
       "</div>"
      ],
      "text/plain": [
       "                 ID         Income     Children         Cars          Age\n",
       "count   1026.000000    1026.000000  1026.000000  1026.000000  1026.000000\n",
       "mean   19969.196881   56208.576998     1.892788     1.437622    44.138402\n",
       "std     5332.672942   31293.284007     1.626670     1.125538    11.349282\n",
       "min    11000.000000   10000.000000     0.000000     0.000000    25.000000\n",
       "25%    15304.750000   30000.000000     0.000000     1.000000    35.000000\n",
       "50%    19744.000000   60000.000000     2.000000     1.000000    43.000000\n",
       "75%    24457.750000   70000.000000     3.000000     2.000000    52.000000\n",
       "max    29447.000000  170000.000000     5.000000     4.000000    89.000000"
      ]
     },
     "execution_count": 17,
     "metadata": {},
     "output_type": "execute_result"
    }
   ],
   "source": [
    "df.describe()"
   ]
  },
  {
   "cell_type": "code",
   "execution_count": 2,
   "id": "4b74b50e",
   "metadata": {},
   "outputs": [],
   "source": [
    "# Create sample datasets\n",
    "df1 = pd.DataFrame({\n",
    "    'ID': range(1, 6),\n",
    "    'Name': ['Alice', 'Bob', 'Charlie', 'David', 'Eve'],\n",
    "    'Age': [25, 30, 35, 40, 45],\n",
    "    'Salary': [50000, 60000, 75000, 90000, np.nan]\n",
    "})"
   ]
  },
  {
   "cell_type": "code",
   "execution_count": 3,
   "id": "e19fc5d5",
   "metadata": {},
   "outputs": [],
   "source": [
    "df2 = pd.DataFrame({\n",
    "    'ID': range(3, 8),\n",
    "    'Department': ['HR', 'IT', 'Finance', 'Marketing', 'Sales'],\n",
    "    'Location': ['New York', 'San Francisco', 'Chicago', 'Boston', 'Los Angeles']\n",
    "})"
   ]
  },
  {
   "cell_type": "code",
   "execution_count": 4,
   "id": "e04ce527",
   "metadata": {},
   "outputs": [
    {
     "name": "stdout",
     "output_type": "stream",
     "text": [
      "Data Exploration:\n",
      "\n",
      "Reading CSV (simulated):\n",
      " ID    Name  Age  Salary\n",
      "  1   Alice   25 50000.0\n",
      "  2     Bob   30 60000.0\n",
      "  3 Charlie   35 75000.0\n",
      "  4   David   40 90000.0\n",
      "  5     Eve   45     NaN\n"
     ]
    }
   ],
   "source": [
    "# Data Exploration\n",
    "print(\"Data Exploration:\")\n",
    "print(\"\\nReading CSV (simulated):\")\n",
    "print(df1.to_string(index=False))"
   ]
  },
  {
   "cell_type": "code",
   "execution_count": 5,
   "id": "a2e6a5b8",
   "metadata": {},
   "outputs": [
    {
     "name": "stdout",
     "output_type": "stream",
     "text": [
      "\n",
      "Head:\n",
      "   ID     Name  Age   Salary\n",
      "0   1    Alice   25  50000.0\n",
      "1   2      Bob   30  60000.0\n",
      "2   3  Charlie   35  75000.0\n"
     ]
    }
   ],
   "source": [
    "print(\"\\nHead:\")\n",
    "print(df1.head(3))"
   ]
  },
  {
   "cell_type": "code",
   "execution_count": 6,
   "id": "2760387b",
   "metadata": {},
   "outputs": [
    {
     "name": "stdout",
     "output_type": "stream",
     "text": [
      "\n",
      "Tail:\n",
      "   ID     Name  Age   Salary\n",
      "2   3  Charlie   35  75000.0\n",
      "3   4    David   40  90000.0\n",
      "4   5      Eve   45      NaN\n"
     ]
    }
   ],
   "source": [
    "print(\"\\nTail:\")\n",
    "print(df1.tail(3))"
   ]
  },
  {
   "cell_type": "code",
   "execution_count": 7,
   "id": "d6940c38",
   "metadata": {},
   "outputs": [
    {
     "name": "stdout",
     "output_type": "stream",
     "text": [
      "\n",
      "Shape:\n",
      "(5, 4)\n"
     ]
    }
   ],
   "source": [
    "print(\"\\nShape:\")\n",
    "print(df1.shape)"
   ]
  },
  {
   "cell_type": "code",
   "execution_count": 8,
   "id": "8223c23d",
   "metadata": {},
   "outputs": [
    {
     "name": "stdout",
     "output_type": "stream",
     "text": [
      "\n",
      "Columns:\n",
      "Index(['ID', 'Name', 'Age', 'Salary'], dtype='object')\n"
     ]
    }
   ],
   "source": [
    "print(\"\\nColumns:\")\n",
    "print(df1.columns)"
   ]
  },
  {
   "cell_type": "code",
   "execution_count": 9,
   "id": "640357f8",
   "metadata": {},
   "outputs": [
    {
     "name": "stdout",
     "output_type": "stream",
     "text": [
      "\n",
      "Info:\n",
      "<class 'pandas.core.frame.DataFrame'>\n",
      "RangeIndex: 5 entries, 0 to 4\n",
      "Data columns (total 4 columns):\n",
      " #   Column  Non-Null Count  Dtype  \n",
      "---  ------  --------------  -----  \n",
      " 0   ID      5 non-null      int64  \n",
      " 1   Name    5 non-null      object \n",
      " 2   Age     5 non-null      int64  \n",
      " 3   Salary  4 non-null      float64\n",
      "dtypes: float64(1), int64(2), object(1)\n",
      "memory usage: 292.0+ bytes\n"
     ]
    }
   ],
   "source": [
    "print(\"\\nInfo:\")\n",
    "df1.info()"
   ]
  },
  {
   "cell_type": "code",
   "execution_count": 10,
   "id": "2a646911",
   "metadata": {},
   "outputs": [
    {
     "name": "stdout",
     "output_type": "stream",
     "text": [
      "\n",
      "Dtypes:\n",
      "ID          int64\n",
      "Name       object\n",
      "Age         int64\n",
      "Salary    float64\n",
      "dtype: object\n"
     ]
    }
   ],
   "source": [
    "print(\"\\nDtypes:\")\n",
    "print(df1.dtypes)"
   ]
  },
  {
   "cell_type": "code",
   "execution_count": 11,
   "id": "f667ed31",
   "metadata": {},
   "outputs": [
    {
     "name": "stdout",
     "output_type": "stream",
     "text": [
      "\n",
      "Describe:\n",
      "             ID        Age   Salary\n",
      "count  5.000000   5.000000      4.0\n",
      "mean   3.000000  35.000000  68750.0\n",
      "std    1.581139   7.905694  17500.0\n",
      "min    1.000000  25.000000  50000.0\n",
      "25%    2.000000  30.000000  57500.0\n",
      "50%    3.000000  35.000000  67500.0\n",
      "75%    4.000000  40.000000  78750.0\n",
      "max    5.000000  45.000000  90000.0\n"
     ]
    }
   ],
   "source": [
    "print(\"\\nDescribe:\")\n",
    "print(df1.describe())"
   ]
  },
  {
   "cell_type": "code",
   "execution_count": 12,
   "id": "b4806958",
   "metadata": {},
   "outputs": [
    {
     "name": "stdout",
     "output_type": "stream",
     "text": [
      "\n",
      "Value Counts (Age):\n",
      "Age\n",
      "25    1\n",
      "30    1\n",
      "35    1\n",
      "40    1\n",
      "45    1\n",
      "Name: count, dtype: int64\n"
     ]
    }
   ],
   "source": [
    "print(\"\\nValue Counts (Age):\")\n",
    "print(df1['Age'].value_counts())"
   ]
  },
  {
   "cell_type": "code",
   "execution_count": 13,
   "id": "0582eb57",
   "metadata": {},
   "outputs": [
    {
     "name": "stdout",
     "output_type": "stream",
     "text": [
      "\n",
      "Null Values:\n",
      "ID        0\n",
      "Name      0\n",
      "Age       0\n",
      "Salary    1\n",
      "dtype: int64\n"
     ]
    }
   ],
   "source": [
    "print(\"\\nNull Values:\")\n",
    "print(df1.isnull().sum())"
   ]
  },
  {
   "cell_type": "code",
   "execution_count": 14,
   "id": "36a83c64",
   "metadata": {},
   "outputs": [
    {
     "name": "stdout",
     "output_type": "stream",
     "text": [
      "\n",
      "Data Wrangling:\n"
     ]
    }
   ],
   "source": [
    "# Data Wrangling\n",
    "print(\"\\nData Wrangling:\")"
   ]
  },
  {
   "cell_type": "code",
   "execution_count": 15,
   "id": "3d5af323",
   "metadata": {},
   "outputs": [
    {
     "name": "stdout",
     "output_type": "stream",
     "text": [
      "\n",
      "Dropping NA values:\n",
      "   ID     Name  Age   Salary\n",
      "0   1    Alice   25  50000.0\n",
      "1   2      Bob   30  60000.0\n",
      "2   3  Charlie   35  75000.0\n",
      "3   4    David   40  90000.0\n"
     ]
    }
   ],
   "source": [
    "print(\"\\nDropping NA values:\")\n",
    "print(df1.dropna())"
   ]
  },
  {
   "cell_type": "code",
   "execution_count": 16,
   "id": "d5ec8a45",
   "metadata": {},
   "outputs": [
    {
     "name": "stdout",
     "output_type": "stream",
     "text": [
      "\n",
      "Filling NA values:\n",
      "   ID     Name  Age   Salary\n",
      "0   1    Alice   25  50000.0\n",
      "1   2      Bob   30  60000.0\n",
      "2   3  Charlie   35  75000.0\n",
      "3   4    David   40  90000.0\n",
      "4   5      Eve   45  68750.0\n"
     ]
    }
   ],
   "source": [
    "print(\"\\nFilling NA values:\")\n",
    "print(df1.fillna({'Salary': df1['Salary'].mean()}))"
   ]
  },
  {
   "cell_type": "code",
   "execution_count": 17,
   "id": "fd36647e",
   "metadata": {},
   "outputs": [
    {
     "name": "stdout",
     "output_type": "stream",
     "text": [
      "\n",
      "Merging DataFrames:\n",
      "   ID     Name   Age   Salary Department       Location\n",
      "0   1    Alice  25.0  50000.0        NaN            NaN\n",
      "1   2      Bob  30.0  60000.0        NaN            NaN\n",
      "2   3  Charlie  35.0  75000.0         HR       New York\n",
      "3   4    David  40.0  90000.0         IT  San Francisco\n",
      "4   5      Eve  45.0      NaN    Finance        Chicago\n",
      "5   6      NaN   NaN      NaN  Marketing         Boston\n",
      "6   7      NaN   NaN      NaN      Sales    Los Angeles\n"
     ]
    }
   ],
   "source": [
    "print(\"\\nMerging DataFrames:\")\n",
    "merged_df = pd.merge(df1, df2, on='ID', how='outer')\n",
    "print(merged_df)"
   ]
  },
  {
   "cell_type": "code",
   "execution_count": 18,
   "id": "d645648a",
   "metadata": {},
   "outputs": [
    {
     "name": "stdout",
     "output_type": "stream",
     "text": [
      "\n",
      "Concatenating DataFrames:\n",
      "   ID     Name  Age   Salary  ID Department       Location\n",
      "0   1    Alice   25  50000.0   3         HR       New York\n",
      "1   2      Bob   30  60000.0   4         IT  San Francisco\n",
      "2   3  Charlie   35  75000.0   5    Finance        Chicago\n",
      "3   4    David   40  90000.0   6  Marketing         Boston\n",
      "4   5      Eve   45      NaN   7      Sales    Los Angeles\n"
     ]
    }
   ],
   "source": [
    "print(\"\\nConcatenating DataFrames:\")\n",
    "concat_df = pd.concat([df1, df2], axis=1)\n",
    "print(concat_df)"
   ]
  },
  {
   "cell_type": "code",
   "execution_count": 19,
   "id": "f25a345c",
   "metadata": {},
   "outputs": [
    {
     "name": "stdout",
     "output_type": "stream",
     "text": [
      "\n",
      "Joining DataFrames:\n",
      "   ID     Name   Age   Salary Department       Location\n",
      "0   1    Alice  25.0  50000.0        NaN            NaN\n",
      "1   2      Bob  30.0  60000.0        NaN            NaN\n",
      "2   3  Charlie  35.0  75000.0         HR       New York\n",
      "3   4    David  40.0  90000.0         IT  San Francisco\n",
      "4   5      Eve  45.0      NaN    Finance        Chicago\n",
      "5   6      NaN   NaN      NaN  Marketing         Boston\n",
      "6   7      NaN   NaN      NaN      Sales    Los Angeles\n"
     ]
    }
   ],
   "source": [
    "print(\"\\nJoining DataFrames:\")\n",
    "joined_df = df1.set_index('ID').join(df2.set_index('ID'), how='outer')\n",
    "print(joined_df.reset_index())"
   ]
  },
  {
   "cell_type": "code",
   "execution_count": 20,
   "id": "71bb4295",
   "metadata": {},
   "outputs": [
    {
     "name": "stdout",
     "output_type": "stream",
     "text": [
      "\n",
      "Grouping by Department and calculating mean Age and Salary:\n",
      "             Age   Salary\n",
      "Department               \n",
      "Finance     45.0      NaN\n",
      "HR          35.0  75000.0\n",
      "IT          40.0  90000.0\n",
      "Marketing    NaN      NaN\n",
      "Sales        NaN      NaN\n"
     ]
    }
   ],
   "source": [
    "print(\"\\nGrouping by Department and calculating mean Age and Salary:\")\n",
    "grouped = merged_df.groupby('Department')[['Age', 'Salary']].mean()\n",
    "print(grouped)"
   ]
  }
 ],
 "metadata": {
  "jupytext": {
   "cell_metadata_filter": "-all",
   "main_language": "python",
   "notebook_metadata_filter": "-all"
  },
  "kernelspec": {
   "display_name": "Python 3 (ipykernel)",
   "language": "python",
   "name": "python3"
  },
  "language_info": {
   "codemirror_mode": {
    "name": "ipython",
    "version": 3
   },
   "file_extension": ".py",
   "mimetype": "text/x-python",
   "name": "python",
   "nbconvert_exporter": "python",
   "pygments_lexer": "ipython3",
   "version": "3.12.4"
  }
 },
 "nbformat": 4,
 "nbformat_minor": 5
}
