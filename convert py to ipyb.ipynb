{
 "cells": [
  {
   "cell_type": "code",
   "execution_count": 3,
   "id": "78de3bbe-4e8e-4b82-a102-c2aeac408c48",
   "metadata": {},
   "outputs": [
    {
     "name": "stdout",
     "output_type": "stream",
     "text": [
      "Collecting jupytext\n",
      "  Downloading jupytext-1.16.4-py3-none-any.whl.metadata (13 kB)\n",
      "Requirement already satisfied: markdown-it-py>=1.0 in c:\\users\\dsml mentor\\anaconda3\\lib\\site-packages (from jupytext) (2.2.0)\n",
      "Requirement already satisfied: mdit-py-plugins in c:\\users\\dsml mentor\\anaconda3\\lib\\site-packages (from jupytext) (0.3.0)\n",
      "Requirement already satisfied: nbformat in c:\\users\\dsml mentor\\anaconda3\\lib\\site-packages (from jupytext) (5.9.2)\n",
      "Requirement already satisfied: packaging in c:\\users\\dsml mentor\\anaconda3\\lib\\site-packages (from jupytext) (23.2)\n",
      "Requirement already satisfied: pyyaml in c:\\users\\dsml mentor\\anaconda3\\lib\\site-packages (from jupytext) (6.0.1)\n",
      "Requirement already satisfied: mdurl~=0.1 in c:\\users\\dsml mentor\\anaconda3\\lib\\site-packages (from markdown-it-py>=1.0->jupytext) (0.1.0)\n",
      "Requirement already satisfied: fastjsonschema in c:\\users\\dsml mentor\\anaconda3\\lib\\site-packages (from nbformat->jupytext) (2.16.2)\n",
      "Requirement already satisfied: jsonschema>=2.6 in c:\\users\\dsml mentor\\anaconda3\\lib\\site-packages (from nbformat->jupytext) (4.19.2)\n",
      "Requirement already satisfied: jupyter-core in c:\\users\\dsml mentor\\anaconda3\\lib\\site-packages (from nbformat->jupytext) (5.7.2)\n",
      "Requirement already satisfied: traitlets>=5.1 in c:\\users\\dsml mentor\\anaconda3\\lib\\site-packages (from nbformat->jupytext) (5.14.3)\n",
      "Requirement already satisfied: attrs>=22.2.0 in c:\\users\\dsml mentor\\anaconda3\\lib\\site-packages (from jsonschema>=2.6->nbformat->jupytext) (23.1.0)\n",
      "Requirement already satisfied: jsonschema-specifications>=2023.03.6 in c:\\users\\dsml mentor\\anaconda3\\lib\\site-packages (from jsonschema>=2.6->nbformat->jupytext) (2023.7.1)\n",
      "Requirement already satisfied: referencing>=0.28.4 in c:\\users\\dsml mentor\\anaconda3\\lib\\site-packages (from jsonschema>=2.6->nbformat->jupytext) (0.30.2)\n",
      "Requirement already satisfied: rpds-py>=0.7.1 in c:\\users\\dsml mentor\\anaconda3\\lib\\site-packages (from jsonschema>=2.6->nbformat->jupytext) (0.10.6)\n",
      "Requirement already satisfied: platformdirs>=2.5 in c:\\users\\dsml mentor\\anaconda3\\lib\\site-packages (from jupyter-core->nbformat->jupytext) (3.10.0)\n",
      "Requirement already satisfied: pywin32>=300 in c:\\users\\dsml mentor\\anaconda3\\lib\\site-packages (from jupyter-core->nbformat->jupytext) (305.1)\n",
      "Downloading jupytext-1.16.4-py3-none-any.whl (153 kB)\n",
      "   ---------------------------------------- 0.0/153.5 kB ? eta -:--:--\n",
      "   -- ------------------------------------- 10.2/153.5 kB ? eta -:--:--\n",
      "   ---------- ---------------------------- 41.0/153.5 kB 653.6 kB/s eta 0:00:01\n",
      "   ----------------------- --------------- 92.2/153.5 kB 871.5 kB/s eta 0:00:01\n",
      "   ---------------------------------------- 153.5/153.5 kB 1.1 MB/s eta 0:00:00\n",
      "Installing collected packages: jupytext\n",
      "Successfully installed jupytext-1.16.4\n",
      "Note: you may need to restart the kernel to use updated packages.\n"
     ]
    }
   ],
   "source": [
    "pip install jupytext\n"
   ]
  },
  {
   "cell_type": "code",
   "execution_count": 1,
   "id": "e720214e-a6a0-43ca-84a5-1d4699ee199d",
   "metadata": {},
   "outputs": [],
   "source": [
    "import jupytext\n",
    "notebook = jupytext.read('num.py')\n",
    "jupytext.write(notebook, 'num.ipynb', fmt='.ipynb')"
   ]
  },
  {
   "cell_type": "code",
   "execution_count": 3,
   "id": "ade28f0f-e085-4dcb-aa2d-3ee8347f86a4",
   "metadata": {},
   "outputs": [],
   "source": [
    "import jupytext\n",
    "notebook = jupytext.read('numintro.py')\n",
    "jupytext.write(notebook, 'numintro.ipynb', fmt='.ipynb')"
   ]
  },
  {
   "cell_type": "code",
   "execution_count": 7,
   "id": "9d0fcc9b-bcef-4b1b-8c0a-39f1338822a2",
   "metadata": {},
   "outputs": [],
   "source": [
    "import jupytext\n",
    "notebook = jupytext.read('OOPs.py')\n",
    "jupytext.write(notebook, 'OOPs.ipynb', fmt='.ipynb')"
   ]
  },
  {
   "cell_type": "code",
   "execution_count": 1,
   "id": "959dec89-b864-46a1-8085-9e74d96f1e28",
   "metadata": {},
   "outputs": [],
   "source": [
    "import jupytext\n",
    "notebook = jupytext.read('dataframe.py')\n",
    "jupytext.write(notebook, 'datafeame.ipynb', fmt='.ipynb')"
   ]
  },
  {
   "cell_type": "code",
   "execution_count": 3,
   "id": "9bbfc5cb-815c-4dd7-810c-dc7368855236",
   "metadata": {},
   "outputs": [],
   "source": [
    "import jupytext\n",
    "notebook = jupytext.read('exa.py')\n",
    "jupytext.write(notebook, 'exa.ipynb', fmt='.ipynb')"
   ]
  },
  {
   "cell_type": "code",
   "execution_count": 5,
   "id": "592ccf9d-c466-4bf7-a70a-f6007721262c",
   "metadata": {},
   "outputs": [],
   "source": [
    "import jupytext\n",
    "notebook = jupytext.read('series aggregate.py')\n",
    "jupytext.write(notebook, 'series aggregate.ipynb', fmt='.ipynb')"
   ]
  },
  {
   "cell_type": "code",
   "execution_count": 7,
   "id": "5db2ae87-b9b8-443b-ba21-7298448cf5e3",
   "metadata": {},
   "outputs": [],
   "source": [
    "import jupytext\n",
    "notebook = jupytext.read('series creation.py')\n",
    "jupytext.write(notebook, 'series creation.ipynb', fmt='.ipynb')"
   ]
  },
  {
   "cell_type": "code",
   "execution_count": 9,
   "id": "50595ab5-995b-4fbe-ab33-ade17a41fd6e",
   "metadata": {},
   "outputs": [],
   "source": [
    "import jupytext\n",
    "notebook = jupytext.read('series index.py')\n",
    "jupytext.write(notebook, 'series index.ipynb', fmt='.ipynb')"
   ]
  },
  {
   "cell_type": "code",
   "execution_count": 11,
   "id": "79856115-3dae-475a-872e-92fb1428fa98",
   "metadata": {},
   "outputs": [],
   "source": [
    "import jupytext\n",
    "notebook = jupytext.read('series update.py')\n",
    "jupytext.write(notebook, 'series update.ipynb', fmt='.ipynb')"
   ]
  },
  {
   "cell_type": "code",
   "execution_count": 1,
   "id": "0b6ce977-393b-47d1-9235-7ee91e432dc0",
   "metadata": {},
   "outputs": [],
   "source": [
    "import jupytext\n",
    "notebook = jupytext.read('advanced-data-operations.py')\n",
    "jupytext.write(notebook, 'advanced-data-operations.ipynb', fmt='.ipynb')\n"
   ]
  },
  {
   "cell_type": "code",
   "execution_count": 3,
   "id": "f2032743-5b43-4c42-be15-44610762de8c",
   "metadata": {},
   "outputs": [],
   "source": [
    "import jupytext\n",
    "notebook = jupytext.read('data-exploration-wrangling.py')\n",
    "jupytext.write(notebook, 'data-exploration-wrangling.ipynb', fmt='.ipynb')\n"
   ]
  },
  {
   "cell_type": "code",
   "execution_count": null,
   "id": "6effcb7d-7410-43ce-8dae-04040cc91f0f",
   "metadata": {},
   "outputs": [],
   "source": []
  }
 ],
 "metadata": {
  "kernelspec": {
   "display_name": "Python 3 (ipykernel)",
   "language": "python",
   "name": "python3"
  },
  "language_info": {
   "codemirror_mode": {
    "name": "ipython",
    "version": 3
   },
   "file_extension": ".py",
   "mimetype": "text/x-python",
   "name": "python",
   "nbconvert_exporter": "python",
   "pygments_lexer": "ipython3",
   "version": "3.12.4"
  }
 },
 "nbformat": 4,
 "nbformat_minor": 5
}
