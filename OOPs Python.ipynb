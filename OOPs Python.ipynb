{
 "cells": [
  {
   "cell_type": "code",
   "execution_count": null,
   "id": "8ba06348",
   "metadata": {
    "lines_to_next_cell": 1
   },
   "outputs": [],
   "source": [
    "# 1. Class and Object\n",
    "class Car:\n",
    "    def __init__(self, make, model, year):\n",
    "        self.make = make\n",
    "        self.model = model\n",
    "        self.year = year\n",
    "        self.odometer = 0\n",
    "    \n",
    "    def get_description(self):\n",
    "        return f\"{self.year} {self.make} {self.model}\"\n",
    "    \n",
    "    def drive(self, miles):\n",
    "        self.odometer += miles"
   ]
  },
  {
   "cell_type": "code",
   "execution_count": null,
   "id": "89a21280",
   "metadata": {
    "lines_to_next_cell": 1
   },
   "outputs": [],
   "source": [
    "# Creating objects\n",
    "my_car = Car(\"Toyota\", \"Corolla\", 2022)\n",
    "print(\"1. Class and Object:\")\n",
    "print(my_car.get_description())\n",
    "my_car.drive(100)\n",
    "print(f\"Odometer: {my_car.odometer} miles\")"
   ]
  },
  {
   "cell_type": "code",
   "execution_count": null,
   "id": "4c892fb2",
   "metadata": {
    "lines_to_next_cell": 1
   },
   "outputs": [],
   "source": [
    "# 2. Inheritance\n",
    "class ElectricCar(Car):\n",
    "    def __init__(self, make, model, year, battery_capacity):\n",
    "        super().__init__(make, model, year)\n",
    "        self.battery_capacity = battery_capacity\n",
    "    \n",
    "    def get_description(self):\n",
    "        return f\"{super().get_description()} - Battery: {self.battery_capacity} kWh\""
   ]
  },
  {
   "cell_type": "code",
   "execution_count": null,
   "id": "54a9e559",
   "metadata": {
    "lines_to_next_cell": 1
   },
   "outputs": [],
   "source": [
    "print(\"\\n2. Inheritance:\")\n",
    "my_electric_car = ElectricCar(\"Tesla\", \"Model 3\", 2023, 75)\n",
    "print(my_electric_car.get_description())"
   ]
  },
  {
   "cell_type": "code",
   "execution_count": null,
   "id": "f79b0d75",
   "metadata": {
    "lines_to_next_cell": 1
   },
   "outputs": [],
   "source": [
    "# 3. Encapsulation\n",
    "class BankAccount:\n",
    "    def __init__(self, account_number, balance):\n",
    "        self._account_number = account_number  # protected attribute\n",
    "        self.__balance = balance  # private attribute\n",
    "    \n",
    "    def deposit(self, amount):\n",
    "        if amount > 0:\n",
    "            self.__balance += amount\n",
    "    \n",
    "    def withdraw(self, amount):\n",
    "        if 0 < amount <= self.__balance:\n",
    "            self.__balance -= amount\n",
    "    \n",
    "    def get_balance(self):\n",
    "        return self.__balance"
   ]
  },
  {
   "cell_type": "code",
   "execution_count": null,
   "id": "a1aea34d",
   "metadata": {},
   "outputs": [],
   "source": [
    "print(\"\\n3. Encapsulation:\")\n",
    "my_account = BankAccount(\"123456\", 1000)\n",
    "my_account.deposit(500)\n",
    "my_account.withdraw(200)\n",
    "print(f\"Account balance: ${my_account.get_balance()}\")\n",
    "# print(my_account.__balance)  # This would raise an AttributeError"
   ]
  },
  {
   "cell_type": "code",
   "execution_count": null,
   "id": "b5b16e32",
   "metadata": {
    "lines_to_next_cell": 1
   },
   "outputs": [],
   "source": [
    "# 4. Polymorphism\n",
    "class Shape:\n",
    "    def area(self):\n",
    "        pass"
   ]
  },
  {
   "cell_type": "code",
   "execution_count": null,
   "id": "be6609cc",
   "metadata": {
    "lines_to_next_cell": 1
   },
   "outputs": [],
   "source": [
    "class Rectangle(Shape):\n",
    "    def __init__(self, width, height):\n",
    "        self.width = width\n",
    "        self.height = height\n",
    "    \n",
    "    def area(self):\n",
    "        return self.width * self.height"
   ]
  },
  {
   "cell_type": "code",
   "execution_count": null,
   "id": "63f003bb",
   "metadata": {
    "lines_to_next_cell": 1
   },
   "outputs": [],
   "source": [
    "class Circle(Shape):\n",
    "    def __init__(self, radius):\n",
    "        self.radius = radius\n",
    "    \n",
    "    def area(self):\n",
    "        return 3.14 * self.radius ** 2"
   ]
  },
  {
   "cell_type": "code",
   "execution_count": null,
   "id": "6532208f",
   "metadata": {
    "lines_to_next_cell": 1
   },
   "outputs": [],
   "source": [
    "def print_area(shape):\n",
    "    print(f\"Area: {shape.area()}\")"
   ]
  },
  {
   "cell_type": "code",
   "execution_count": null,
   "id": "e8c3b28e",
   "metadata": {},
   "outputs": [],
   "source": [
    "print(\"\\n4. Polymorphism:\")\n",
    "rectangle = Rectangle(5, 4)\n",
    "circle = Circle(3)\n",
    "print_area(rectangle)\n",
    "print_area(circle)"
   ]
  },
  {
   "cell_type": "code",
   "execution_count": null,
   "id": "d0475d81",
   "metadata": {
    "lines_to_next_cell": 1
   },
   "outputs": [],
   "source": [
    "# 5. Abstraction\n",
    "from abc import ABC, abstractmethod"
   ]
  },
  {
   "cell_type": "code",
   "execution_count": null,
   "id": "fe594962",
   "metadata": {
    "lines_to_next_cell": 1
   },
   "outputs": [],
   "source": [
    "class Animal(ABC):\n",
    "    @abstractmethod\n",
    "    def make_sound(self):\n",
    "        pass"
   ]
  },
  {
   "cell_type": "code",
   "execution_count": null,
   "id": "e1a5b065",
   "metadata": {
    "lines_to_next_cell": 1
   },
   "outputs": [],
   "source": [
    "class Dog(Animal):\n",
    "    def make_sound(self):\n",
    "        return \"Woof!\""
   ]
  },
  {
   "cell_type": "code",
   "execution_count": null,
   "id": "1d6fbe09",
   "metadata": {
    "lines_to_next_cell": 1
   },
   "outputs": [],
   "source": [
    "class Cat(Animal):\n",
    "    def make_sound(self):\n",
    "        return \"Meow!\""
   ]
  },
  {
   "cell_type": "code",
   "execution_count": null,
   "id": "5fab38fa",
   "metadata": {
    "lines_to_next_cell": 1
   },
   "outputs": [],
   "source": [
    "print(\"\\n5. Abstraction:\")\n",
    "dog = Dog()\n",
    "cat = Cat()\n",
    "print(f\"Dog says: {dog.make_sound()}\")\n",
    "print(f\"Cat says: {cat.make_sound()}\")"
   ]
  },
  {
   "cell_type": "code",
   "execution_count": null,
   "id": "e9ce2586",
   "metadata": {
    "lines_to_next_cell": 1
   },
   "outputs": [],
   "source": [
    "# 6. Multiple Inheritance\n",
    "class Flyable:\n",
    "    def fly(self):\n",
    "        return \"I can fly!\""
   ]
  },
  {
   "cell_type": "code",
   "execution_count": null,
   "id": "2ab1736d",
   "metadata": {
    "lines_to_next_cell": 1
   },
   "outputs": [],
   "source": [
    "class Swimmable:\n",
    "    def swim(self):\n",
    "        return \"I can swim!\""
   ]
  },
  {
   "cell_type": "code",
   "execution_count": null,
   "id": "ae03f343",
   "metadata": {
    "lines_to_next_cell": 1
   },
   "outputs": [],
   "source": [
    "class Duck(Animal, Flyable, Swimmable):\n",
    "    def make_sound(self):\n",
    "        return \"Quack!\""
   ]
  },
  {
   "cell_type": "code",
   "execution_count": null,
   "id": "33704c41",
   "metadata": {
    "lines_to_next_cell": 1
   },
   "outputs": [],
   "source": [
    "print(\"\\n6. Multiple Inheritance:\")\n",
    "duck = Duck()\n",
    "print(f\"Duck says: {duck.make_sound()}\")\n",
    "print(duck.fly())\n",
    "print(duck.swim())"
   ]
  },
  {
   "cell_type": "code",
   "execution_count": null,
   "id": "bc9323d1",
   "metadata": {
    "lines_to_next_cell": 1
   },
   "outputs": [],
   "source": [
    "# 7. Method Overloading (simulated in Python)\n",
    "class MathOperations:\n",
    "    def add(self, x, y=0, z=0):\n",
    "        return x + y + z"
   ]
  },
  {
   "cell_type": "code",
   "execution_count": null,
   "id": "e995e581",
   "metadata": {
    "lines_to_next_cell": 1
   },
   "outputs": [],
   "source": [
    "print(\"\\n7. Method Overloading (simulated):\")\n",
    "math_ops = MathOperations()\n",
    "print(f\"Adding two numbers: {math_ops.add(5, 3)}\")\n",
    "print(f\"Adding three numbers: {math_ops.add(5, 3, 2)}\")"
   ]
  },
  {
   "cell_type": "code",
   "execution_count": null,
   "id": "5e42e237",
   "metadata": {
    "lines_to_next_cell": 1
   },
   "outputs": [],
   "source": [
    "# 8. Property Decorators\n",
    "class Temperature:\n",
    "    def __init__(self, celsius):\n",
    "        self._celsius = celsius\n",
    "\n",
    "    @property\n",
    "    def celsius(self):\n",
    "        return self._celsius\n",
    "\n",
    "    @celsius.setter\n",
    "    def celsius(self, value):\n",
    "        if value < -273.15:\n",
    "            raise ValueError(\"Temperature below absolute zero is not possible\")\n",
    "        self._celsius = value\n",
    "\n",
    "    @property\n",
    "    def fahrenheit(self):\n",
    "        return (self.celsius * 9/5) + 32"
   ]
  },
  {
   "cell_type": "code",
   "execution_count": null,
   "id": "c0e33630",
   "metadata": {},
   "outputs": [],
   "source": [
    "print(\"\\n8. Property Decorators:\")\n",
    "temp = Temperature(25)\n",
    "print(f\"Temperature in Celsius: {temp.celsius}°C\")\n",
    "print(f\"Temperature in Fahrenheit: {temp.fahrenheit}°F\")\n",
    "temp.celsius = 30\n",
    "print(f\"Updated temperature in Celsius: {temp.celsius}°C\")\n",
    "print(f\"Updated temperature in Fahrenheit: {temp.fahrenheit}°F\")"
   ]
  }
 ],
 "metadata": {
  "jupytext": {
   "cell_metadata_filter": "-all",
   "main_language": "python",
   "notebook_metadata_filter": "-all"
  }
 },
 "nbformat": 4,
 "nbformat_minor": 5
}
