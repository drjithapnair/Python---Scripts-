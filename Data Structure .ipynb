{
 "cells": [
  {
   "cell_type": "code",
   "execution_count": 11,
   "id": "4bc6c5ca-7552-4a42-b302-0724d0526b12",
   "metadata": {},
   "outputs": [
    {
     "name": "stdout",
     "output_type": "stream",
     "text": [
      "hello world\n"
     ]
    }
   ],
   "source": [
    "print(\"hello world\")"
   ]
  },
  {
   "cell_type": "code",
   "execution_count": 3,
   "id": "fb00b0de-4fc7-4851-8323-418953c9dab9",
   "metadata": {},
   "outputs": [],
   "source": [
    "a=(1,\"hello\",3.4)"
   ]
  },
  {
   "cell_type": "code",
   "execution_count": 5,
   "id": "f7dfffea-9737-4057-8456-c7b79cdd0811",
   "metadata": {},
   "outputs": [],
   "source": [
    "b=1,4,\"hi\""
   ]
  },
  {
   "cell_type": "code",
   "execution_count": 31,
   "id": "1773b4cf-f31c-49e1-b8ed-4399713764f8",
   "metadata": {},
   "outputs": [
    {
     "name": "stdout",
     "output_type": "stream",
     "text": [
      "(1, 4, 'hi', 1, 'hello', 3.4)\n"
     ]
    }
   ],
   "source": [
    "t=b+a\n",
    "print(t)"
   ]
  },
  {
   "cell_type": "code",
   "execution_count": 47,
   "id": "1de7439c-56c5-4d74-8773-0cafb98f449c",
   "metadata": {},
   "outputs": [
    {
     "name": "stdout",
     "output_type": "stream",
     "text": [
      "('hello', 'hello', 'hello')\n"
     ]
    }
   ],
   "source": [
    "t2 = (\"hello\",)*3\n",
    "print(t2)"
   ]
  },
  {
   "cell_type": "code",
   "execution_count": 43,
   "id": "55a74889-4102-475f-a347-ed17407cf6fa",
   "metadata": {},
   "outputs": [
    {
     "name": "stdout",
     "output_type": "stream",
     "text": [
      "<class 'str'>\n"
     ]
    }
   ],
   "source": [
    "print(type(t2))"
   ]
  },
  {
   "cell_type": "code",
   "execution_count": 35,
   "id": "febf4b83-beef-4a02-a3ee-0e1380b35de5",
   "metadata": {},
   "outputs": [
    {
     "name": "stdout",
     "output_type": "stream",
     "text": [
      "('hello', 'hello', 'hello')\n"
     ]
    }
   ],
   "source": [
    "t1=(\"hello\",)*3\n",
    "print(t1)"
   ]
  },
  {
   "cell_type": "code",
   "execution_count": 37,
   "id": "b6aaefab-f254-4800-8412-53381cd937cc",
   "metadata": {},
   "outputs": [
    {
     "name": "stdout",
     "output_type": "stream",
     "text": [
      "(1, 'hello', 3.4, 1, 'hello', 3.4, 1, 'hello', 3.4)\n"
     ]
    }
   ],
   "source": [
    "t4= a*3\n",
    "print(t4)"
   ]
  },
  {
   "cell_type": "code",
   "execution_count": 21,
   "id": "1aa34329-e28e-4e54-ba44-15a39a633877",
   "metadata": {},
   "outputs": [],
   "source": [
    "c=(4)"
   ]
  },
  {
   "cell_type": "code",
   "execution_count": 9,
   "id": "8e7bedf3-9bca-40a4-8942-786485a3b802",
   "metadata": {},
   "outputs": [
    {
     "name": "stdout",
     "output_type": "stream",
     "text": [
      "<class 'tuple'>\n"
     ]
    }
   ],
   "source": [
    "print(type(a))"
   ]
  },
  {
   "cell_type": "code",
   "execution_count": 13,
   "id": "2a7d7020-a0e7-468b-b794-036e8f02bc39",
   "metadata": {},
   "outputs": [
    {
     "name": "stdout",
     "output_type": "stream",
     "text": [
      "<class 'tuple'>\n"
     ]
    }
   ],
   "source": [
    "print(type(b))"
   ]
  },
  {
   "cell_type": "code",
   "execution_count": 23,
   "id": "37741c4f-be06-455c-b708-aa491863bca6",
   "metadata": {},
   "outputs": [
    {
     "name": "stdout",
     "output_type": "stream",
     "text": [
      "<class 'int'>\n"
     ]
    }
   ],
   "source": [
    "print(type(c))"
   ]
  },
  {
   "cell_type": "code",
   "execution_count": 25,
   "id": "3fb993c0-e61c-4640-9e17-ee3546b3f857",
   "metadata": {},
   "outputs": [],
   "source": [
    "d=tuple('hello')"
   ]
  },
  {
   "cell_type": "code",
   "execution_count": 27,
   "id": "f91f2e4d-d53e-4455-9d76-3a76b8c0ae26",
   "metadata": {},
   "outputs": [
    {
     "name": "stdout",
     "output_type": "stream",
     "text": [
      "('h', 'e', 'l', 'l', 'o')\n"
     ]
    }
   ],
   "source": [
    "print(d)"
   ]
  },
  {
   "cell_type": "code",
   "execution_count": 15,
   "id": "f59cffab-b10c-464c-ae68-71d70af440b1",
   "metadata": {},
   "outputs": [],
   "source": [
    "t5=(1, 3.5,\"hello\", 9, \"hi\", \"anu\")"
   ]
  },
  {
   "cell_type": "code",
   "execution_count": 17,
   "id": "49eb6877-9c00-4e06-a370-0f5b34cbc9fb",
   "metadata": {},
   "outputs": [
    {
     "name": "stdout",
     "output_type": "stream",
     "text": [
      "(1, 3.5, 'hello', 9, 'hi', 'anu')\n"
     ]
    }
   ],
   "source": [
    "print(t5)"
   ]
  },
  {
   "cell_type": "code",
   "execution_count": 59,
   "id": "900adabb-1404-4802-9b93-32cfa70f8d8e",
   "metadata": {},
   "outputs": [
    {
     "name": "stdout",
     "output_type": "stream",
     "text": [
      "('hello', 9, 'hi')\n"
     ]
    }
   ],
   "source": [
    "print(t5[-4:-1])"
   ]
  },
  {
   "cell_type": "code",
   "execution_count": 57,
   "id": "e03d2c59-c1c6-409f-a314-6ffe11957755",
   "metadata": {},
   "outputs": [
    {
     "name": "stdout",
     "output_type": "stream",
     "text": [
      "hi\n"
     ]
    }
   ],
   "source": [
    "print(t5[-2])"
   ]
  },
  {
   "cell_type": "code",
   "execution_count": 69,
   "id": "da017968-e695-4af7-a0fd-1f25a0d2ec7b",
   "metadata": {},
   "outputs": [
    {
     "ename": "ValueError",
     "evalue": "too many values to unpack (expected 5)",
     "output_type": "error",
     "traceback": [
      "\u001b[1;31m---------------------------------------------------------------------------\u001b[0m",
      "\u001b[1;31mValueError\u001b[0m                                Traceback (most recent call last)",
      "Cell \u001b[1;32mIn[69], line 1\u001b[0m\n\u001b[1;32m----> 1\u001b[0m a,b,c,d,e\u001b[38;5;241m=\u001b[39mt5\n",
      "\u001b[1;31mValueError\u001b[0m: too many values to unpack (expected 5)"
     ]
    }
   ],
   "source": [
    "a,b,c,d,e=t5"
   ]
  },
  {
   "cell_type": "code",
   "execution_count": 63,
   "id": "921089f6-3331-436b-a9cd-540434b1683b",
   "metadata": {},
   "outputs": [
    {
     "name": "stdout",
     "output_type": "stream",
     "text": [
      "1 3.5 hello 9 hi anu\n"
     ]
    }
   ],
   "source": [
    "print(a,b,c,d,e,f)"
   ]
  },
  {
   "cell_type": "code",
   "execution_count": 65,
   "id": "afef6d65-950c-4822-a55b-386030e0fc6d",
   "metadata": {},
   "outputs": [
    {
     "name": "stdout",
     "output_type": "stream",
     "text": [
      "1\n"
     ]
    }
   ],
   "source": [
    "print(a)"
   ]
  },
  {
   "cell_type": "code",
   "execution_count": 67,
   "id": "40e019f3-8c02-41dc-9fe9-82d5120a3a63",
   "metadata": {},
   "outputs": [
    {
     "name": "stdout",
     "output_type": "stream",
     "text": [
      "anu\n"
     ]
    }
   ],
   "source": [
    "print(f)"
   ]
  },
  {
   "cell_type": "code",
   "execution_count": 19,
   "id": "05f34c46-69b4-410c-90c7-133e0badd44e",
   "metadata": {},
   "outputs": [
    {
     "ename": "TypeError",
     "evalue": "'tuple' object doesn't support item deletion",
     "output_type": "error",
     "traceback": [
      "\u001b[1;31m---------------------------------------------------------------------------\u001b[0m",
      "\u001b[1;31mTypeError\u001b[0m                                 Traceback (most recent call last)",
      "Cell \u001b[1;32mIn[19], line 1\u001b[0m\n\u001b[1;32m----> 1\u001b[0m \u001b[38;5;28;01mdel\u001b[39;00m t5[\u001b[38;5;241m1\u001b[39m]\n",
      "\u001b[1;31mTypeError\u001b[0m: 'tuple' object doesn't support item deletion"
     ]
    }
   ],
   "source": [
    "del t5[1]"
   ]
  },
  {
   "cell_type": "code",
   "execution_count": 73,
   "id": "14d8cc57-7c5a-4c80-b9a7-92feac119a6a",
   "metadata": {},
   "outputs": [],
   "source": [
    "del t5"
   ]
  },
  {
   "cell_type": "code",
   "execution_count": 75,
   "id": "e58e1036-8438-4da7-b31b-b94fb2d2b417",
   "metadata": {},
   "outputs": [
    {
     "ename": "NameError",
     "evalue": "name 't5' is not defined",
     "output_type": "error",
     "traceback": [
      "\u001b[1;31m---------------------------------------------------------------------------\u001b[0m",
      "\u001b[1;31mNameError\u001b[0m                                 Traceback (most recent call last)",
      "Cell \u001b[1;32mIn[75], line 1\u001b[0m\n\u001b[1;32m----> 1\u001b[0m \u001b[38;5;28mprint\u001b[39m(t5)\n",
      "\u001b[1;31mNameError\u001b[0m: name 't5' is not defined"
     ]
    }
   ],
   "source": [
    "print(t5)"
   ]
  },
  {
   "cell_type": "code",
   "execution_count": 3,
   "id": "7c628b32-a344-4134-b0eb-3faea4386ea2",
   "metadata": {},
   "outputs": [],
   "source": [
    "s1=\"hello\""
   ]
  },
  {
   "cell_type": "code",
   "execution_count": 5,
   "id": "ad17da57-6007-4b73-8a92-6fe61c4a687f",
   "metadata": {},
   "outputs": [],
   "source": [
    "s2='World'"
   ]
  },
  {
   "cell_type": "code",
   "execution_count": 7,
   "id": "4cd3b361-9c8a-4285-a2e6-b1c8578a819c",
   "metadata": {},
   "outputs": [],
   "source": [
    "s3= \"\"\" multiline \n",
    "string \"\"\""
   ]
  },
  {
   "cell_type": "code",
   "execution_count": 9,
   "id": "3528cbdf-4cdc-4002-9493-a816c1271c07",
   "metadata": {},
   "outputs": [
    {
     "name": "stdout",
     "output_type": "stream",
     "text": [
      "<class 'str'>\n"
     ]
    }
   ],
   "source": [
    "print(type(s1))"
   ]
  },
  {
   "cell_type": "code",
   "execution_count": 11,
   "id": "3fa6cc0c-64b4-48a8-a75f-37b23bec7e91",
   "metadata": {},
   "outputs": [
    {
     "name": "stdout",
     "output_type": "stream",
     "text": [
      "<class 'str'>\n"
     ]
    }
   ],
   "source": [
    "print(type(s2))"
   ]
  },
  {
   "cell_type": "code",
   "execution_count": 13,
   "id": "d4ed354c-28fd-446f-a50a-31a4d5a62bac",
   "metadata": {},
   "outputs": [
    {
     "name": "stdout",
     "output_type": "stream",
     "text": [
      "<class 'str'>\n"
     ]
    }
   ],
   "source": [
    "print(type(s3))"
   ]
  },
  {
   "cell_type": "code",
   "execution_count": 21,
   "id": "4a2cb3f2-b1ee-4d42-9a33-9df8d6a3d417",
   "metadata": {},
   "outputs": [],
   "source": [
    "s4= 'madam'"
   ]
  },
  {
   "cell_type": "code",
   "execution_count": 23,
   "id": "2fd42f88-7d6f-4d13-8a63-fb11dc32e525",
   "metadata": {},
   "outputs": [
    {
     "name": "stdout",
     "output_type": "stream",
     "text": [
      "madam\n"
     ]
    }
   ],
   "source": [
    "print(s4)"
   ]
  },
  {
   "cell_type": "code",
   "execution_count": 25,
   "id": "68849fdf-2c84-4933-a5e8-8fdfbc1b2916",
   "metadata": {},
   "outputs": [],
   "source": [
    "s5 = 'hello world'"
   ]
  },
  {
   "cell_type": "code",
   "execution_count": 27,
   "id": "372a1f3f-1bcc-49f2-9564-5bc9b168fa26",
   "metadata": {},
   "outputs": [
    {
     "name": "stdout",
     "output_type": "stream",
     "text": [
      "lo w\n"
     ]
    }
   ],
   "source": [
    "print( s5[3:7])"
   ]
  },
  {
   "cell_type": "code",
   "execution_count": 37,
   "id": "8a47b205-fc1b-4969-8c6d-2e190321fb98",
   "metadata": {},
   "outputs": [
    {
     "name": "stdout",
     "output_type": "stream",
     "text": [
      "dlrow olleh\n"
     ]
    }
   ],
   "source": [
    "print(s5[::-1])"
   ]
  },
  {
   "cell_type": "code",
   "execution_count": 39,
   "id": "ce559ade-134a-4b37-9777-5041f2fc7dcb",
   "metadata": {},
   "outputs": [
    {
     "name": "stdout",
     "output_type": "stream",
     "text": [
      "w\n"
     ]
    }
   ],
   "source": [
    "print(s5[6])"
   ]
  },
  {
   "cell_type": "code",
   "execution_count": 41,
   "id": "f373d47e-8660-45ac-ab57-b3b8d4919ed0",
   "metadata": {},
   "outputs": [],
   "source": [
    "s6= s4 + \" \" + s5   #concatenation"
   ]
  },
  {
   "cell_type": "code",
   "execution_count": 43,
   "id": "36240ff9-ac5c-4922-b377-643679c6aeb0",
   "metadata": {},
   "outputs": [
    {
     "name": "stdout",
     "output_type": "stream",
     "text": [
      "madam hello world\n"
     ]
    }
   ],
   "source": [
    "print(s6)"
   ]
  },
  {
   "cell_type": "code",
   "execution_count": 45,
   "id": "ba13ed06-69d4-4b62-979d-54cd377626e9",
   "metadata": {},
   "outputs": [
    {
     "name": "stdout",
     "output_type": "stream",
     "text": [
      "madammadammadam\n"
     ]
    }
   ],
   "source": [
    "print(s4 *3)"
   ]
  },
  {
   "cell_type": "code",
   "execution_count": 47,
   "id": "25f4acd7-bb04-4c2a-99dd-1143af9d3e90",
   "metadata": {},
   "outputs": [
    {
     "name": "stdout",
     "output_type": "stream",
     "text": [
      "5\n"
     ]
    }
   ],
   "source": [
    "print(len(s4))"
   ]
  },
  {
   "cell_type": "code",
   "execution_count": 49,
   "id": "d7e8dea5-9d51-4d07-8f53-90f285865c1d",
   "metadata": {},
   "outputs": [
    {
     "name": "stdout",
     "output_type": "stream",
     "text": [
      "5\n"
     ]
    }
   ],
   "source": [
    "print(len(\"hello\"))"
   ]
  },
  {
   "cell_type": "code",
   "execution_count": 51,
   "id": "7d77b245-6b60-4e31-a42d-6baba8a744d8",
   "metadata": {},
   "outputs": [
    {
     "name": "stdout",
     "output_type": "stream",
     "text": [
      "MADAM\n"
     ]
    }
   ],
   "source": [
    "print(s4.upper())"
   ]
  },
  {
   "cell_type": "code",
   "execution_count": 53,
   "id": "66996a4b-d21d-40ca-bc47-b6911e104873",
   "metadata": {},
   "outputs": [
    {
     "name": "stdout",
     "output_type": "stream",
     "text": [
      "Madam\n"
     ]
    }
   ],
   "source": [
    "print(s4.capitalize())"
   ]
  },
  {
   "cell_type": "code",
   "execution_count": 55,
   "id": "66b37232-92b2-4c9c-97f4-1927d2c633c1",
   "metadata": {},
   "outputs": [
    {
     "name": "stdout",
     "output_type": "stream",
     "text": [
      "-1\n"
     ]
    }
   ],
   "source": [
    "print(s4.find('th'))"
   ]
  },
  {
   "cell_type": "code",
   "execution_count": 57,
   "id": "b5794490-6d25-49b8-961b-e499a9395927",
   "metadata": {},
   "outputs": [
    {
     "name": "stdout",
     "output_type": "stream",
     "text": [
      "1\n"
     ]
    }
   ],
   "source": [
    "print(s4.find('a'))"
   ]
  },
  {
   "cell_type": "code",
   "execution_count": 59,
   "id": "d6344fab-beb3-4541-9554-b750dd48fb18",
   "metadata": {},
   "outputs": [
    {
     "name": "stdout",
     "output_type": "stream",
     "text": [
      "mabam\n"
     ]
    }
   ],
   "source": [
    "print(s4.replace('d','b'))"
   ]
  },
  {
   "cell_type": "code",
   "execution_count": 65,
   "id": "7335fa52-5368-41a3-8065-eb6eb9b3e002",
   "metadata": {},
   "outputs": [
    {
     "name": "stdout",
     "output_type": "stream",
     "text": [
      "True\n"
     ]
    }
   ],
   "source": [
    "print(\"hello\" in s6)"
   ]
  },
  {
   "cell_type": "code",
   "execution_count": 67,
   "id": "ed684ddf-e8f4-42dd-ad7d-c9cc36e84b5b",
   "metadata": {},
   "outputs": [
    {
     "ename": "TypeError",
     "evalue": "'str' object doesn't support item deletion",
     "output_type": "error",
     "traceback": [
      "\u001b[1;31m---------------------------------------------------------------------------\u001b[0m",
      "\u001b[1;31mTypeError\u001b[0m                                 Traceback (most recent call last)",
      "Cell \u001b[1;32mIn[67], line 1\u001b[0m\n\u001b[1;32m----> 1\u001b[0m \u001b[38;5;28;01mdel\u001b[39;00m s6[\u001b[38;5;241m7\u001b[39m]\n",
      "\u001b[1;31mTypeError\u001b[0m: 'str' object doesn't support item deletion"
     ]
    }
   ],
   "source": [
    "del s6[7]"
   ]
  },
  {
   "cell_type": "code",
   "execution_count": 69,
   "id": "5b6a9133-5988-4073-9133-7ca7021dacbe",
   "metadata": {},
   "outputs": [],
   "source": [
    "del s6"
   ]
  },
  {
   "cell_type": "code",
   "execution_count": 71,
   "id": "b62c3db5-509e-495b-ac1c-010dbf500602",
   "metadata": {},
   "outputs": [
    {
     "ename": "NameError",
     "evalue": "name 's6' is not defined",
     "output_type": "error",
     "traceback": [
      "\u001b[1;31m---------------------------------------------------------------------------\u001b[0m",
      "\u001b[1;31mNameError\u001b[0m                                 Traceback (most recent call last)",
      "Cell \u001b[1;32mIn[71], line 1\u001b[0m\n\u001b[1;32m----> 1\u001b[0m \u001b[38;5;28mprint\u001b[39m(s6)\n",
      "\u001b[1;31mNameError\u001b[0m: name 's6' is not defined"
     ]
    }
   ],
   "source": [
    "print(s6)"
   ]
  },
  {
   "cell_type": "markdown",
   "id": "8dbc768e-72f3-49e6-9d6a-5d3c1cdebc16",
   "metadata": {},
   "source": [
    "List "
   ]
  },
  {
   "cell_type": "code",
   "execution_count": 2,
   "id": "085899f6-4c45-4790-80c8-a8088c9e8089",
   "metadata": {},
   "outputs": [],
   "source": [
    "l1=[1,2,3,4]"
   ]
  },
  {
   "cell_type": "code",
   "execution_count": 30,
   "id": "f067ff61-b6cc-4612-8378-025a667765c0",
   "metadata": {},
   "outputs": [],
   "source": [
    "l2 =['a','b','c','d']"
   ]
  },
  {
   "cell_type": "code",
   "execution_count": 78,
   "id": "94de3ac8-8c19-4ea2-8de5-0e7577bf6453",
   "metadata": {},
   "outputs": [],
   "source": [
    "l3=[1,'d',True,3.14]"
   ]
  },
  {
   "cell_type": "code",
   "execution_count": 80,
   "id": "4d8f7bb5-b5ba-421e-87b5-c91f0e5684a6",
   "metadata": {},
   "outputs": [],
   "source": [
    "l4= []"
   ]
  },
  {
   "cell_type": "code",
   "execution_count": 82,
   "id": "13cfb05f-4482-4ee9-a07c-4841145c930c",
   "metadata": {},
   "outputs": [
    {
     "name": "stdout",
     "output_type": "stream",
     "text": [
      "<class 'list'>\n"
     ]
    }
   ],
   "source": [
    "print(type(l1))"
   ]
  },
  {
   "cell_type": "code",
   "execution_count": 84,
   "id": "85cc915c-bb0b-447a-8b83-c0565a902cfa",
   "metadata": {},
   "outputs": [
    {
     "name": "stdout",
     "output_type": "stream",
     "text": [
      "<class 'list'>\n"
     ]
    }
   ],
   "source": [
    "print(type(l2))"
   ]
  },
  {
   "cell_type": "code",
   "execution_count": 86,
   "id": "e857a3c2-0199-4c9b-8504-6317facd2ce2",
   "metadata": {},
   "outputs": [
    {
     "name": "stdout",
     "output_type": "stream",
     "text": [
      "<class 'list'>\n"
     ]
    }
   ],
   "source": [
    "print(type(l3))"
   ]
  },
  {
   "cell_type": "code",
   "execution_count": 88,
   "id": "42abdc96-f5c3-4bc4-93dd-5c355f8ebdf2",
   "metadata": {},
   "outputs": [
    {
     "name": "stdout",
     "output_type": "stream",
     "text": [
      "<class 'list'>\n"
     ]
    }
   ],
   "source": [
    "print(type(l4))"
   ]
  },
  {
   "cell_type": "code",
   "execution_count": 90,
   "id": "982c46e7-557b-4a6d-a209-2ccff952dc91",
   "metadata": {},
   "outputs": [
    {
     "name": "stdout",
     "output_type": "stream",
     "text": [
      "3.14\n"
     ]
    }
   ],
   "source": [
    "print(l3[3])"
   ]
  },
  {
   "cell_type": "code",
   "execution_count": 94,
   "id": "79130ea4-33dc-4e67-bb3b-1440d29781b5",
   "metadata": {},
   "outputs": [
    {
     "name": "stdout",
     "output_type": "stream",
     "text": [
      "d\n"
     ]
    }
   ],
   "source": [
    "print(l3[1])"
   ]
  },
  {
   "cell_type": "code",
   "execution_count": 96,
   "id": "30725234-31a2-49c7-9b0b-e7238d75095b",
   "metadata": {},
   "outputs": [
    {
     "name": "stdout",
     "output_type": "stream",
     "text": [
      "[3.14, True, 'd', 1]\n"
     ]
    }
   ],
   "source": [
    "print(l3[::-1])"
   ]
  },
  {
   "cell_type": "code",
   "execution_count": 98,
   "id": "b08293db-e219-409e-b489-c2ad52025b7c",
   "metadata": {},
   "outputs": [
    {
     "name": "stdout",
     "output_type": "stream",
     "text": [
      "['d', True]\n"
     ]
    }
   ],
   "source": [
    "print(l3[1:3])"
   ]
  },
  {
   "cell_type": "code",
   "execution_count": 4,
   "id": "61089af7-78c0-4044-b6ee-1dcf1629f547",
   "metadata": {},
   "outputs": [
    {
     "name": "stdout",
     "output_type": "stream",
     "text": [
      "[1, 2, 3, 4]\n"
     ]
    }
   ],
   "source": [
    "print(l1)"
   ]
  },
  {
   "cell_type": "code",
   "execution_count": 6,
   "id": "9ba3c8e9-3c1d-41af-bc21-fde70de7b6d9",
   "metadata": {},
   "outputs": [],
   "source": [
    "l1[1] = 5"
   ]
  },
  {
   "cell_type": "code",
   "execution_count": 8,
   "id": "5abf6edf-ce46-43f8-b4a0-613bca6ea8ba",
   "metadata": {},
   "outputs": [
    {
     "name": "stdout",
     "output_type": "stream",
     "text": [
      "[1, 5, 3, 4]\n"
     ]
    }
   ],
   "source": [
    "print(l1)"
   ]
  },
  {
   "cell_type": "code",
   "execution_count": 10,
   "id": "b76b7a25-d00d-49b3-823e-90edd75ce2bc",
   "metadata": {},
   "outputs": [],
   "source": [
    "# common methods \n",
    "\n",
    "l1.append(6)"
   ]
  },
  {
   "cell_type": "code",
   "execution_count": 12,
   "id": "6170a819-f087-4f86-b027-2a8fe5cea89a",
   "metadata": {},
   "outputs": [
    {
     "name": "stdout",
     "output_type": "stream",
     "text": [
      "[1, 5, 3, 4, 6]\n"
     ]
    }
   ],
   "source": [
    "print(l1)"
   ]
  },
  {
   "cell_type": "code",
   "execution_count": 14,
   "id": "982899ed-7d14-4f1e-8eda-29ce765d049b",
   "metadata": {},
   "outputs": [],
   "source": [
    "l1.remove(3)"
   ]
  },
  {
   "cell_type": "code",
   "execution_count": 16,
   "id": "c9c50159-0c0d-4c24-a174-32d0982f7bfc",
   "metadata": {},
   "outputs": [
    {
     "name": "stdout",
     "output_type": "stream",
     "text": [
      "[1, 5, 4, 6]\n"
     ]
    }
   ],
   "source": [
    "print(l1)"
   ]
  },
  {
   "cell_type": "code",
   "execution_count": 18,
   "id": "b26f7056-7129-4060-8fea-c02f8d745929",
   "metadata": {},
   "outputs": [],
   "source": [
    "l1.insert(1,8)"
   ]
  },
  {
   "cell_type": "code",
   "execution_count": 20,
   "id": "9fdffa80-583c-4a8a-adee-1eed00f84d85",
   "metadata": {},
   "outputs": [
    {
     "name": "stdout",
     "output_type": "stream",
     "text": [
      "[1, 8, 5, 4, 6]\n"
     ]
    }
   ],
   "source": [
    "print(l1)"
   ]
  },
  {
   "cell_type": "code",
   "execution_count": 22,
   "id": "2018a155-a493-47d0-b065-658bc023971f",
   "metadata": {},
   "outputs": [],
   "source": [
    "l1.insert(2,7)"
   ]
  },
  {
   "cell_type": "code",
   "execution_count": 24,
   "id": "61008de6-9a11-4249-b028-97eb994e173b",
   "metadata": {},
   "outputs": [
    {
     "name": "stdout",
     "output_type": "stream",
     "text": [
      "[1, 8, 7, 5, 4, 6]\n"
     ]
    }
   ],
   "source": [
    "print(l1)"
   ]
  },
  {
   "cell_type": "code",
   "execution_count": null,
   "id": "6d6ae091-8963-4741-ba13-8168c41bb72e",
   "metadata": {},
   "outputs": [],
   "source": [
    "l1[0] =1\n",
    "l1[1]=8\n",
    "l1[2]=5  change it with 7"
   ]
  },
  {
   "cell_type": "code",
   "execution_count": 26,
   "id": "01538337-443f-4572-ab2e-5684a1f070cf",
   "metadata": {},
   "outputs": [
    {
     "name": "stdout",
     "output_type": "stream",
     "text": [
      "[1, 4, 5, 6, 7, 8]\n"
     ]
    }
   ],
   "source": [
    "l1.sort()\n",
    "print(l1)"
   ]
  },
  {
   "cell_type": "code",
   "execution_count": 28,
   "id": "17e10818-ef1b-489c-bce8-3f4c7057116e",
   "metadata": {},
   "outputs": [
    {
     "name": "stdout",
     "output_type": "stream",
     "text": [
      "[8, 7, 6, 5, 4, 1]\n"
     ]
    }
   ],
   "source": [
    "l1.reverse()\n",
    "print(l1)"
   ]
  },
  {
   "cell_type": "code",
   "execution_count": 39,
   "id": "be168644-d348-4975-a225-afeece431842",
   "metadata": {},
   "outputs": [
    {
     "name": "stdout",
     "output_type": "stream",
     "text": [
      "[8, 7, 6, 5, 4, 1, 'a', 'b', 'c', 'd']\n"
     ]
    }
   ],
   "source": [
    "# concatenation\n",
    "lst= l1+l2 \n",
    "print(lst)\n"
   ]
  },
  {
   "cell_type": "code",
   "execution_count": 41,
   "id": "78f0bc53-819c-480f-998e-d00d2bb2b8f8",
   "metadata": {},
   "outputs": [
    {
     "name": "stdout",
     "output_type": "stream",
     "text": [
      "10\n"
     ]
    }
   ],
   "source": [
    "print(len(lst))"
   ]
  },
  {
   "cell_type": "code",
   "execution_count": 43,
   "id": "cb07a368-bdf8-4968-99b6-009b1109b688",
   "metadata": {},
   "outputs": [
    {
     "name": "stdout",
     "output_type": "stream",
     "text": [
      "False\n"
     ]
    }
   ],
   "source": [
    "print(3 in lst)"
   ]
  },
  {
   "cell_type": "code",
   "execution_count": 45,
   "id": "9eaefd65-72ea-4eb9-bee0-e510039358cd",
   "metadata": {},
   "outputs": [
    {
     "name": "stdout",
     "output_type": "stream",
     "text": [
      "True\n"
     ]
    }
   ],
   "source": [
    "print(6 in lst)"
   ]
  },
  {
   "cell_type": "code",
   "execution_count": 47,
   "id": "50bf677c-0fd4-4b67-8432-ac6a4b4315ff",
   "metadata": {},
   "outputs": [],
   "source": [
    "l6=[2,7,9,5]"
   ]
  },
  {
   "cell_type": "code",
   "execution_count": 49,
   "id": "689a4948-0f18-4dd8-9e5c-05124b9d5f7f",
   "metadata": {},
   "outputs": [
    {
     "name": "stdout",
     "output_type": "stream",
     "text": [
      "[2, 7, 9, 5]\n"
     ]
    }
   ],
   "source": [
    "print(l6)"
   ]
  },
  {
   "cell_type": "code",
   "execution_count": 51,
   "id": "39ad5d2a-9e78-4130-86c9-cd8bf75222b0",
   "metadata": {},
   "outputs": [],
   "source": [
    "a,b,c,d=[2,7,9,5]"
   ]
  },
  {
   "cell_type": "code",
   "execution_count": 53,
   "id": "860177ef-9e16-4ad1-a109-0e5027009ff6",
   "metadata": {},
   "outputs": [
    {
     "name": "stdout",
     "output_type": "stream",
     "text": [
      "2\n"
     ]
    }
   ],
   "source": [
    "print(a)"
   ]
  },
  {
   "cell_type": "code",
   "execution_count": 59,
   "id": "1195caff-82d6-41a4-b790-53ebbfcdddb4",
   "metadata": {},
   "outputs": [],
   "source": [
    "a,b,c,d=l6"
   ]
  },
  {
   "cell_type": "code",
   "execution_count": 61,
   "id": "bed4eeff-88c8-480b-9d4c-a72c71c080ef",
   "metadata": {},
   "outputs": [],
   "source": [
    "#convert tuple to list and update\n",
    "\n",
    "t1 = (1, 2, 3, 5, 6, 7)"
   ]
  },
  {
   "cell_type": "code",
   "execution_count": 63,
   "id": "faa308eb-7f9e-4a21-81ea-aa95298842a7",
   "metadata": {},
   "outputs": [
    {
     "name": "stdout",
     "output_type": "stream",
     "text": [
      "<class 'tuple'>\n"
     ]
    }
   ],
   "source": [
    "print(type(t1))"
   ]
  },
  {
   "cell_type": "code",
   "execution_count": 65,
   "id": "afece645-1cbd-4e40-907d-199005064660",
   "metadata": {},
   "outputs": [
    {
     "name": "stdout",
     "output_type": "stream",
     "text": [
      "original tuple:  (1, 2, 3, 5, 6, 7)\n"
     ]
    }
   ],
   "source": [
    "print(\"original tuple: \", t1)"
   ]
  },
  {
   "cell_type": "code",
   "execution_count": 67,
   "id": "c283c393-7b76-4dc1-b67e-21a3ac7c8fa6",
   "metadata": {},
   "outputs": [],
   "source": [
    "temp= list(t1)"
   ]
  },
  {
   "cell_type": "code",
   "execution_count": 69,
   "id": "2011e850-94a4-4bf6-a8dc-709b0c3eb9d3",
   "metadata": {},
   "outputs": [
    {
     "name": "stdout",
     "output_type": "stream",
     "text": [
      "[1, 2, 3, 5, 6, 7]\n"
     ]
    }
   ],
   "source": [
    "print(temp)"
   ]
  },
  {
   "cell_type": "code",
   "execution_count": 71,
   "id": "43f42fc9-f893-4c6b-838b-3e8d5c0f26c8",
   "metadata": {},
   "outputs": [],
   "source": [
    "temp[3]=4"
   ]
  },
  {
   "cell_type": "code",
   "execution_count": 73,
   "id": "37530825-2fed-4eac-8df9-528ca6af000d",
   "metadata": {},
   "outputs": [
    {
     "name": "stdout",
     "output_type": "stream",
     "text": [
      "[1, 2, 3, 4, 6, 7]\n"
     ]
    }
   ],
   "source": [
    "print(temp)"
   ]
  },
  {
   "cell_type": "code",
   "execution_count": 75,
   "id": "743fa311-badb-4b44-a04b-e24ff2d9bd51",
   "metadata": {},
   "outputs": [],
   "source": [
    "new= tuple(temp)"
   ]
  },
  {
   "cell_type": "code",
   "execution_count": 77,
   "id": "3755e924-45ff-487b-9638-2352216bb330",
   "metadata": {},
   "outputs": [
    {
     "name": "stdout",
     "output_type": "stream",
     "text": [
      "updated tuple: (1, 2, 3, 4, 6, 7)\n"
     ]
    }
   ],
   "source": [
    "print(\"updated tuple:\", new)"
   ]
  },
  {
   "cell_type": "code",
   "execution_count": 81,
   "id": "e5c4e604-8799-49f0-8fbd-2b07824373c7",
   "metadata": {},
   "outputs": [],
   "source": [
    "#convert string values using list \n",
    "\n",
    "s1=\"Hello World !\"\n"
   ]
  },
  {
   "cell_type": "code",
   "execution_count": 83,
   "id": "6282ff21-524a-4efb-a55d-cfb18423126a",
   "metadata": {},
   "outputs": [
    {
     "name": "stdout",
     "output_type": "stream",
     "text": [
      "original string: Hello World !\n"
     ]
    }
   ],
   "source": [
    "print(\"original string:\" , s1)"
   ]
  },
  {
   "cell_type": "code",
   "execution_count": 85,
   "id": "d47d67d2-bb4d-48ee-be8c-b2024781f6a1",
   "metadata": {},
   "outputs": [],
   "source": [
    "tem = list(s1)"
   ]
  },
  {
   "cell_type": "code",
   "execution_count": 87,
   "id": "6b767f6b-e457-478d-93d7-1f87182344e8",
   "metadata": {},
   "outputs": [
    {
     "name": "stdout",
     "output_type": "stream",
     "text": [
      "['H', 'e', 'l', 'l', 'o', ' ', 'W', 'o', 'r', 'l', 'd', ' ', '!']\n"
     ]
    }
   ],
   "source": [
    "print(tem)"
   ]
  },
  {
   "cell_type": "code",
   "execution_count": 89,
   "id": "da04ed3c-5b57-4d61-838c-481f4073b69b",
   "metadata": {},
   "outputs": [],
   "source": [
    "tem[12]= '@'"
   ]
  },
  {
   "cell_type": "code",
   "execution_count": 91,
   "id": "7f15d0dc-2d8b-41a4-b246-de249b6b0358",
   "metadata": {},
   "outputs": [
    {
     "name": "stdout",
     "output_type": "stream",
     "text": [
      "['H', 'e', 'l', 'l', 'o', ' ', 'W', 'o', 'r', 'l', 'd', ' ', '@']\n"
     ]
    }
   ],
   "source": [
    "print(tem)"
   ]
  },
  {
   "cell_type": "code",
   "execution_count": 93,
   "id": "489b514c-aeae-44a1-931d-6fd802fa3916",
   "metadata": {},
   "outputs": [],
   "source": [
    "tem[-1] ='#'"
   ]
  },
  {
   "cell_type": "code",
   "execution_count": 95,
   "id": "c38f1154-8de9-401c-915b-73d060644d04",
   "metadata": {},
   "outputs": [
    {
     "name": "stdout",
     "output_type": "stream",
     "text": [
      "['H', 'e', 'l', 'l', 'o', ' ', 'W', 'o', 'r', 'l', 'd', ' ', '#']\n"
     ]
    }
   ],
   "source": [
    "print(tem)"
   ]
  },
  {
   "cell_type": "code",
   "execution_count": 97,
   "id": "2002abe2-5d27-49ca-a427-64faacde36e2",
   "metadata": {},
   "outputs": [],
   "source": [
    "new1 = ''.join(tem)"
   ]
  },
  {
   "cell_type": "code",
   "execution_count": 101,
   "id": "1a0c0874-50ba-475e-894d-b46afcc05a85",
   "metadata": {},
   "outputs": [
    {
     "name": "stdout",
     "output_type": "stream",
     "text": [
      "updated: Hello World #\n"
     ]
    }
   ],
   "source": [
    "print(\"updated:\" ,new1)"
   ]
  },
  {
   "cell_type": "code",
   "execution_count": 1,
   "id": "cfb538ef-4796-4988-9d31-fecc27aa2348",
   "metadata": {},
   "outputs": [],
   "source": [
    "#dictionaries   mutable  editing \n",
    "# empty \n",
    "d1 = {}\n",
    "\n"
   ]
  },
  {
   "cell_type": "code",
   "execution_count": 3,
   "id": "51ea1891-f2a4-456a-aea7-c11b09d65933",
   "metadata": {},
   "outputs": [
    {
     "name": "stdout",
     "output_type": "stream",
     "text": [
      "<class 'dict'>\n"
     ]
    }
   ],
   "source": [
    "print(type(d1))"
   ]
  },
  {
   "cell_type": "code",
   "execution_count": 17,
   "id": "9957e5ef-7cc2-4167-8c52-e3ee3c8f5c6a",
   "metadata": {},
   "outputs": [
    {
     "data": {
      "text/plain": [
       "{'name': 'Kichu', 'age': 10, 'city': 'delhi'}"
      ]
     },
     "execution_count": 17,
     "metadata": {},
     "output_type": "execute_result"
    }
   ],
   "source": [
    "person = { 'name' :'Kichu','age':10 , 'city':'delhi'}\n",
    "person\n",
    "\n"
   ]
  },
  {
   "cell_type": "code",
   "execution_count": 3,
   "id": "f0c8a41e-8825-4ffd-863e-6677d16c3451",
   "metadata": {},
   "outputs": [
    {
     "name": "stdout",
     "output_type": "stream",
     "text": [
      "<class 'dict'>\n"
     ]
    }
   ],
   "source": [
    "print(type(person))"
   ]
  },
  {
   "cell_type": "code",
   "execution_count": 5,
   "id": "7d69ed60-de7e-4fde-b84d-865d530e3c18",
   "metadata": {},
   "outputs": [
    {
     "name": "stdout",
     "output_type": "stream",
     "text": [
      "{'name': 'alice', 'age': 10, 'city': 'delhi'}\n"
     ]
    }
   ],
   "source": [
    "print(person)"
   ]
  },
  {
   "cell_type": "code",
   "execution_count": 7,
   "id": "a1f799d5-a088-44da-b44f-ae1873e3379d",
   "metadata": {},
   "outputs": [
    {
     "data": {
      "text/plain": [
       "{'name': 'bob', 'age': 25, 'city': 'mumbai'}"
      ]
     },
     "execution_count": 7,
     "metadata": {},
     "output_type": "execute_result"
    }
   ],
   "source": [
    "d2 = dict(name='bob', age=25,city='mumbai')\n",
    "d2\n",
    "\n",
    "key = value "
   ]
  },
  {
   "cell_type": "code",
   "execution_count": 9,
   "id": "8d003a52-44bc-411d-b127-4542b0595993",
   "metadata": {},
   "outputs": [
    {
     "name": "stdout",
     "output_type": "stream",
     "text": [
      "<class 'dict'>\n"
     ]
    }
   ],
   "source": [
    "print(type(d2))"
   ]
  },
  {
   "cell_type": "code",
   "execution_count": 11,
   "id": "433edf66-470d-4621-89c3-210bcd28ae7f",
   "metadata": {},
   "outputs": [
    {
     "name": "stdout",
     "output_type": "stream",
     "text": [
      "{'name': 'bob', 'age': 25, 'city': 'mumbai'}\n"
     ]
    }
   ],
   "source": [
    "print(d2)\n"
   ]
  },
  {
   "cell_type": "code",
   "execution_count": 19,
   "id": "4e909982-d982-48e9-84e4-b002f6558a36",
   "metadata": {},
   "outputs": [
    {
     "name": "stdout",
     "output_type": "stream",
     "text": [
      "Kichu\n"
     ]
    }
   ],
   "source": [
    " #accessing Values \n",
    "print(person['name'])"
   ]
  },
  {
   "cell_type": "code",
   "execution_count": 21,
   "id": "6fee9fd3-f92a-4413-8605-84230ff962f3",
   "metadata": {},
   "outputs": [
    {
     "name": "stdout",
     "output_type": "stream",
     "text": [
      "bob\n"
     ]
    }
   ],
   "source": [
    "print(d2['name'])"
   ]
  },
  {
   "cell_type": "code",
   "execution_count": 23,
   "id": "1ad5e3ba-ef51-4de8-a913-b2631d8980f3",
   "metadata": {},
   "outputs": [
    {
     "name": "stdout",
     "output_type": "stream",
     "text": [
      "10\n"
     ]
    }
   ],
   "source": [
    "print(person['age'])"
   ]
  },
  {
   "cell_type": "code",
   "execution_count": 27,
   "id": "cf44c888-21cd-4b0f-9095-bb5e1ea2037b",
   "metadata": {},
   "outputs": [
    {
     "data": {
      "text/plain": [
       "{'name': 'Kichu', 'age': 10, 'city': 'delhi', 'job': 'IT', 'phone': 123}"
      ]
     },
     "execution_count": 27,
     "metadata": {},
     "output_type": "execute_result"
    }
   ],
   "source": [
    "person['job'] ='IT'   #add \n",
    "person['phone']=123\n",
    "person"
   ]
  },
  {
   "cell_type": "code",
   "execution_count": 29,
   "id": "8e74e95e-5a48-4d16-b33d-3ad377af5ea8",
   "metadata": {},
   "outputs": [
    {
     "data": {
      "text/plain": [
       "{'name': 'Kichu',\n",
       " 'age': 31,\n",
       " 'city': 'delhi',\n",
       " 'job': 'IT',\n",
       " 'phone': 123,\n",
       " 'salary': 75000}"
      ]
     },
     "execution_count": 29,
     "metadata": {},
     "output_type": "execute_result"
    }
   ],
   "source": [
    "person.update({'salary':75000, 'age':31})    #updation\n",
    "person"
   ]
  },
  {
   "cell_type": "code",
   "execution_count": 31,
   "id": "866e2487-88da-4438-813a-3316bb89aff5",
   "metadata": {},
   "outputs": [
    {
     "data": {
      "text/plain": [
       "{'name': 'jitha',\n",
       " 'age': 31,\n",
       " 'city': 'delhi',\n",
       " 'job': 'IT',\n",
       " 'phone': 123,\n",
       " 'salary': 75000}"
      ]
     },
     "execution_count": 31,
     "metadata": {},
     "output_type": "execute_result"
    }
   ],
   "source": [
    "person['name']= 'jitha'\n",
    "person"
   ]
  },
  {
   "cell_type": "code",
   "execution_count": 35,
   "id": "ba35413c-0ef1-43cf-843b-3c69e33ce1ba",
   "metadata": {},
   "outputs": [
    {
     "data": {
      "text/plain": [
       "{'name': 'jitha',\n",
       " 'age': 31,\n",
       " 'city': 'delhi',\n",
       " 'job': 'IT',\n",
       " 'phone': 123,\n",
       " 'salary': 75000,\n",
       " 'mentor': 'jitha'}"
      ]
     },
     "execution_count": 35,
     "metadata": {},
     "output_type": "execute_result"
    }
   ],
   "source": [
    "person['mentor']= 'jitha'\n",
    "person"
   ]
  },
  {
   "cell_type": "code",
   "execution_count": 37,
   "id": "57d7c839-0943-4bc8-8403-750ce1804c43",
   "metadata": {},
   "outputs": [
    {
     "data": {
      "text/plain": [
       "{'name': 'jitha',\n",
       " 'age': 31,\n",
       " 'city': 'delhi',\n",
       " 'job': 'IT',\n",
       " 'phone': 123,\n",
       " 'salary': 75000}"
      ]
     },
     "execution_count": 37,
     "metadata": {},
     "output_type": "execute_result"
    }
   ],
   "source": [
    "del person['mentor']\n",
    "person"
   ]
  },
  {
   "cell_type": "code",
   "execution_count": 39,
   "id": "5fd996f3-99e4-46f7-8b19-e24af2005dde",
   "metadata": {
    "scrolled": true
   },
   "outputs": [
    {
     "data": {
      "text/plain": [
       "{'name': 'jitha',\n",
       " 'age': 31,\n",
       " 'city': 'delhi',\n",
       " 'job': 'IT',\n",
       " 'phone': 123,\n",
       " 'salary': 75000}"
      ]
     },
     "execution_count": 39,
     "metadata": {},
     "output_type": "execute_result"
    }
   ],
   "source": [
    "person"
   ]
  },
  {
   "cell_type": "code",
   "execution_count": 41,
   "id": "23f8bea6-20c4-449f-926e-1b86b3aab565",
   "metadata": {},
   "outputs": [
    {
     "data": {
      "text/plain": [
       "('salary', 75000)"
      ]
     },
     "execution_count": 41,
     "metadata": {},
     "output_type": "execute_result"
    }
   ],
   "source": [
    "last = person.popitem()\n",
    "last"
   ]
  },
  {
   "cell_type": "code",
   "execution_count": 54,
   "id": "0e2dc1b1-f2f7-4106-9ed6-26a40a4e9915",
   "metadata": {},
   "outputs": [
    {
     "data": {
      "text/plain": [
       "{}"
      ]
     },
     "execution_count": 54,
     "metadata": {},
     "output_type": "execute_result"
    }
   ],
   "source": [
    "person"
   ]
  },
  {
   "cell_type": "code",
   "execution_count": 43,
   "id": "382b5915-7e8c-408e-9b66-abb6458b672f",
   "metadata": {},
   "outputs": [
    {
     "data": {
      "text/plain": [
       "{'name': 'bob', 'age': 25, 'city': 'mumbai'}"
      ]
     },
     "execution_count": 43,
     "metadata": {},
     "output_type": "execute_result"
    }
   ],
   "source": [
    "d2"
   ]
  },
  {
   "cell_type": "code",
   "execution_count": 58,
   "id": "81acd0f6-d2af-424d-8e1c-7196c7e5e557",
   "metadata": {},
   "outputs": [],
   "source": [
    "del d2['city']"
   ]
  },
  {
   "cell_type": "code",
   "execution_count": 60,
   "id": "4524fd58-6c3c-49e5-bed9-aa8a0ada0a6e",
   "metadata": {},
   "outputs": [
    {
     "data": {
      "text/plain": [
       "{'name': 'bob', 'age': 25}"
      ]
     },
     "execution_count": 60,
     "metadata": {},
     "output_type": "execute_result"
    }
   ],
   "source": [
    "d2"
   ]
  },
  {
   "cell_type": "code",
   "execution_count": 69,
   "id": "dcc47224-5b10-4a39-b8a0-f13c264da864",
   "metadata": {},
   "outputs": [
    {
     "ename": "KeyError",
     "evalue": "'popitem(): dictionary is empty'",
     "output_type": "error",
     "traceback": [
      "\u001b[1;31m---------------------------------------------------------------------------\u001b[0m",
      "\u001b[1;31mKeyError\u001b[0m                                  Traceback (most recent call last)",
      "Cell \u001b[1;32mIn[69], line 1\u001b[0m\n\u001b[1;32m----> 1\u001b[0m d3 \u001b[38;5;241m=\u001b[39m d2\u001b[38;5;241m.\u001b[39mpopitem()\n\u001b[0;32m      2\u001b[0m d3\n",
      "\u001b[1;31mKeyError\u001b[0m: 'popitem(): dictionary is empty'"
     ]
    }
   ],
   "source": [
    "d3 = d2.popitem()\n",
    "d3"
   ]
  },
  {
   "cell_type": "code",
   "execution_count": 71,
   "id": "6b87ebd2-eb73-4e98-ba65-101d2a4ae2cb",
   "metadata": {},
   "outputs": [
    {
     "data": {
      "text/plain": [
       "('name', 'bob')"
      ]
     },
     "execution_count": 71,
     "metadata": {},
     "output_type": "execute_result"
    }
   ],
   "source": [
    "d3"
   ]
  },
  {
   "cell_type": "code",
   "execution_count": 59,
   "id": "6d7aa160-8567-4c89-b51f-cc27bdba134e",
   "metadata": {},
   "outputs": [
    {
     "data": {
      "text/plain": [
       "{'name': 'jitha', 'age': 31, 'city': 'delhi', 'job': 'IT', 'phone': 123}"
      ]
     },
     "execution_count": 59,
     "metadata": {},
     "output_type": "execute_result"
    }
   ],
   "source": [
    "person"
   ]
  },
  {
   "cell_type": "code",
   "execution_count": 45,
   "id": "8ce4eb31-7cf8-460b-a21c-15c57a6806c6",
   "metadata": {},
   "outputs": [
    {
     "data": {
      "text/plain": [
       "{'ID': 100, 'name': 'Anu', 'class': 10, 'phone': 123, 'sub': 'cs', 'mark': 80}"
      ]
     },
     "execution_count": 45,
     "metadata": {},
     "output_type": "execute_result"
    }
   ],
   "source": [
    "d5 = {'ID':100, 'name': 'Anu','class':10, 'phone': 123, 'sub': 'cs', 'mark': 80}\n",
    "d5"
   ]
  },
  {
   "cell_type": "code",
   "execution_count": 61,
   "id": "eeba665c-6569-4a2a-ab31-9001010031f3",
   "metadata": {},
   "outputs": [
    {
     "data": {
      "text/plain": [
       "dict_keys(['name', 'age', 'city', 'job', 'phone'])"
      ]
     },
     "execution_count": 61,
     "metadata": {},
     "output_type": "execute_result"
    }
   ],
   "source": [
    "key= person.keys()\n",
    "key"
   ]
  },
  {
   "cell_type": "code",
   "execution_count": 63,
   "id": "bd54855d-0461-4888-9a3c-8a2de7d47c2a",
   "metadata": {},
   "outputs": [
    {
     "data": {
      "text/plain": [
       "dict_values(['jitha', 31, 'delhi', 'IT', 123])"
      ]
     },
     "execution_count": 63,
     "metadata": {},
     "output_type": "execute_result"
    }
   ],
   "source": [
    "val = person.values()\n",
    "val"
   ]
  },
  {
   "cell_type": "code",
   "execution_count": 65,
   "id": "af143908-d57b-46f9-a7a8-031f20b42340",
   "metadata": {},
   "outputs": [],
   "source": [
    "item= person.items()"
   ]
  },
  {
   "cell_type": "code",
   "execution_count": 67,
   "id": "3a3e6f77-3152-4065-9fd3-93896debfa47",
   "metadata": {},
   "outputs": [
    {
     "data": {
      "text/plain": [
       "dict_items([('name', 'jitha'), ('age', 31), ('city', 'delhi'), ('job', 'IT'), ('phone', 123)])"
      ]
     },
     "execution_count": 67,
     "metadata": {},
     "output_type": "execute_result"
    }
   ],
   "source": [
    "item"
   ]
  },
  {
   "cell_type": "code",
   "execution_count": 69,
   "id": "92772741-605f-4d77-b08e-bc8af15e9774",
   "metadata": {},
   "outputs": [],
   "source": [
    "person['name']='alex'"
   ]
  },
  {
   "cell_type": "code",
   "execution_count": 73,
   "id": "a99c2d41-d82e-4368-aeb0-32d6f1d6e26f",
   "metadata": {},
   "outputs": [
    {
     "data": {
      "text/plain": [
       "{'name': 'alex', 'age': 31, 'city': 'delhi', 'job': 'IT', 'phone': 123}"
      ]
     },
     "execution_count": 73,
     "metadata": {},
     "output_type": "execute_result"
    }
   ],
   "source": [
    "person"
   ]
  },
  {
   "cell_type": "markdown",
   "id": "61a9af71-99ae-4b04-ac78-7e384436ada9",
   "metadata": {},
   "source": [
    "Set"
   ]
  },
  {
   "cell_type": "code",
   "execution_count": 75,
   "id": "3e73ec9f-eff2-491c-9192-7f39034d997c",
   "metadata": {},
   "outputs": [
    {
     "data": {
      "text/plain": [
       "{1, 2, 3}"
      ]
     },
     "execution_count": 75,
     "metadata": {},
     "output_type": "execute_result"
    }
   ],
   "source": [
    "s1={1,2,3}\n",
    "s1"
   ]
  },
  {
   "cell_type": "code",
   "execution_count": 77,
   "id": "b3a39459-d08c-434f-9bb8-989d70b5c83e",
   "metadata": {},
   "outputs": [
    {
     "name": "stdout",
     "output_type": "stream",
     "text": [
      "<class 'set'>\n"
     ]
    }
   ],
   "source": [
    "print(type(s1))"
   ]
  },
  {
   "cell_type": "code",
   "execution_count": 79,
   "id": "b1038645-47e8-43f5-b438-b8fef00a1dd6",
   "metadata": {},
   "outputs": [
    {
     "data": {
      "text/plain": [
       "{4, 5, 6}"
      ]
     },
     "execution_count": 79,
     "metadata": {},
     "output_type": "execute_result"
    }
   ],
   "source": [
    "s2= set([4,5,6])\n",
    "s2\n"
   ]
  },
  {
   "cell_type": "code",
   "execution_count": 81,
   "id": "fd7f3b56-367b-44e2-8a45-ab2f748e3bb3",
   "metadata": {},
   "outputs": [
    {
     "name": "stdout",
     "output_type": "stream",
     "text": [
      "<class 'set'>\n"
     ]
    }
   ],
   "source": [
    "print(type(s2))"
   ]
  },
  {
   "cell_type": "code",
   "execution_count": 83,
   "id": "6081b824-8443-4ba4-afee-063813a0d48a",
   "metadata": {},
   "outputs": [],
   "source": [
    "s2.add(9)"
   ]
  },
  {
   "cell_type": "code",
   "execution_count": 85,
   "id": "64ebfc15-82d7-4307-b1fc-0c2660679ef7",
   "metadata": {},
   "outputs": [
    {
     "data": {
      "text/plain": [
       "{4, 5, 6, 9}"
      ]
     },
     "execution_count": 85,
     "metadata": {},
     "output_type": "execute_result"
    }
   ],
   "source": [
    "s2"
   ]
  },
  {
   "cell_type": "code",
   "execution_count": 87,
   "id": "5d7ce1f2-b218-4007-8fbe-1d4cc4873c32",
   "metadata": {},
   "outputs": [],
   "source": [
    " s2.remove(6)"
   ]
  },
  {
   "cell_type": "code",
   "execution_count": 89,
   "id": "7839df45-a015-45ae-890d-32f1fb13eb97",
   "metadata": {},
   "outputs": [
    {
     "data": {
      "text/plain": [
       "{4, 5, 9}"
      ]
     },
     "execution_count": 89,
     "metadata": {},
     "output_type": "execute_result"
    }
   ],
   "source": [
    "s2"
   ]
  },
  {
   "cell_type": "code",
   "execution_count": 93,
   "id": "a2634597-41ea-47a0-9df7-b25aebb861a4",
   "metadata": {},
   "outputs": [],
   "source": [
    "union = s1|s2"
   ]
  },
  {
   "cell_type": "code",
   "execution_count": 95,
   "id": "28533f8a-d2f3-455b-ad13-e320e0a9a4d1",
   "metadata": {},
   "outputs": [
    {
     "data": {
      "text/plain": [
       "{1, 2, 3, 4, 5, 9}"
      ]
     },
     "execution_count": 95,
     "metadata": {},
     "output_type": "execute_result"
    }
   ],
   "source": [
    "union"
   ]
  },
  {
   "cell_type": "code",
   "execution_count": 97,
   "id": "0c88c492-e345-4b83-8ed7-62a1a14b4366",
   "metadata": {},
   "outputs": [],
   "source": [
    "s1.add(4)"
   ]
  },
  {
   "cell_type": "code",
   "execution_count": 99,
   "id": "83369ee0-a808-4853-8e80-16f453c7d228",
   "metadata": {},
   "outputs": [
    {
     "data": {
      "text/plain": [
       "{1, 2, 3, 4}"
      ]
     },
     "execution_count": 99,
     "metadata": {},
     "output_type": "execute_result"
    }
   ],
   "source": [
    "s1"
   ]
  },
  {
   "cell_type": "code",
   "execution_count": 101,
   "id": "893f19fb-d805-40cd-8668-53c0332d13c5",
   "metadata": {},
   "outputs": [],
   "source": [
    "intersection = s1&s2"
   ]
  },
  {
   "cell_type": "code",
   "execution_count": 103,
   "id": "8cb2367b-806c-4b80-9d4a-e257739836e8",
   "metadata": {},
   "outputs": [
    {
     "data": {
      "text/plain": [
       "{4}"
      ]
     },
     "execution_count": 103,
     "metadata": {},
     "output_type": "execute_result"
    }
   ],
   "source": [
    "intersection"
   ]
  },
  {
   "cell_type": "code",
   "execution_count": 105,
   "id": "4eebdfc0-aa1d-4f9f-8e04-a5d69ceffafd",
   "metadata": {},
   "outputs": [],
   "source": [
    "difference_set=s1-s2"
   ]
  },
  {
   "cell_type": "code",
   "execution_count": 107,
   "id": "9b649bfd-999f-4968-95a4-1e21da8e91cc",
   "metadata": {},
   "outputs": [
    {
     "data": {
      "text/plain": [
       "{1, 2, 3}"
      ]
     },
     "execution_count": 107,
     "metadata": {},
     "output_type": "execute_result"
    }
   ],
   "source": [
    "difference_set"
   ]
  },
  {
   "cell_type": "code",
   "execution_count": 131,
   "id": "2e43b4da-0d80-4f3b-b565-36f282c92856",
   "metadata": {},
   "outputs": [
    {
     "ename": "SyntaxError",
     "evalue": "cannot assign to expression here. Maybe you meant '==' instead of '='? (382042120.py, line 1)",
     "output_type": "error",
     "traceback": [
      "\u001b[1;36m  Cell \u001b[1;32mIn[131], line 1\u001b[1;36m\u001b[0m\n\u001b[1;33m    {1,2,3,4}-{4,5,7} = {1,2,3}\u001b[0m\n\u001b[1;37m    ^\u001b[0m\n\u001b[1;31mSyntaxError\u001b[0m\u001b[1;31m:\u001b[0m cannot assign to expression here. Maybe you meant '==' instead of '='?\n"
     ]
    }
   ],
   "source": [
    "{1,2,3,4}-{4,5,7} = {1,2,3}\n",
    "{4,5,9}-{1,2,3,4}={5,9}"
   ]
  },
  {
   "cell_type": "code",
   "execution_count": 109,
   "id": "e77c72d4-eb73-471e-b22f-c9a430af8a02",
   "metadata": {},
   "outputs": [],
   "source": [
    "difference_set=s2-s1"
   ]
  },
  {
   "cell_type": "code",
   "execution_count": 111,
   "id": "be272ab3-2b78-4fa9-941b-14fe612f8f72",
   "metadata": {},
   "outputs": [
    {
     "data": {
      "text/plain": [
       "{5, 9}"
      ]
     },
     "execution_count": 111,
     "metadata": {},
     "output_type": "execute_result"
    }
   ],
   "source": [
    "difference_set"
   ]
  },
  {
   "cell_type": "code",
   "execution_count": 113,
   "id": "c565e621-a9af-4c54-88b9-4b12a676c1db",
   "metadata": {},
   "outputs": [
    {
     "data": {
      "text/plain": [
       "True"
      ]
     },
     "execution_count": 113,
     "metadata": {},
     "output_type": "execute_result"
    }
   ],
   "source": [
    "2 in s1"
   ]
  },
  {
   "cell_type": "code",
   "execution_count": 115,
   "id": "1afeccda-3416-4dcc-b42a-d1a0eb55912d",
   "metadata": {},
   "outputs": [
    {
     "data": {
      "text/plain": [
       "False"
      ]
     },
     "execution_count": 115,
     "metadata": {},
     "output_type": "execute_result"
    }
   ],
   "source": [
    "5 in s1"
   ]
  },
  {
   "cell_type": "code",
   "execution_count": null,
   "id": "f800cad5-f28e-4a51-9189-034adc4b7d70",
   "metadata": {},
   "outputs": [],
   "source": []
  }
 ],
 "metadata": {
  "kernelspec": {
   "display_name": "Python 3 (ipykernel)",
   "language": "python",
   "name": "python3"
  },
  "language_info": {
   "codemirror_mode": {
    "name": "ipython",
    "version": 3
   },
   "file_extension": ".py",
   "mimetype": "text/x-python",
   "name": "python",
   "nbconvert_exporter": "python",
   "pygments_lexer": "ipython3",
   "version": "3.12.4"
  }
 },
 "nbformat": 4,
 "nbformat_minor": 5
}
