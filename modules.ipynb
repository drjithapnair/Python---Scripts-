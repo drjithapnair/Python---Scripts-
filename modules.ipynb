{
 "cells": [
  {
   "cell_type": "markdown",
   "id": "ea147dcf",
   "metadata": {},
   "source": [
    "File: main.py"
   ]
  },
  {
   "cell_type": "code",
   "execution_count": null,
   "id": "9930e522",
   "metadata": {},
   "outputs": [],
   "source": [
    "# 1. Importing a standard library module\n",
    "import math"
   ]
  },
  {
   "cell_type": "code",
   "execution_count": null,
   "id": "d1ade906",
   "metadata": {},
   "outputs": [],
   "source": [
    "# 2. Importing specific functions from a module\n",
    "from random import randint, choice"
   ]
  },
  {
   "cell_type": "code",
   "execution_count": null,
   "id": "12637c9b",
   "metadata": {},
   "outputs": [],
   "source": [
    "# 3. Importing with an alias\n",
    "import datetime as dt"
   ]
  },
  {
   "cell_type": "code",
   "execution_count": null,
   "id": "35e89d77",
   "metadata": {},
   "outputs": [],
   "source": [
    "# 4. Importing all names from a module (generally not recommended)\n",
    "from string import *"
   ]
  },
  {
   "cell_type": "code",
   "execution_count": null,
   "id": "48dfbf6e",
   "metadata": {},
   "outputs": [],
   "source": [
    "# 5. Creating a custom module (save this in a file named 'my_module.py' in the same directory)\n",
    "\"\"\"\n",
    "# File: my_module.py\n",
    "\n",
    "def greet(name):\n",
    "    return f\"Hello, {name}!\"\n",
    "\n",
    "def add(a, b):\n",
    "    return a + b\n",
    "\n",
    "PI = 3.14159\n",
    "\n",
    "class Person:\n",
    "    def __init__(self, name, age):\n",
    "        self.name = name\n",
    "        self.age = age\n",
    "    \n",
    "    def introduce(self):\n",
    "        return f\"My name is {self.name} and I'm {self.age} years old.\"\n",
    "\n",
    "if __name__ == \"__main__\":\n",
    "    print(\"This won't run when the module is imported.\")\n",
    "    print(\"It only runs if you execute my_module.py directly.\")\n",
    "\"\"\""
   ]
  },
  {
   "cell_type": "code",
   "execution_count": null,
   "id": "fd71057f",
   "metadata": {},
   "outputs": [],
   "source": [
    "# 6. Importing the custom module\n",
    "import my_module"
   ]
  },
  {
   "cell_type": "code",
   "execution_count": null,
   "id": "d5ac4e5c",
   "metadata": {},
   "outputs": [],
   "source": [
    "# 7. Using the imported modules and functions\n",
    "print(\"Examples of using Python modules:\")"
   ]
  },
  {
   "cell_type": "code",
   "execution_count": null,
   "id": "6ec73d35",
   "metadata": {},
   "outputs": [],
   "source": [
    "print(\"\\n1. Using the math module:\")\n",
    "print(f\"Square root of 16: {math.sqrt(16)}\")\n",
    "print(f\"Value of pi: {math.pi}\")"
   ]
  },
  {
   "cell_type": "code",
   "execution_count": null,
   "id": "4aee1657",
   "metadata": {},
   "outputs": [],
   "source": [
    "print(\"\\n2. Using specific functions from random:\")\n",
    "print(f\"Random integer between 1 and 10: {randint(1, 10)}\")\n",
    "print(f\"Random choice from a list: {choice(['apple', 'banana', 'cherry'])}\")"
   ]
  },
  {
   "cell_type": "code",
   "execution_count": null,
   "id": "bc325539",
   "metadata": {},
   "outputs": [],
   "source": [
    "print(\"\\n3. Using datetime with an alias:\")\n",
    "current_time = dt.datetime.now()\n",
    "print(f\"Current time: {current_time}\")"
   ]
  },
  {
   "cell_type": "code",
   "execution_count": null,
   "id": "f548d212",
   "metadata": {},
   "outputs": [],
   "source": [
    "print(\"\\n4. Using a function from string (imported with *):\")\n",
    "print(f\"Lowercase alphabet: {ascii_lowercase}\")"
   ]
  },
  {
   "cell_type": "code",
   "execution_count": null,
   "id": "b72d5225",
   "metadata": {},
   "outputs": [],
   "source": [
    "print(\"\\n5. Using the custom module:\")\n",
    "print(my_module.greet(\"Alice\"))\n",
    "print(f\"Adding 5 and 3: {my_module.add(5, 3)}\")\n",
    "print(f\"Value of PI from custom module: {my_module.PI}\")"
   ]
  },
  {
   "cell_type": "code",
   "execution_count": null,
   "id": "9a329268",
   "metadata": {},
   "outputs": [],
   "source": [
    "person = my_module.Person(\"Bob\", 30)\n",
    "print(person.introduce())"
   ]
  },
  {
   "cell_type": "code",
   "execution_count": null,
   "id": "198064e6",
   "metadata": {},
   "outputs": [],
   "source": [
    "# 8. Checking module properties\n",
    "print(\"\\n6. Module properties:\")\n",
    "print(f\"Name of the current module: {__name__}\")\n",
    "print(f\"File path of my_module: {my_module.__file__}\")"
   ]
  },
  {
   "cell_type": "code",
   "execution_count": null,
   "id": "d1b6cde8",
   "metadata": {},
   "outputs": [],
   "source": [
    "# 9. Listing all names in a module\n",
    "print(\"\\n7. Names in my_module:\")\n",
    "print(dir(my_module))"
   ]
  },
  {
   "cell_type": "code",
   "execution_count": null,
   "id": "c6fab202",
   "metadata": {},
   "outputs": [],
   "source": [
    "# 10. Using the help function\n",
    "print(\"\\n8. Help on my_module.greet function:\")\n",
    "help(my_module.greet)"
   ]
  },
  {
   "cell_type": "code",
   "execution_count": null,
   "id": "13ad1bac",
   "metadata": {},
   "outputs": [],
   "source": [
    "# 11. Reloading a module (useful during development)\n",
    "from importlib import reload\n",
    "reload(my_module)\n",
    "print(\"\\n9. Module reloaded\")"
   ]
  },
  {
   "cell_type": "code",
   "execution_count": null,
   "id": "df2be7bc",
   "metadata": {},
   "outputs": [],
   "source": [
    "# 12. Exploring the module search path\n",
    "import sys\n",
    "print(\"\\n10. Module search paths:\")\n",
    "for path in sys.path:\n",
    "    print(path)"
   ]
  }
 ],
 "metadata": {
  "jupytext": {
   "cell_metadata_filter": "-all",
   "main_language": "python",
   "notebook_metadata_filter": "-all"
  },
  "kernelspec": {
   "display_name": "Python 3 (ipykernel)",
   "language": "python",
   "name": "python3"
  },
  "language_info": {
   "codemirror_mode": {
    "name": "ipython",
    "version": 3
   },
   "file_extension": ".py",
   "mimetype": "text/x-python",
   "name": "python",
   "nbconvert_exporter": "python",
   "pygments_lexer": "ipython3",
   "version": "3.12.4"
  }
 },
 "nbformat": 4,
 "nbformat_minor": 5
}
