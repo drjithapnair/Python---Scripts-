{
 "cells": [
  {
   "cell_type": "markdown",
   "id": "74197c6e-025a-41be-8e36-9c51423aef7a",
   "metadata": {},
   "source": [
    "# range  with for loop \n",
    "for i in range():\n",
    "    #stmt"
   ]
  },
  {
   "cell_type": "code",
   "execution_count": 7,
   "id": "485d591a-31d8-4d6c-a168-f8d147523e3a",
   "metadata": {},
   "outputs": [
    {
     "name": "stdout",
     "output_type": "stream",
     "text": [
      "0\n",
      "1\n",
      "2\n",
      "3\n",
      "4\n",
      "5\n",
      "6\n",
      "7\n",
      "8\n",
      "9\n"
     ]
    }
   ],
   "source": [
    "for i in range(10):\n",
    "    print(i)"
   ]
  },
  {
   "cell_type": "code",
   "execution_count": 15,
   "id": "a780c370-c209-44a6-841d-356d2321ecb3",
   "metadata": {},
   "outputs": [
    {
     "name": "stdout",
     "output_type": "stream",
     "text": [
      "apple\n",
      "banana\n",
      "orange\n",
      "cherry\n"
     ]
    }
   ],
   "source": [
    "fruits = [\"apple\", \"banana\",\"orange\", \"cherry\"]\n",
    "for i in fruits:\n",
    "    print(i)\n",
    "\n"
   ]
  },
  {
   "cell_type": "code",
   "execution_count": 19,
   "id": "86a9c69c-ecbc-46ad-a2ae-60f024b9b580",
   "metadata": {},
   "outputs": [
    {
     "name": "stdout",
     "output_type": "stream",
     "text": [
      "0\n",
      "1\n",
      "2\n"
     ]
    }
   ],
   "source": [
    "for i in range(5):\n",
    "    if i==3:\n",
    "        break\n",
    "    print(i)\n",
    "else:\n",
    "    print(\"loop Completed normally\")"
   ]
  },
  {
   "cell_type": "code",
   "execution_count": 21,
   "id": "b0ad2eed-2047-42d0-8aa6-988506519a36",
   "metadata": {},
   "outputs": [
    {
     "name": "stdout",
     "output_type": "stream",
     "text": [
      "0\n",
      "1\n",
      "3\n",
      "4\n"
     ]
    }
   ],
   "source": [
    "for i in range(5):\n",
    "    if i==2:\n",
    "        continue\n",
    "    print(i)"
   ]
  },
  {
   "cell_type": "code",
   "execution_count": 23,
   "id": "87fe02e4-6cf9-4750-a35d-dcb21eba2ce7",
   "metadata": {},
   "outputs": [
    {
     "name": "stdout",
     "output_type": "stream",
     "text": [
      "(0,0)\n",
      "(0,1)\n",
      "(1,0)\n",
      "(1,1)\n",
      "(2,0)\n",
      "(2,1)\n"
     ]
    }
   ],
   "source": [
    "for i in range(3): \n",
    "    for j in range(2):   \n",
    "        print(f\"({i},{j})\")"
   ]
  },
  {
   "cell_type": "code",
   "execution_count": 25,
   "id": "a754e90d-ddb2-4302-afc0-c40ed52402ba",
   "metadata": {},
   "outputs": [
    {
     "name": "stdout",
     "output_type": "stream",
     "text": [
      "0 :apple\n",
      "1 :banana\n",
      "2 :orange\n",
      "3 :cherry\n"
     ]
    }
   ],
   "source": [
    "fruits = [\"apple\", \"banana\",\"orange\", \"cherry\"]\n",
    "for index, fruit in enumerate(fruits):\n",
    "    print(f\"{index} :{fruit}\")"
   ]
  },
  {
   "cell_type": "code",
   "execution_count": 33,
   "id": "37c989cf-49f0-4599-8158-f4fac244ca82",
   "metadata": {},
   "outputs": [],
   "source": [
    "num = [1,2,3,4,5,6,7,8,10]\n"
   ]
  },
  {
   "cell_type": "code",
   "execution_count": 35,
   "id": "d0df378a-2bfd-45bb-9e0f-acdb2326152c",
   "metadata": {},
   "outputs": [
    {
     "name": "stdout",
     "output_type": "stream",
     "text": [
      "[1, 4, 9, 16, 25, 36, 49, 64, 100]\n"
     ]
    }
   ],
   "source": [
    "squares= [x**2 for x in num]\n",
    "print (squares)"
   ]
  },
  {
   "cell_type": "code",
   "execution_count": 37,
   "id": "4cd873d8-daab-45e7-9dd8-6a9b6e672eda",
   "metadata": {},
   "outputs": [
    {
     "name": "stdout",
     "output_type": "stream",
     "text": [
      "[2, 4, 6, 8, 10, 12, 14, 16, 20]\n"
     ]
    }
   ],
   "source": [
    "squ= [x*2 for x in num]\n",
    "print (squ)"
   ]
  },
  {
   "cell_type": "code",
   "execution_count": 39,
   "id": "70a78936-581e-4bc0-a098-f4c1cb49bb6d",
   "metadata": {},
   "outputs": [
    {
     "name": "stdout",
     "output_type": "stream",
     "text": [
      "[4, 16, 36, 64, 100]\n"
     ]
    }
   ],
   "source": [
    "even_sqr= [x**2 for x in num if x % 2 == 0]\n",
    "print(even_sqr)"
   ]
  },
  {
   "cell_type": "code",
   "execution_count": null,
   "id": "8b82d6c8-eb24-4673-b5c2-8d20a8655d68",
   "metadata": {},
   "outputs": [],
   "source": []
  }
 ],
 "metadata": {
  "kernelspec": {
   "display_name": "Python 3 (ipykernel)",
   "language": "python",
   "name": "python3"
  },
  "language_info": {
   "codemirror_mode": {
    "name": "ipython",
    "version": 3
   },
   "file_extension": ".py",
   "mimetype": "text/x-python",
   "name": "python",
   "nbconvert_exporter": "python",
   "pygments_lexer": "ipython3",
   "version": "3.12.4"
  }
 },
 "nbformat": 4,
 "nbformat_minor": 5
}
