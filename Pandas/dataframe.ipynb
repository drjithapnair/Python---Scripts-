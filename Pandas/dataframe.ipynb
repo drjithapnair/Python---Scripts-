{
 "cells": [
  {
   "cell_type": "code",
   "execution_count": 1,
   "id": "6c61b08a",
   "metadata": {},
   "outputs": [],
   "source": [
    "import pandas as pd\n",
    "import numpy as np"
   ]
  },
  {
   "cell_type": "code",
   "execution_count": 3,
   "id": "481cb54b",
   "metadata": {},
   "outputs": [],
   "source": [
    "# Creating a DataFrame\n",
    "data = {\n",
    "    'Name': ['Alice', 'Bob', 'Charlie', 'David', 'Eva'],\n",
    "    'Age': [25, 30, 35, 28, 22],\n",
    "    'City': ['New York', 'San Francisco', 'Los Angeles', 'Chicago', 'Boston'],\n",
    "    'Salary': [50000, 70000, 80000, 65000, 45000]\n",
    "}"
   ]
  },
  {
   "cell_type": "code",
   "execution_count": 5,
   "id": "8b79eed5-aaad-4a78-b5b8-bb5dcc0e9da2",
   "metadata": {},
   "outputs": [
    {
     "data": {
      "text/plain": [
       "{'Name': ['Alice', 'Bob', 'Charlie', 'David', 'Eva'],\n",
       " 'Age': [25, 30, 35, 28, 22],\n",
       " 'City': ['New York', 'San Francisco', 'Los Angeles', 'Chicago', 'Boston'],\n",
       " 'Salary': [50000, 70000, 80000, 65000, 45000]}"
      ]
     },
     "execution_count": 5,
     "metadata": {},
     "output_type": "execute_result"
    }
   ],
   "source": [
    "data"
   ]
  },
  {
   "cell_type": "code",
   "execution_count": 7,
   "id": "b6922cd2",
   "metadata": {},
   "outputs": [
    {
     "name": "stdout",
     "output_type": "stream",
     "text": [
      "Original DataFrame:\n",
      "      Name  Age           City  Salary\n",
      "0    Alice   25       New York   50000\n",
      "1      Bob   30  San Francisco   70000\n",
      "2  Charlie   35    Los Angeles   80000\n",
      "3    David   28        Chicago   65000\n",
      "4      Eva   22         Boston   45000\n"
     ]
    }
   ],
   "source": [
    "df = pd.DataFrame(data)\n",
    "print(\"Original DataFrame:\")\n",
    "print(df)"
   ]
  },
  {
   "cell_type": "code",
   "execution_count": 34,
   "id": "f161c116",
   "metadata": {},
   "outputs": [
    {
     "name": "stdout",
     "output_type": "stream",
     "text": [
      "\n",
      "DataFrame Info:\n",
      "<class 'pandas.core.frame.DataFrame'>\n",
      "RangeIndex: 5 entries, 0 to 4\n",
      "Data columns (total 4 columns):\n",
      " #   Column  Non-Null Count  Dtype \n",
      "---  ------  --------------  ----- \n",
      " 0   Name    5 non-null      object\n",
      " 1   Age     5 non-null      int64 \n",
      " 2   City    5 non-null      object\n",
      " 3   Salary  5 non-null      int64 \n",
      "dtypes: int64(2), object(2)\n",
      "memory usage: 292.0+ bytes\n"
     ]
    }
   ],
   "source": [
    "# Basic information about the DataFrame\n",
    "print(\"\\nDataFrame Info:\")\n",
    "df.info()"
   ]
  },
  {
   "cell_type": "code",
   "execution_count": 11,
   "id": "49befa55",
   "metadata": {},
   "outputs": [
    {
     "name": "stdout",
     "output_type": "stream",
     "text": [
      "\n",
      "Summary Statistics:\n",
      "             Age        Salary\n",
      "count   5.000000      5.000000\n",
      "mean   28.000000  62000.000000\n",
      "std     4.949747  14404.860291\n",
      "min    22.000000  45000.000000\n",
      "25%    25.000000  50000.000000\n",
      "50%    28.000000  65000.000000\n",
      "75%    30.000000  70000.000000\n",
      "max    35.000000  80000.000000\n"
     ]
    }
   ],
   "source": [
    "# Summary statistics\n",
    "print(\"\\nSummary Statistics:\")\n",
    "print(df.describe())"
   ]
  },
  {
   "cell_type": "code",
   "execution_count": 9,
   "id": "2b1ae134",
   "metadata": {},
   "outputs": [
    {
     "name": "stdout",
     "output_type": "stream",
     "text": [
      "\n",
      "Age column:\n",
      "0    25\n",
      "1    30\n",
      "2    35\n",
      "3    28\n",
      "4    22\n",
      "Name: Age, dtype: int64\n"
     ]
    }
   ],
   "source": [
    "# Accessing columns\n",
    "print(\"\\nAge column:\")\n",
    "print(df['Age'])"
   ]
  },
  {
   "cell_type": "code",
   "execution_count": 13,
   "id": "97ffa8a8",
   "metadata": {},
   "outputs": [
    {
     "name": "stdout",
     "output_type": "stream",
     "text": [
      "\n",
      "DataFrame with new 'Experience' column:\n",
      "      Name  Age           City  Salary  Experience\n",
      "0    Alice   25       New York   50000           3\n",
      "1      Bob   30  San Francisco   70000           7\n",
      "2  Charlie   35    Los Angeles   80000          12\n",
      "3    David   28        Chicago   65000           5\n",
      "4      Eva   22         Boston   45000           1\n"
     ]
    }
   ],
   "source": [
    "# Adding a new column\n",
    "df['Experience'] = [3, 7, 12, 5, 1]\n",
    "print(\"\\nDataFrame with new 'Experience' column:\")\n",
    "print(df)"
   ]
  },
  {
   "cell_type": "code",
   "execution_count": 15,
   "id": "2ea59992",
   "metadata": {},
   "outputs": [
    {
     "name": "stdout",
     "output_type": "stream",
     "text": [
      "\n",
      "Employees older than 28:\n",
      "      Name  Age           City  Salary  Experience\n",
      "1      Bob   30  San Francisco   70000           7\n",
      "2  Charlie   35    Los Angeles   80000          12\n"
     ]
    }
   ],
   "source": [
    "# Filtering rows\n",
    "print(\"\\nEmployees older than 28:\")\n",
    "print(df[df['Age'] > 28])"
   ]
  },
  {
   "cell_type": "code",
   "execution_count": 19,
   "id": "f006d8b3",
   "metadata": {},
   "outputs": [
    {
     "name": "stdout",
     "output_type": "stream",
     "text": [
      "\n",
      "DataFrame sorted by Salary (descending):\n",
      "      Name  Age           City  Salary  Experience\n",
      "2  Charlie   35    Los Angeles   80000          12\n",
      "1      Bob   30  San Francisco   70000           7\n",
      "3    David   28        Chicago   65000           5\n",
      "0    Alice   25       New York   50000           3\n",
      "4      Eva   22         Boston   45000           1\n"
     ]
    }
   ],
   "source": [
    "# Sorting the DataFrame\n",
    "print(\"\\nDataFrame sorted by Salary (descending):\")\n",
    "print(df.sort_values('Salary', ascending=False))"
   ]
  },
  {
   "cell_type": "code",
   "execution_count": 11,
   "id": "84a16740",
   "metadata": {},
   "outputs": [
    {
     "name": "stdout",
     "output_type": "stream",
     "text": [
      "\n",
      "Average salary by city:\n",
      "City\n",
      "Boston           45000.0\n",
      "Chicago          65000.0\n",
      "Los Angeles      80000.0\n",
      "New York         50000.0\n",
      "San Francisco    70000.0\n",
      "Name: Salary, dtype: float64\n"
     ]
    }
   ],
   "source": [
    "# Grouping and aggregation\n",
    "print(\"\\nAverage salary by city:\")\n",
    "print(df.groupby('City')['Salary'].mean())"
   ]
  },
  {
   "cell_type": "code",
   "execution_count": 21,
   "id": "02b823a9",
   "metadata": {},
   "outputs": [
    {
     "name": "stdout",
     "output_type": "stream",
     "text": [
      "\n",
      "DataFrame with new 'Salary_After_Tax' column:\n",
      "      Name  Age           City  Salary  Experience  Salary_After_Tax\n",
      "0    Alice   25       New York   50000           3           40000.0\n",
      "1      Bob   30  San Francisco   70000           7           56000.0\n",
      "2  Charlie   35    Los Angeles   80000          12           64000.0\n",
      "3    David   28        Chicago   65000           5           52000.0\n",
      "4      Eva   22         Boston   45000           1           36000.0\n"
     ]
    }
   ],
   "source": [
    "# Applying a function to a column\n",
    "df['Salary_After_Tax'] = df['Salary'].apply(lambda x: x * 0.8)\n",
    "print(\"\\nDataFrame with new 'Salary_After_Tax' column:\")\n",
    "print(df)"
   ]
  },
  {
   "cell_type": "code",
   "execution_count": 23,
   "id": "50d3b3f4",
   "metadata": {},
   "outputs": [
    {
     "name": "stdout",
     "output_type": "stream",
     "text": [
      "\n",
      "DataFrame with a missing value:\n",
      "      Name   Age           City  Salary  Experience  Salary_After_Tax\n",
      "0    Alice  25.0       New York   50000           3           40000.0\n",
      "1      Bob  30.0  San Francisco   70000           7           56000.0\n",
      "2  Charlie   NaN    Los Angeles   80000          12           64000.0\n",
      "3    David  28.0        Chicago   65000           5           52000.0\n",
      "4      Eva  22.0         Boston   45000           1           36000.0\n"
     ]
    }
   ],
   "source": [
    "# Handling missing data\n",
    "df.loc[2, 'Age'] = np.nan\n",
    "print(\"\\nDataFrame with a missing value:\")\n",
    "print(df)\n",
    "\n"
   ]
  },
  {
   "cell_type": "code",
   "execution_count": 25,
   "id": "e9b62b6e-a062-459e-88fb-e57901f9c1b3",
   "metadata": {},
   "outputs": [
    {
     "name": "stdout",
     "output_type": "stream",
     "text": [
      "\n",
      "Dropping rows with missing values:\n",
      "    Name   Age           City  Salary  Experience  Salary_After_Tax\n",
      "0  Alice  25.0       New York   50000           3           40000.0\n",
      "1    Bob  30.0  San Francisco   70000           7           56000.0\n",
      "3  David  28.0        Chicago   65000           5           52000.0\n",
      "4    Eva  22.0         Boston   45000           1           36000.0\n"
     ]
    }
   ],
   "source": [
    "print(\"\\nDropping rows with missing values:\")\n",
    "print(df.dropna())\n"
   ]
  },
  {
   "cell_type": "code",
   "execution_count": 16,
   "id": "0bd6cb53",
   "metadata": {},
   "outputs": [
    {
     "name": "stdout",
     "output_type": "stream",
     "text": [
      "\n",
      "DataFrame with renamed 'Salary' column:\n",
      "      Name   Age           City  Annual_Salary  Experience  Salary_After_Tax\n",
      "0    Alice  25.0       New York          50000           3           40000.0\n",
      "1      Bob  30.0  San Francisco          70000           7           56000.0\n",
      "2  Charlie   NaN    Los Angeles          80000          12           64000.0\n",
      "3    David  28.0        Chicago          65000           5           52000.0\n",
      "4      Eva  22.0         Boston          45000           1           36000.0\n"
     ]
    }
   ],
   "source": [
    "# Renaming columns\n",
    "df = df.rename(columns={'Salary': 'Annual_Salary'})\n",
    "print(\"\\nDataFrame with renamed 'Salary' column:\")\n",
    "print(df)"
   ]
  },
  {
   "cell_type": "code",
   "execution_count": 18,
   "id": "f3bb7f28",
   "metadata": {},
   "outputs": [
    {
     "name": "stdout",
     "output_type": "stream",
     "text": [
      "\n",
      "Selecting 'Name' and 'Age' columns:\n",
      "      Name   Age\n",
      "0    Alice  25.0\n",
      "1      Bob  30.0\n",
      "2  Charlie   NaN\n",
      "3    David  28.0\n",
      "4      Eva  22.0\n"
     ]
    }
   ],
   "source": [
    "# Selecting multiple columns\n",
    "print(\"\\nSelecting 'Name' and 'Age' columns:\")\n",
    "print(df[['Name', 'Age']])"
   ]
  },
  {
   "cell_type": "code",
   "execution_count": 20,
   "id": "eb52c06f",
   "metadata": {},
   "outputs": [
    {
     "name": "stdout",
     "output_type": "stream",
     "text": [
      "\n",
      "Using loc to select rows where Age > 28:\n",
      "  Name   Age           City\n",
      "1  Bob  30.0  San Francisco\n"
     ]
    }
   ],
   "source": [
    "# Using loc for label-based indexing\n",
    "print(\"\\nUsing loc to select rows where Age > 28:\")\n",
    "print(df.loc[df['Age'] > 28, ['Name', 'Age', 'City']])"
   ]
  },
  {
   "cell_type": "code",
   "execution_count": 22,
   "id": "5e2b8e44",
   "metadata": {},
   "outputs": [
    {
     "name": "stdout",
     "output_type": "stream",
     "text": [
      "\n",
      "Using iloc to select the first 3 rows and columns 1-3:\n",
      "    Age           City  Annual_Salary\n",
      "0  25.0       New York          50000\n",
      "1  30.0  San Francisco          70000\n",
      "2   NaN    Los Angeles          80000\n"
     ]
    }
   ],
   "source": [
    "# Using iloc for integer-based indexing\n",
    "print(\"\\nUsing iloc to select the first 3 rows and columns 1-3:\")\n",
    "print(df.iloc[:3, 1:4])"
   ]
  },
  {
   "cell_type": "code",
   "execution_count": 27,
   "id": "a62b559f",
   "metadata": {},
   "outputs": [
    {
     "name": "stdout",
     "output_type": "stream",
     "text": [
      "\n",
      "DataFrame with reset index:\n",
      "      Name   Age           City  Salary  Experience  Salary_After_Tax\n",
      "0    Alice  25.0       New York   50000           3           40000.0\n",
      "1      Bob  30.0  San Francisco   70000           7           56000.0\n",
      "2  Charlie   NaN    Los Angeles   80000          12           64000.0\n",
      "3    David  28.0        Chicago   65000           5           52000.0\n",
      "4      Eva  22.0         Boston   45000           1           36000.0\n"
     ]
    }
   ],
   "source": [
    "# Resetting index\n",
    "df_reset = df.reset_index(drop=True)\n",
    "print(\"\\nDataFrame with reset index:\")\n",
    "print(df_reset)"
   ]
  },
  {
   "cell_type": "code",
   "execution_count": 26,
   "id": "d1e58ace",
   "metadata": {},
   "outputs": [
    {
     "name": "stdout",
     "output_type": "stream",
     "text": [
      "\n",
      "Merged DataFrame:\n",
      "      Name   Age           City  Annual_Salary  Experience  Salary_After_Tax  \\\n",
      "0    Alice  25.0       New York          50000           3           40000.0   \n",
      "1      Bob  30.0  San Francisco          70000           7           56000.0   \n",
      "2  Charlie   NaN    Los Angeles          80000          12           64000.0   \n",
      "3    David  28.0        Chicago          65000           5           52000.0   \n",
      "4      Eva  22.0         Boston          45000           1           36000.0   \n",
      "\n",
      "  Department  \n",
      "0         HR  \n",
      "1         IT  \n",
      "2    Finance  \n",
      "3        NaN  \n",
      "4        NaN  \n"
     ]
    }
   ],
   "source": [
    "# Merging DataFrames\n",
    "df2 = pd.DataFrame({\n",
    "    'Name': ['Alice', 'Bob', 'Charlie', 'Frank'],\n",
    "    'Department': ['HR', 'IT', 'Finance', 'Marketing']\n",
    "})\n",
    "merged_df = pd.merge(df, df2, on='Name', how='left')\n",
    "print(\"\\nMerged DataFrame:\")\n",
    "print(merged_df)"
   ]
  },
  {
   "cell_type": "code",
   "execution_count": null,
   "id": "5c60c2e6-85ab-498d-9d1e-fef74f3e7140",
   "metadata": {},
   "outputs": [],
   "source": []
  }
 ],
 "metadata": {
  "jupytext": {
   "cell_metadata_filter": "-all",
   "main_language": "python",
   "notebook_metadata_filter": "-all"
  },
  "kernelspec": {
   "display_name": "Python 3 (ipykernel)",
   "language": "python",
   "name": "python3"
  },
  "language_info": {
   "codemirror_mode": {
    "name": "ipython",
    "version": 3
   },
   "file_extension": ".py",
   "mimetype": "text/x-python",
   "name": "python",
   "nbconvert_exporter": "python",
   "pygments_lexer": "ipython3",
   "version": "3.12.4"
  }
 },
 "nbformat": 4,
 "nbformat_minor": 5
}
