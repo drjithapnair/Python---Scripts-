{
 "cells": [
  {
   "cell_type": "code",
   "execution_count": 1,
   "id": "7c3bb055",
   "metadata": {},
   "outputs": [],
   "source": [
    "import pandas as pd\n",
    "import numpy as np"
   ]
  },
  {
   "cell_type": "code",
   "execution_count": 2,
   "id": "72220c92",
   "metadata": {},
   "outputs": [
    {
     "name": "stdout",
     "output_type": "stream",
     "text": [
      "Original Series:\n",
      "0     10\n",
      "1     20\n",
      "2     30\n",
      "3     40\n",
      "4     50\n",
      "5     60\n",
      "6     70\n",
      "7     80\n",
      "8     90\n",
      "9    100\n",
      "dtype: int64\n"
     ]
    }
   ],
   "source": [
    "# Create a sample Series\n",
    "s = pd.Series([10, 20, 30, 40, 50, 60, 70, 80, 90, 100])\n",
    "print(\"Original Series:\")\n",
    "print(s)"
   ]
  },
  {
   "cell_type": "code",
   "execution_count": 3,
   "id": "62a7bbc4",
   "metadata": {},
   "outputs": [
    {
     "name": "stdout",
     "output_type": "stream",
     "text": [
      "\n",
      "Basic statistical aggregations:\n",
      "Sum: 550\n",
      "Mean: 55.0\n",
      "Median: 55.0\n",
      "Standard Deviation: 30.276503540974915\n",
      "Variance: 916.6666666666666\n",
      "Minimum: 10\n",
      "Maximum: 100\n"
     ]
    }
   ],
   "source": [
    "# Basic statistical aggregations\n",
    "print(\"\\nBasic statistical aggregations:\")\n",
    "print(\"Sum:\", s.sum())\n",
    "print(\"Mean:\", s.mean())\n",
    "print(\"Median:\", s.median())\n",
    "print(\"Standard Deviation:\", s.std())\n",
    "print(\"Variance:\", s.var())\n",
    "print(\"Minimum:\", s.min())\n",
    "print(\"Maximum:\", s.max())"
   ]
  },
  {
   "cell_type": "code",
   "execution_count": 4,
   "id": "d88eedd3",
   "metadata": {},
   "outputs": [
    {
     "name": "stdout",
     "output_type": "stream",
     "text": [
      "\n",
      "Count and unique values:\n",
      "Count: 10\n",
      "Unique values: 10\n",
      "Value counts:\n",
      " 10     1\n",
      "20     1\n",
      "30     1\n",
      "40     1\n",
      "50     1\n",
      "60     1\n",
      "70     1\n",
      "80     1\n",
      "90     1\n",
      "100    1\n",
      "Name: count, dtype: int64\n"
     ]
    }
   ],
   "source": [
    "# Count and unique values\n",
    "print(\"\\nCount and unique values:\")\n",
    "print(\"Count:\", s.count())\n",
    "print(\"Unique values:\", s.nunique())\n",
    "print(\"Value counts:\\n\", s.value_counts())"
   ]
  },
  {
   "cell_type": "code",
   "execution_count": 5,
   "id": "805d7c15",
   "metadata": {},
   "outputs": [
    {
     "name": "stdout",
     "output_type": "stream",
     "text": [
      "\n",
      "Descriptive statistics:\n",
      "count     10.000000\n",
      "mean      55.000000\n",
      "std       30.276504\n",
      "min       10.000000\n",
      "25%       32.500000\n",
      "50%       55.000000\n",
      "75%       77.500000\n",
      "max      100.000000\n",
      "dtype: float64\n"
     ]
    }
   ],
   "source": [
    "# Descriptive statistics\n",
    "print(\"\\nDescriptive statistics:\")\n",
    "print(s.describe())"
   ]
  },
  {
   "cell_type": "code",
   "execution_count": 6,
   "id": "49c471b2",
   "metadata": {},
   "outputs": [
    {
     "name": "stdout",
     "output_type": "stream",
     "text": [
      "\n",
      "Cumulative aggregations:\n",
      "Cumulative sum:\n",
      " 0     10\n",
      "1     30\n",
      "2     60\n",
      "3    100\n",
      "4    150\n",
      "5    210\n",
      "6    280\n",
      "7    360\n",
      "8    450\n",
      "9    550\n",
      "dtype: int64\n",
      "Cumulative maximum:\n",
      " 0     10\n",
      "1     20\n",
      "2     30\n",
      "3     40\n",
      "4     50\n",
      "5     60\n",
      "6     70\n",
      "7     80\n",
      "8     90\n",
      "9    100\n",
      "dtype: int64\n",
      "Cumulative minimum:\n",
      " 0    10\n",
      "1    10\n",
      "2    10\n",
      "3    10\n",
      "4    10\n",
      "5    10\n",
      "6    10\n",
      "7    10\n",
      "8    10\n",
      "9    10\n",
      "dtype: int64\n"
     ]
    }
   ],
   "source": [
    "# Cumulative aggregations\n",
    "print(\"\\nCumulative aggregations:\")\n",
    "print(\"Cumulative sum:\\n\", s.cumsum())\n",
    "print(\"Cumulative maximum:\\n\", s.cummax())\n",
    "print(\"Cumulative minimum:\\n\", s.cummin())"
   ]
  },
  {
   "cell_type": "code",
   "execution_count": 7,
   "id": "c02b0d98",
   "metadata": {},
   "outputs": [
    {
     "name": "stdout",
     "output_type": "stream",
     "text": [
      "\n",
      "Custom aggregation:\n",
      "sum         550.0\n",
      "mean         55.0\n",
      "<lambda>     90.0\n",
      "dtype: float64\n"
     ]
    }
   ],
   "source": [
    "# Custom aggregation using agg()\n",
    "print(\"\\nCustom aggregation:\")\n",
    "custom_agg = s.agg(['sum', 'mean', lambda x: x.max() - x.min()])\n",
    "print(custom_agg)"
   ]
  },
  {
   "cell_type": "code",
   "execution_count": 8,
   "id": "463ac020",
   "metadata": {},
   "outputs": [
    {
     "name": "stdout",
     "output_type": "stream",
     "text": [
      "\n",
      "Grouped Series:\n",
      "A    1\n",
      "A    2\n",
      "B    3\n",
      "B    4\n",
      "C    5\n",
      "C    6\n",
      "dtype: int64\n",
      "\n",
      "Grouped sum:\n",
      "A     3\n",
      "B     7\n",
      "C    11\n",
      "dtype: int64\n"
     ]
    }
   ],
   "source": [
    "# Aggregation with grouping\n",
    "s_grouped = pd.Series([1, 2, 3, 4, 5, 6], index=['A', 'A', 'B', 'B', 'C', 'C'])\n",
    "print(\"\\nGrouped Series:\")\n",
    "print(s_grouped)\n",
    "print(\"\\nGrouped sum:\")\n",
    "print(s_grouped.groupby(level=0).sum())"
   ]
  },
  {
   "cell_type": "code",
   "execution_count": 9,
   "id": "bea24788",
   "metadata": {},
   "outputs": [
    {
     "name": "stdout",
     "output_type": "stream",
     "text": [
      "\n",
      "Conditional aggregation:\n",
      "Sum of values greater than 50: 400\n"
     ]
    }
   ],
   "source": [
    "# Aggregation with conditions\n",
    "print(\"\\nConditional aggregation:\")\n",
    "print(\"Sum of values greater than 50:\", s[s > 50].sum())"
   ]
  },
  {
   "cell_type": "code",
   "execution_count": 10,
   "id": "ad103979",
   "metadata": {},
   "outputs": [
    {
     "name": "stdout",
     "output_type": "stream",
     "text": [
      "\n",
      "Rolling window aggregation (window size 3):\n",
      "0     NaN\n",
      "1     NaN\n",
      "2    20.0\n",
      "3    30.0\n",
      "4    40.0\n",
      "5    50.0\n",
      "6    60.0\n",
      "7    70.0\n",
      "8    80.0\n",
      "9    90.0\n",
      "dtype: float64\n"
     ]
    }
   ],
   "source": [
    "# Rolling window aggregation\n",
    "print(\"\\nRolling window aggregation (window size 3):\")\n",
    "print(s.rolling(window=3).mean())"
   ]
  },
  {
   "cell_type": "code",
   "execution_count": 11,
   "id": "35fc7f70",
   "metadata": {},
   "outputs": [
    {
     "name": "stdout",
     "output_type": "stream",
     "text": [
      "\n",
      "Expanding window aggregation:\n",
      "0    10.0\n",
      "1    15.0\n",
      "2    20.0\n",
      "3    25.0\n",
      "4    30.0\n",
      "5    35.0\n",
      "6    40.0\n",
      "7    45.0\n",
      "8    50.0\n",
      "9    55.0\n",
      "dtype: float64\n"
     ]
    }
   ],
   "source": [
    "# Expanding window aggregation\n",
    "print(\"\\nExpanding window aggregation:\")\n",
    "print(s.expanding().mean())"
   ]
  },
  {
   "cell_type": "code",
   "execution_count": 12,
   "id": "240fa1d8",
   "metadata": {},
   "outputs": [
    {
     "name": "stdout",
     "output_type": "stream",
     "text": [
      "\n",
      "Series with NaN:\n",
      "0    1.0\n",
      "1    2.0\n",
      "2    NaN\n",
      "3    4.0\n",
      "4    5.0\n",
      "dtype: float64\n",
      "Sum (including NaN): 12.0\n",
      "Sum (excluding NaN): 12.0\n"
     ]
    }
   ],
   "source": [
    "# Aggregation with NaN handling\n",
    "s_with_nan = pd.Series([1, 2, np.nan, 4, 5])\n",
    "print(\"\\nSeries with NaN:\")\n",
    "print(s_with_nan)\n",
    "print(\"Sum (including NaN):\", s_with_nan.sum())\n",
    "print(\"Sum (excluding NaN):\", s_with_nan.sum(skipna=True))"
   ]
  }
 ],
 "metadata": {
  "jupytext": {
   "cell_metadata_filter": "-all",
   "main_language": "python",
   "notebook_metadata_filter": "-all"
  },
  "kernelspec": {
   "display_name": "Python 3 (ipykernel)",
   "language": "python",
   "name": "python3"
  },
  "language_info": {
   "codemirror_mode": {
    "name": "ipython",
    "version": 3
   },
   "file_extension": ".py",
   "mimetype": "text/x-python",
   "name": "python",
   "nbconvert_exporter": "python",
   "pygments_lexer": "ipython3",
   "version": "3.12.4"
  }
 },
 "nbformat": 4,
 "nbformat_minor": 5
}
