{
 "cells": [
  {
   "cell_type": "code",
   "execution_count": 3,
   "id": "e47c609b",
   "metadata": {},
   "outputs": [],
   "source": [
    "import pandas as pd\n",
    "import numpy as np"
   ]
  },
  {
   "cell_type": "code",
   "execution_count": null,
   "id": "741a8f79-124c-4df8-ae6e-c3c6db921dda",
   "metadata": {},
   "outputs": [],
   "source": [
    "pip install pandas"
   ]
  },
  {
   "cell_type": "code",
   "execution_count": 5,
   "id": "30800368",
   "metadata": {},
   "outputs": [
    {
     "name": "stdout",
     "output_type": "stream",
     "text": [
      "Series from list:\n",
      "0    1\n",
      "1    2\n",
      "2    3\n",
      "3    4\n",
      "4    5\n",
      "dtype: int64\n"
     ]
    }
   ],
   "source": [
    "# Method 1: From a list\n",
    "data = [1, 2, 3, 4, 5]\n",
    "s1 = pd.Series(data)\n",
    "print(\"Series from list:\")\n",
    "print(s1)"
   ]
  },
  {
   "cell_type": "code",
   "execution_count": 7,
   "id": "2aade969",
   "metadata": {},
   "outputs": [
    {
     "name": "stdout",
     "output_type": "stream",
     "text": [
      "\n",
      "Series from NumPy array:\n",
      "0    1\n",
      "1    2\n",
      "2    3\n",
      "3    4\n",
      "4    5\n",
      "dtype: int32\n"
     ]
    }
   ],
   "source": [
    "# Method 2: From a NumPy array\n",
    "arr = np.array([1, 2, 3, 4, 5])\n",
    "s2 = pd.Series(arr)\n",
    "print(\"\\nSeries from NumPy array:\")\n",
    "print(s2)"
   ]
  },
  {
   "cell_type": "code",
   "execution_count": 9,
   "id": "35b79f9a",
   "metadata": {},
   "outputs": [
    {
     "name": "stdout",
     "output_type": "stream",
     "text": [
      "\n",
      "Series from dictionary:\n",
      "a    1\n",
      "b    2\n",
      "c    3\n",
      "d    4\n",
      "e    5\n",
      "dtype: int64\n"
     ]
    }
   ],
   "source": [
    "# Method 3: From a dictionary\n",
    "dict_data = {'a': 1, 'b': 2, 'c': 3, 'd': 4, 'e': 5}\n",
    "s3 = pd.Series(dict_data)\n",
    "print(\"\\nSeries from dictionary:\")\n",
    "print(s3)"
   ]
  },
  {
   "cell_type": "code",
   "execution_count": 11,
   "id": "ff9b3bac",
   "metadata": {},
   "outputs": [
    {
     "name": "stdout",
     "output_type": "stream",
     "text": [
      "\n",
      "Series with custom index:\n",
      "s    1\n",
      "t    2\n",
      "u    3\n",
      "v    4\n",
      "w    5\n",
      "dtype: int64\n"
     ]
    }
   ],
   "source": [
    "# Method 4: With custom index\n",
    "s4 = pd.Series([1, 2, 3, 4, 5], index=['s', 't', 'u', 'v', 'w'])\n",
    "print(\"\\nSeries with custom index:\")\n",
    "print(s4)"
   ]
  },
  {
   "cell_type": "code",
   "execution_count": 15,
   "id": "b5f62968",
   "metadata": {},
   "outputs": [
    {
     "name": "stdout",
     "output_type": "stream",
     "text": [
      "\n",
      "Series with scalar value:\n",
      "a    5\n",
      "b    5\n",
      "c    5\n",
      "d    5\n",
      "e    5\n",
      "dtype: int64\n"
     ]
    }
   ],
   "source": [
    "# Method 5: With scalar value\n",
    "s5 = pd.Series(5, index=['a', 'b', 'c', 'd', 'e'])\n",
    "print(\"\\nSeries with scalar value:\")\n",
    "print(s5)"
   ]
  },
  {
   "cell_type": "code",
   "execution_count": 17,
   "id": "3a67023c",
   "metadata": {},
   "outputs": [
    {
     "name": "stdout",
     "output_type": "stream",
     "text": [
      "\n",
      "Accessing elements:\n",
      "First element of s4: 1\n",
      "Multiple elements of s4: s    1\n",
      "t    2\n",
      "w    5\n",
      "dtype: int64\n"
     ]
    }
   ],
   "source": [
    "# Accessing elements\n",
    "print(\"\\nAccessing elements:\")\n",
    "print(\"First element of s4:\", s4['s'])\n",
    "print(\"Multiple elements of s4:\", s4[['s', 't', 'w']])"
   ]
  },
  {
   "cell_type": "code",
   "execution_count": 23,
   "id": "7a18a8a6",
   "metadata": {},
   "outputs": [
    {
     "name": "stdout",
     "output_type": "stream",
     "text": [
      "\n",
      "Basic operations:\n",
      "Mean of s4: 3.0\n",
      "Sum of s4: 15\n",
      "s4 + 2:\n",
      " s    3\n",
      "t    4\n",
      "u    5\n",
      "v    6\n",
      "w    7\n",
      "dtype: int64\n",
      "Standard deviation of s4: 1.5811388300841898\n"
     ]
    }
   ],
   "source": [
    "# Basic operations\n",
    "print(\"\\nBasic operations:\")\n",
    "print(\"Mean of s4:\", s4.mean())\n",
    "print(\"Sum of s4:\", s4.sum())\n",
    "print(\"s4 + 2:\\n\", s4 + 2)\n",
    "print(\"Standard deviation of s4:\", s4.std())\n"
   ]
  },
  {
   "cell_type": "code",
   "execution_count": null,
   "id": "f8eeebe5-7b0f-4bc5-a42f-bf76918bd9e4",
   "metadata": {},
   "outputs": [],
   "source": []
  }
 ],
 "metadata": {
  "jupytext": {
   "cell_metadata_filter": "-all",
   "main_language": "python",
   "notebook_metadata_filter": "-all"
  },
  "kernelspec": {
   "display_name": "Python 3 (ipykernel)",
   "language": "python",
   "name": "python3"
  },
  "language_info": {
   "codemirror_mode": {
    "name": "ipython",
    "version": 3
   },
   "file_extension": ".py",
   "mimetype": "text/x-python",
   "name": "python",
   "nbconvert_exporter": "python",
   "pygments_lexer": "ipython3",
   "version": "3.12.4"
  }
 },
 "nbformat": 4,
 "nbformat_minor": 5
}
