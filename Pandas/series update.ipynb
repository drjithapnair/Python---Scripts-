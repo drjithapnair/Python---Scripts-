{
 "cells": [
  {
   "cell_type": "code",
   "execution_count": 1,
   "id": "1164cba0",
   "metadata": {},
   "outputs": [],
   "source": [
    "import pandas as pd\n",
    "import numpy as np"
   ]
  },
  {
   "cell_type": "code",
   "execution_count": 5,
   "id": "8073adac",
   "metadata": {},
   "outputs": [
    {
     "name": "stdout",
     "output_type": "stream",
     "text": [
      "Original Series:\n",
      "a    1\n",
      "b    2\n",
      "c    3\n",
      "d    4\n",
      "e    5\n",
      "dtype: int64\n"
     ]
    }
   ],
   "source": [
    "# Create a sample Series\n",
    "s = pd.Series([1, 2, 3, 4, 5], index=['a', 'b', 'c', 'd', 'e'])\n",
    "print(\"Original Series:\")\n",
    "print(s)"
   ]
  },
  {
   "cell_type": "code",
   "execution_count": 7,
   "id": "11caf356",
   "metadata": {},
   "outputs": [
    {
     "name": "stdout",
     "output_type": "stream",
     "text": [
      "\n",
      "1. After updating 'c':\n",
      "a     1\n",
      "b     2\n",
      "c    10\n",
      "d     4\n",
      "e     5\n",
      "dtype: int64\n"
     ]
    }
   ],
   "source": [
    "# 1. Updating a single value by label\n",
    "s['c'] = 10\n",
    "print(\"\\n1. After updating 'c':\")\n",
    "print(s)"
   ]
  },
  {
   "cell_type": "code",
   "execution_count": 9,
   "id": "b9e1143d",
   "metadata": {},
   "outputs": [
    {
     "name": "stdout",
     "output_type": "stream",
     "text": [
      "\n",
      "2. After updating position 1:\n",
      "a     1\n",
      "b    20\n",
      "c    10\n",
      "d     4\n",
      "e     5\n",
      "dtype: int64\n"
     ]
    }
   ],
   "source": [
    "# 2. Updating a single value by position\n",
    "s.iloc[1] = 20\n",
    "print(\"\\n2. After updating position 1:\")\n",
    "print(s)"
   ]
  },
  {
   "cell_type": "code",
   "execution_count": 11,
   "id": "7fd63cd6",
   "metadata": {},
   "outputs": [
    {
     "name": "stdout",
     "output_type": "stream",
     "text": [
      "\n",
      "3. After updating 'a' and 'e':\n",
      "a    100\n",
      "b     20\n",
      "c     10\n",
      "d      4\n",
      "e    500\n",
      "dtype: int64\n"
     ]
    }
   ],
   "source": [
    "# 3. Updating multiple values\n",
    "s[['a', 'e']] = [100, 500]\n",
    "print(\"\\n3. After updating 'a' and 'e':\")\n",
    "print(s)"
   ]
  },
  {
   "cell_type": "code",
   "execution_count": 13,
   "id": "09d90ee6",
   "metadata": {},
   "outputs": [
    {
     "name": "stdout",
     "output_type": "stream",
     "text": [
      "\n",
      "4. After capping values at 50:\n",
      "a    50\n",
      "b    20\n",
      "c    10\n",
      "d     4\n",
      "e    50\n",
      "dtype: int64\n"
     ]
    }
   ],
   "source": [
    "# 4. Updating using a condition\n",
    "s[s > 50] = 50\n",
    "print(\"\\n4. After capping values at 50:\")\n",
    "print(s)"
   ]
  },
  {
   "cell_type": "code",
   "execution_count": 19,
   "id": "194760e5",
   "metadata": {},
   "outputs": [
    {
     "name": "stdout",
     "output_type": "stream",
     "text": [
      "\n",
      "5. After doubling  all values:\n",
      "a    5000.0\n",
      "b     800.0\n",
      "c     200.0\n",
      "d      32.0\n",
      "e    5000.0\n",
      "dtype: float64\n"
     ]
    }
   ],
   "source": [
    "# 5. Applying a function to update values\n",
    "s = s.apply(lambda x: x/2)\n",
    "print(\"\\n5. After doubling  all values:\")\n",
    "print(s)"
   ]
  },
  {
   "cell_type": "code",
   "execution_count": 21,
   "id": "d2a85beb",
   "metadata": {},
   "outputs": [
    {
     "name": "stdout",
     "output_type": "stream",
     "text": [
      "\n",
      "6. After adding a new element 'f':\n",
      "a    5000.0\n",
      "b     800.0\n",
      "c     200.0\n",
      "d      32.0\n",
      "e    5000.0\n",
      "f     600.0\n",
      "dtype: float64\n"
     ]
    }
   ],
   "source": [
    "# 6. Adding a new element\n",
    "s['f'] = 600\n",
    "print(\"\\n6. After adding a new element 'f':\")\n",
    "print(s)"
   ]
  },
  {
   "cell_type": "code",
   "execution_count": 23,
   "id": "4a0e2966",
   "metadata": {},
   "outputs": [
    {
     "name": "stdout",
     "output_type": "stream",
     "text": [
      "\n",
      "7. After adding 5 to all elements:\n",
      "a    5005.0\n",
      "b     805.0\n",
      "c     205.0\n",
      "d      37.0\n",
      "e    5005.0\n",
      "f     605.0\n",
      "dtype: float64\n"
     ]
    }
   ],
   "source": [
    "# 7. Updating using arithmetic operations\n",
    "s += 5\n",
    "print(\"\\n7. After adding 5 to all elements:\")\n",
    "print(s)"
   ]
  },
  {
   "cell_type": "code",
   "execution_count": 25,
   "id": "e79c6c2a",
   "metadata": {},
   "outputs": [
    {
     "name": "stdout",
     "output_type": "stream",
     "text": [
      "\n",
      "8. After applying square root to all elements:\n",
      "a    70.746025\n",
      "b    28.372522\n",
      "c    14.317821\n",
      "d     6.082763\n",
      "e    70.746025\n",
      "f    24.596748\n",
      "dtype: float64\n"
     ]
    }
   ],
   "source": [
    "# 8. Updating using numpy functions\n",
    "s = pd.Series(np.sqrt(s))\n",
    "print(\"\\n8. After applying square root to all elements:\")\n",
    "print(s)"
   ]
  },
  {
   "cell_type": "code",
   "execution_count": 27,
   "id": "b1e0c32f",
   "metadata": {},
   "outputs": [
    {
     "name": "stdout",
     "output_type": "stream",
     "text": [
      "\n",
      "9. After updating 'b', 'c', and 'd':\n",
      "a    70.746025\n",
      "b    25.000000\n",
      "c    35.000000\n",
      "d    45.000000\n",
      "e    70.746025\n",
      "f    24.596748\n",
      "dtype: float64\n"
     ]
    }
   ],
   "source": [
    "# 9. Updating specific elements with loc\n",
    "s.loc['b':'d'] = [25, 35, 45]\n",
    "print(\"\\n9. After updating 'b', 'c', and 'd':\")\n",
    "print(s)"
   ]
  },
  {
   "cell_type": "code",
   "execution_count": 29,
   "id": "5810952d",
   "metadata": {},
   "outputs": [
    {
     "name": "stdout",
     "output_type": "stream",
     "text": [
      "\n",
      "10. After replacing the value of 'a':\n",
      "a    1000.000000\n",
      "b      25.000000\n",
      "c      35.000000\n",
      "d      45.000000\n",
      "e    1000.000000\n",
      "f      24.596748\n",
      "dtype: float64\n"
     ]
    }
   ],
   "source": [
    "# 10. Using replace method\n",
    "s = s.replace({s['a']: 1000})\n",
    "print(\"\\n10. After replacing the value of 'a':\")\n",
    "print(s)"
   ]
  },
  {
   "cell_type": "code",
   "execution_count": 31,
   "id": "0a1d60ba",
   "metadata": {},
   "outputs": [
    {
     "name": "stdout",
     "output_type": "stream",
     "text": [
      "\n",
      "11. After subtracting 10 from values greater than 10:\n",
      "a    990.000000\n",
      "b     15.000000\n",
      "c     25.000000\n",
      "d     35.000000\n",
      "e    990.000000\n",
      "f     14.596748\n",
      "dtype: float64\n"
     ]
    }
   ],
   "source": [
    "# 11. Updating using mask\n",
    "mask = s > 10\n",
    "s[mask] = s[mask] - 10\n",
    "print(\"\\n11. After subtracting 10 from values greater than 10:\")\n",
    "print(s)"
   ]
  },
  {
   "cell_type": "code",
   "execution_count": null,
   "id": "4ccf9ffb-60ee-477b-be12-dbae2a44b70f",
   "metadata": {},
   "outputs": [],
   "source": []
  }
 ],
 "metadata": {
  "jupytext": {
   "cell_metadata_filter": "-all",
   "main_language": "python",
   "notebook_metadata_filter": "-all"
  },
  "kernelspec": {
   "display_name": "Python 3 (ipykernel)",
   "language": "python",
   "name": "python3"
  },
  "language_info": {
   "codemirror_mode": {
    "name": "ipython",
    "version": 3
   },
   "file_extension": ".py",
   "mimetype": "text/x-python",
   "name": "python",
   "nbconvert_exporter": "python",
   "pygments_lexer": "ipython3",
   "version": "3.12.4"
  }
 },
 "nbformat": 4,
 "nbformat_minor": 5
}
