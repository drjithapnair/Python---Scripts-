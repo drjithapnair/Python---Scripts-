{
 "cells": [
  {
   "cell_type": "code",
   "execution_count": 2,
   "id": "60740d6d",
   "metadata": {},
   "outputs": [],
   "source": [
    "import numpy as np"
   ]
  },
  {
   "cell_type": "code",
   "execution_count": 4,
   "id": "8e73d0d8",
   "metadata": {},
   "outputs": [
    {
     "name": "stdout",
     "output_type": "stream",
     "text": [
      "1. np.array()\n",
      "[1 2 3 4 5]\n"
     ]
    }
   ],
   "source": [
    "# 1. np.array()\n",
    "print(\"1. np.array()\")\n",
    "a = np.array([1, 2, 3, 4, 5])\n",
    "print(a)"
   ]
  },
  {
   "cell_type": "code",
   "execution_count": 8,
   "id": "0a4965f3",
   "metadata": {},
   "outputs": [
    {
     "name": "stdout",
     "output_type": "stream",
     "text": [
      "\n",
      "2. np.zeros()\n",
      "[[0. 0. 0.]\n",
      " [0. 0. 0.]\n",
      " [0. 0. 0.]\n",
      " [0. 0. 0.]]\n"
     ]
    }
   ],
   "source": [
    "# 2. np.zeros()\n",
    "print(\"\\n2. np.zeros()\")\n",
    "b = np.zeros((4, 3))\n",
    "print(b)"
   ]
  },
  {
   "cell_type": "code",
   "execution_count": 10,
   "id": "7222eeb2",
   "metadata": {},
   "outputs": [
    {
     "name": "stdout",
     "output_type": "stream",
     "text": [
      "\n",
      "3. np.ones()\n",
      "[[1. 1. 1. 1.]\n",
      " [1. 1. 1. 1.]\n",
      " [1. 1. 1. 1.]]\n"
     ]
    }
   ],
   "source": [
    "# 3. np.ones()\n",
    "print(\"\\n3. np.ones()\")\n",
    "c = np.ones((3, 4))\n",
    "print(c)"
   ]
  },
  {
   "cell_type": "code",
   "execution_count": 16,
   "id": "81a3cbc1",
   "metadata": {},
   "outputs": [
    {
     "name": "stdout",
     "output_type": "stream",
     "text": [
      "\n",
      "4. np.arange()\n",
      "[50 57 64 71 78 85 92 99]\n"
     ]
    }
   ],
   "source": [
    "# 4. np.arange()\n",
    "print(\"\\n4. np.arange()\")\n",
    "d = np.arange(50, 100, 7 )\n",
    "print(d)"
   ]
  },
  {
   "cell_type": "code",
   "execution_count": 22,
   "id": "1b817624",
   "metadata": {},
   "outputs": [
    {
     "name": "stdout",
     "output_type": "stream",
     "text": [
      "\n",
      "5. np.linspace()\n",
      "[ 0.          3.33333333  6.66666667 10.        ]\n"
     ]
    }
   ],
   "source": [
    "# 5. np.linspace()\n",
    "print(\"\\n5. np.linspace()\")\n",
    "e = np.linspace(0, 10, 4)\n",
    "print(e)"
   ]
  },
  {
   "cell_type": "code",
   "execution_count": 28,
   "id": "70a7c822",
   "metadata": {},
   "outputs": [
    {
     "name": "stdout",
     "output_type": "stream",
     "text": [
      "\n",
      "6. np.random.rand()\n",
      "[[0.24967097 0.92391916 0.53694727]\n",
      " [0.53657064 0.30712382 0.96145359]]\n"
     ]
    }
   ],
   "source": [
    "# 6. np.random.rand()\n",
    "print(\"\\n6. np.random.rand()\")\n",
    "f = np.random.rand(2, 3)\n",
    "print(f)"
   ]
  },
  {
   "cell_type": "code",
   "execution_count": 19,
   "id": "67afae76",
   "metadata": {},
   "outputs": [
    {
     "name": "stdout",
     "output_type": "stream",
     "text": [
      "\n",
      "7. reshape()\n",
      "[[0 1 2]\n",
      " [3 4 5]]\n"
     ]
    }
   ],
   "source": [
    "# 7. reshape()\n",
    "print(\"\\n7. reshape()\")\n",
    "g = np.arange(6).reshape(2, 3)\n",
    "print(g)"
   ]
  },
  {
   "cell_type": "code",
   "execution_count": 21,
   "id": "4b3f772e",
   "metadata": {},
   "outputs": [
    {
     "name": "stdout",
     "output_type": "stream",
     "text": [
      "\n",
      "8. flatten()\n",
      "[1 2 3 4]\n"
     ]
    }
   ],
   "source": [
    "# 8. flatten()\n",
    "print(\"\\n8. flatten()\")\n",
    "h = np.array([[1, 2], [3, 4]])\n",
    "print(h.flatten())"
   ]
  },
  {
   "cell_type": "code",
   "execution_count": 23,
   "id": "41f88b4d",
   "metadata": {},
   "outputs": [
    {
     "name": "stdout",
     "output_type": "stream",
     "text": [
      "\n",
      "9. transpose()\n",
      "[[1 3]\n",
      " [2 4]]\n"
     ]
    }
   ],
   "source": [
    "# 9. transpose()\n",
    "print(\"\\n9. transpose()\")\n",
    "i = np.array([[1, 2], [3, 4]])\n",
    "print(i.transpose())"
   ]
  },
  {
   "cell_type": "code",
   "execution_count": 32,
   "id": "8e621416",
   "metadata": {},
   "outputs": [
    {
     "name": "stdout",
     "output_type": "stream",
     "text": [
      "\n",
      "10. concatenate()\n",
      "[1 2 3 4 5 6]\n",
      "[4 5 6 1 2 3]\n"
     ]
    }
   ],
   "source": [
    "# 10. concatenate()\n",
    "print(\"\\n10. concatenate()\")\n",
    "j1 = np.array([1, 2, 3])\n",
    "j2 = np.array([4, 5, 6])\n",
    "print(np.concatenate((j1, j2)))\n",
    "print(np.concatenate((j2, j1)))"
   ]
  },
  {
   "cell_type": "code",
   "execution_count": 36,
   "id": "31e3b13b",
   "metadata": {},
   "outputs": [
    {
     "name": "stdout",
     "output_type": "stream",
     "text": [
      "\n",
      "11. split()\n",
      "[array([1, 2, 3]), array([4, 5, 6])]\n"
     ]
    }
   ],
   "source": [
    "# 11. split()\n",
    "print(\"\\n11. split()\")\n",
    "k = np.array([1, 2, 3, 4, 5, 6])\n",
    "print(np.split(k, 2))"
   ]
  },
  {
   "cell_type": "code",
   "execution_count": null,
   "id": "edde6942-ac47-42ff-8b09-1bea56104305",
   "metadata": {},
   "outputs": [],
   "source": []
  }
 ],
 "metadata": {
  "jupytext": {
   "cell_metadata_filter": "-all",
   "main_language": "python",
   "notebook_metadata_filter": "-all"
  },
  "kernelspec": {
   "display_name": "Python 3 (ipykernel)",
   "language": "python",
   "name": "python3"
  },
  "language_info": {
   "codemirror_mode": {
    "name": "ipython",
    "version": 3
   },
   "file_extension": ".py",
   "mimetype": "text/x-python",
   "name": "python",
   "nbconvert_exporter": "python",
   "pygments_lexer": "ipython3",
   "version": "3.12.4"
  }
 },
 "nbformat": 4,
 "nbformat_minor": 5
}
