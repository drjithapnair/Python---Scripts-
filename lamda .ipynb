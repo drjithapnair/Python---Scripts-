{
 "cells": [
  {
   "cell_type": "markdown",
   "id": "2eaef583-fc99-4de3-838b-7f08c52f4c74",
   "metadata": {},
   "source": [
    "lambda arguments: expression"
   ]
  },
  {
   "cell_type": "code",
   "execution_count": 1,
   "id": "d5724215-741e-4bc3-a9b7-388f97a26eed",
   "metadata": {},
   "outputs": [],
   "source": [
    "add = lambda x, y: x + y"
   ]
  },
  {
   "cell_type": "code",
   "execution_count": 5,
   "id": "c14bce52-d05f-4c43-8785-22dbbb27404c",
   "metadata": {},
   "outputs": [
    {
     "name": "stdout",
     "output_type": "stream",
     "text": [
      "53\n"
     ]
    }
   ],
   "source": [
    "print(add(3,50))"
   ]
  },
  {
   "cell_type": "code",
   "execution_count": 13,
   "id": "24d36cf3-4f95-44fd-b8d9-defa3846cc02",
   "metadata": {},
   "outputs": [],
   "source": [
    "num = [11,12,13,14,15]"
   ]
  },
  {
   "cell_type": "code",
   "execution_count": 15,
   "id": "5fc48d44-df02-4e32-bb0d-ecafa4060e29",
   "metadata": {},
   "outputs": [],
   "source": [
    "square = list(map(lambda x: x**2, num))"
   ]
  },
  {
   "cell_type": "code",
   "execution_count": 17,
   "id": "ff6e3a84-5e06-47e3-bb7c-c9e304fd968c",
   "metadata": {},
   "outputs": [
    {
     "name": "stdout",
     "output_type": "stream",
     "text": [
      "[121, 144, 169, 196, 225]\n"
     ]
    }
   ],
   "source": [
    "print(square)"
   ]
  },
  {
   "cell_type": "code",
   "execution_count": null,
   "id": "fb9d73a9-d16a-4ebc-a650-d76234032d24",
   "metadata": {},
   "outputs": [],
   "source": []
  }
 ],
 "metadata": {
  "kernelspec": {
   "display_name": "Python 3 (ipykernel)",
   "language": "python",
   "name": "python3"
  },
  "language_info": {
   "codemirror_mode": {
    "name": "ipython",
    "version": 3
   },
   "file_extension": ".py",
   "mimetype": "text/x-python",
   "name": "python",
   "nbconvert_exporter": "python",
   "pygments_lexer": "ipython3",
   "version": "3.12.4"
  }
 },
 "nbformat": 4,
 "nbformat_minor": 5
}
